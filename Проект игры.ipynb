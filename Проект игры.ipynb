{
 "cells": [
  {
   "cell_type": "markdown",
   "metadata": {},
   "source": [
    "### Исследование игр"
   ]
  },
  {
   "cell_type": "markdown",
   "metadata": {},
   "source": [
    "**Название проекта**\n",
    "\n",
    "Поиск закономерностей определяющих успешность игры\n",
    "_____\n",
    "**Описание исследования.**\n",
    "\n",
    "Мы проанализируем датасет с продажами игр по регионам. Для этого мы выполним предобработку даннных, чтобы отчистить таблицу от дубликатов и лишних данных, так же проанализируем пропуски. После проведем исследовательский анализ данных, более детально рассмотрим суммы продаж игр в разрезе года, жанра и региона. Составиим портрет пользователя каждого региона, чтобы определить популярные жанры и категории игр. На следующем этапе проверим несколько гипотез и после Вас будет ждать общий вывод по всему исследованию.\n",
    "_____\n",
    "**Цель исследования.**\n",
    "    \n",
    "Провести анализ продаж игр, чтобы определить потенциально выгодные продукты.\n",
    "   \n",
    "_____\n",
    "**Задачи исследования.**\n",
    "\n",
    "Определить факторы, которые влияют на успешность продаж.\n",
    "_____\n",
    "**Исходные данные.**\n",
    "    \n",
    "В нашем распоряжении датасет с 1980 по 2016 год.\n",
    "______\n",
    "\n",
    "**Данное исследование разделим на несколько частей.**\n",
    "\n",
    "* [Откроем файл с данными и изучим общую информацию.](#id1)\n",
    "* [Предобработка данных](#id2)\n",
    "* [Исследовательский анализ данных](#id3)\n",
    "* [Портрет пользователя каждого региона](#id4)\n",
    "* [Проверка гипотез](#id5)\n",
    "* [Вывод](#id6)"
   ]
  },
  {
   "cell_type": "markdown",
   "metadata": {},
   "source": [
    "# Откроем файл с данными и изучим общую информацию. "
   ]
  },
  {
   "cell_type": "code",
   "execution_count": 1,
   "metadata": {},
   "outputs": [],
   "source": [
    "import pandas as pd \n",
    "import matplotlib.pyplot as plt\n",
    "import seaborn as sns\n",
    "from scipy import stats as st\n",
    "import numpy as np"
   ]
  },
  {
   "cell_type": "code",
   "execution_count": 2,
   "metadata": {},
   "outputs": [
    {
     "data": {
      "text/html": [
       "<div>\n",
       "<style scoped>\n",
       "    .dataframe tbody tr th:only-of-type {\n",
       "        vertical-align: middle;\n",
       "    }\n",
       "\n",
       "    .dataframe tbody tr th {\n",
       "        vertical-align: top;\n",
       "    }\n",
       "\n",
       "    .dataframe thead th {\n",
       "        text-align: right;\n",
       "    }\n",
       "</style>\n",
       "<table border=\"1\" class=\"dataframe\">\n",
       "  <thead>\n",
       "    <tr style=\"text-align: right;\">\n",
       "      <th></th>\n",
       "      <th>Name</th>\n",
       "      <th>Platform</th>\n",
       "      <th>Year_of_Release</th>\n",
       "      <th>Genre</th>\n",
       "      <th>NA_sales</th>\n",
       "      <th>EU_sales</th>\n",
       "      <th>JP_sales</th>\n",
       "      <th>Other_sales</th>\n",
       "      <th>Critic_Score</th>\n",
       "      <th>User_Score</th>\n",
       "      <th>Rating</th>\n",
       "    </tr>\n",
       "  </thead>\n",
       "  <tbody>\n",
       "    <tr>\n",
       "      <th>0</th>\n",
       "      <td>Wii Sports</td>\n",
       "      <td>Wii</td>\n",
       "      <td>2006.0</td>\n",
       "      <td>Sports</td>\n",
       "      <td>41.36</td>\n",
       "      <td>28.96</td>\n",
       "      <td>3.77</td>\n",
       "      <td>8.45</td>\n",
       "      <td>76.0</td>\n",
       "      <td>8</td>\n",
       "      <td>E</td>\n",
       "    </tr>\n",
       "    <tr>\n",
       "      <th>1</th>\n",
       "      <td>Super Mario Bros.</td>\n",
       "      <td>NES</td>\n",
       "      <td>1985.0</td>\n",
       "      <td>Platform</td>\n",
       "      <td>29.08</td>\n",
       "      <td>3.58</td>\n",
       "      <td>6.81</td>\n",
       "      <td>0.77</td>\n",
       "      <td>NaN</td>\n",
       "      <td>NaN</td>\n",
       "      <td>NaN</td>\n",
       "    </tr>\n",
       "    <tr>\n",
       "      <th>2</th>\n",
       "      <td>Mario Kart Wii</td>\n",
       "      <td>Wii</td>\n",
       "      <td>2008.0</td>\n",
       "      <td>Racing</td>\n",
       "      <td>15.68</td>\n",
       "      <td>12.76</td>\n",
       "      <td>3.79</td>\n",
       "      <td>3.29</td>\n",
       "      <td>82.0</td>\n",
       "      <td>8.3</td>\n",
       "      <td>E</td>\n",
       "    </tr>\n",
       "    <tr>\n",
       "      <th>3</th>\n",
       "      <td>Wii Sports Resort</td>\n",
       "      <td>Wii</td>\n",
       "      <td>2009.0</td>\n",
       "      <td>Sports</td>\n",
       "      <td>15.61</td>\n",
       "      <td>10.93</td>\n",
       "      <td>3.28</td>\n",
       "      <td>2.95</td>\n",
       "      <td>80.0</td>\n",
       "      <td>8</td>\n",
       "      <td>E</td>\n",
       "    </tr>\n",
       "    <tr>\n",
       "      <th>4</th>\n",
       "      <td>Pokemon Red/Pokemon Blue</td>\n",
       "      <td>GB</td>\n",
       "      <td>1996.0</td>\n",
       "      <td>Role-Playing</td>\n",
       "      <td>11.27</td>\n",
       "      <td>8.89</td>\n",
       "      <td>10.22</td>\n",
       "      <td>1.00</td>\n",
       "      <td>NaN</td>\n",
       "      <td>NaN</td>\n",
       "      <td>NaN</td>\n",
       "    </tr>\n",
       "  </tbody>\n",
       "</table>\n",
       "</div>"
      ],
      "text/plain": [
       "                       Name Platform  Year_of_Release         Genre  NA_sales  \\\n",
       "0                Wii Sports      Wii           2006.0        Sports     41.36   \n",
       "1         Super Mario Bros.      NES           1985.0      Platform     29.08   \n",
       "2            Mario Kart Wii      Wii           2008.0        Racing     15.68   \n",
       "3         Wii Sports Resort      Wii           2009.0        Sports     15.61   \n",
       "4  Pokemon Red/Pokemon Blue       GB           1996.0  Role-Playing     11.27   \n",
       "\n",
       "   EU_sales  JP_sales  Other_sales  Critic_Score User_Score Rating  \n",
       "0     28.96      3.77         8.45          76.0          8      E  \n",
       "1      3.58      6.81         0.77           NaN        NaN    NaN  \n",
       "2     12.76      3.79         3.29          82.0        8.3      E  \n",
       "3     10.93      3.28         2.95          80.0          8      E  \n",
       "4      8.89     10.22         1.00           NaN        NaN    NaN  "
      ]
     },
     "execution_count": 2,
     "metadata": {},
     "output_type": "execute_result"
    }
   ],
   "source": [
    "data=pd.read_csv('/datasets/games.csv')\n",
    "data.head()"
   ]
  },
  {
   "cell_type": "markdown",
   "metadata": {},
   "source": [
    "Сразу приведем колонки к нижнему регистру для удобства."
   ]
  },
  {
   "cell_type": "code",
   "execution_count": 3,
   "metadata": {},
   "outputs": [
    {
     "data": {
      "text/html": [
       "<div>\n",
       "<style scoped>\n",
       "    .dataframe tbody tr th:only-of-type {\n",
       "        vertical-align: middle;\n",
       "    }\n",
       "\n",
       "    .dataframe tbody tr th {\n",
       "        vertical-align: top;\n",
       "    }\n",
       "\n",
       "    .dataframe thead th {\n",
       "        text-align: right;\n",
       "    }\n",
       "</style>\n",
       "<table border=\"1\" class=\"dataframe\">\n",
       "  <thead>\n",
       "    <tr style=\"text-align: right;\">\n",
       "      <th></th>\n",
       "      <th>name</th>\n",
       "      <th>platform</th>\n",
       "      <th>year_of_release</th>\n",
       "      <th>genre</th>\n",
       "      <th>na_sales</th>\n",
       "      <th>eu_sales</th>\n",
       "      <th>jp_sales</th>\n",
       "      <th>other_sales</th>\n",
       "      <th>critic_score</th>\n",
       "      <th>user_score</th>\n",
       "      <th>rating</th>\n",
       "    </tr>\n",
       "  </thead>\n",
       "  <tbody>\n",
       "    <tr>\n",
       "      <th>0</th>\n",
       "      <td>Wii Sports</td>\n",
       "      <td>Wii</td>\n",
       "      <td>2006.0</td>\n",
       "      <td>Sports</td>\n",
       "      <td>41.36</td>\n",
       "      <td>28.96</td>\n",
       "      <td>3.77</td>\n",
       "      <td>8.45</td>\n",
       "      <td>76.0</td>\n",
       "      <td>8</td>\n",
       "      <td>E</td>\n",
       "    </tr>\n",
       "    <tr>\n",
       "      <th>1</th>\n",
       "      <td>Super Mario Bros.</td>\n",
       "      <td>NES</td>\n",
       "      <td>1985.0</td>\n",
       "      <td>Platform</td>\n",
       "      <td>29.08</td>\n",
       "      <td>3.58</td>\n",
       "      <td>6.81</td>\n",
       "      <td>0.77</td>\n",
       "      <td>NaN</td>\n",
       "      <td>NaN</td>\n",
       "      <td>NaN</td>\n",
       "    </tr>\n",
       "    <tr>\n",
       "      <th>2</th>\n",
       "      <td>Mario Kart Wii</td>\n",
       "      <td>Wii</td>\n",
       "      <td>2008.0</td>\n",
       "      <td>Racing</td>\n",
       "      <td>15.68</td>\n",
       "      <td>12.76</td>\n",
       "      <td>3.79</td>\n",
       "      <td>3.29</td>\n",
       "      <td>82.0</td>\n",
       "      <td>8.3</td>\n",
       "      <td>E</td>\n",
       "    </tr>\n",
       "    <tr>\n",
       "      <th>3</th>\n",
       "      <td>Wii Sports Resort</td>\n",
       "      <td>Wii</td>\n",
       "      <td>2009.0</td>\n",
       "      <td>Sports</td>\n",
       "      <td>15.61</td>\n",
       "      <td>10.93</td>\n",
       "      <td>3.28</td>\n",
       "      <td>2.95</td>\n",
       "      <td>80.0</td>\n",
       "      <td>8</td>\n",
       "      <td>E</td>\n",
       "    </tr>\n",
       "    <tr>\n",
       "      <th>4</th>\n",
       "      <td>Pokemon Red/Pokemon Blue</td>\n",
       "      <td>GB</td>\n",
       "      <td>1996.0</td>\n",
       "      <td>Role-Playing</td>\n",
       "      <td>11.27</td>\n",
       "      <td>8.89</td>\n",
       "      <td>10.22</td>\n",
       "      <td>1.00</td>\n",
       "      <td>NaN</td>\n",
       "      <td>NaN</td>\n",
       "      <td>NaN</td>\n",
       "    </tr>\n",
       "  </tbody>\n",
       "</table>\n",
       "</div>"
      ],
      "text/plain": [
       "                       name platform  year_of_release         genre  na_sales  \\\n",
       "0                Wii Sports      Wii           2006.0        Sports     41.36   \n",
       "1         Super Mario Bros.      NES           1985.0      Platform     29.08   \n",
       "2            Mario Kart Wii      Wii           2008.0        Racing     15.68   \n",
       "3         Wii Sports Resort      Wii           2009.0        Sports     15.61   \n",
       "4  Pokemon Red/Pokemon Blue       GB           1996.0  Role-Playing     11.27   \n",
       "\n",
       "   eu_sales  jp_sales  other_sales  critic_score user_score rating  \n",
       "0     28.96      3.77         8.45          76.0          8      E  \n",
       "1      3.58      6.81         0.77           NaN        NaN    NaN  \n",
       "2     12.76      3.79         3.29          82.0        8.3      E  \n",
       "3     10.93      3.28         2.95          80.0          8      E  \n",
       "4      8.89     10.22         1.00           NaN        NaN    NaN  "
      ]
     },
     "execution_count": 3,
     "metadata": {},
     "output_type": "execute_result"
    }
   ],
   "source": [
    "data.columns = data.columns.str.lower()\n",
    "data.head()"
   ]
  },
  {
   "cell_type": "markdown",
   "metadata": {},
   "source": [
    "Посмотрим типы данных в таблице"
   ]
  },
  {
   "cell_type": "code",
   "execution_count": 4,
   "metadata": {
    "scrolled": true
   },
   "outputs": [
    {
     "name": "stdout",
     "output_type": "stream",
     "text": [
      "<class 'pandas.core.frame.DataFrame'>\n",
      "RangeIndex: 16715 entries, 0 to 16714\n",
      "Data columns (total 11 columns):\n",
      " #   Column           Non-Null Count  Dtype  \n",
      "---  ------           --------------  -----  \n",
      " 0   name             16713 non-null  object \n",
      " 1   platform         16715 non-null  object \n",
      " 2   year_of_release  16446 non-null  float64\n",
      " 3   genre            16713 non-null  object \n",
      " 4   na_sales         16715 non-null  float64\n",
      " 5   eu_sales         16715 non-null  float64\n",
      " 6   jp_sales         16715 non-null  float64\n",
      " 7   other_sales      16715 non-null  float64\n",
      " 8   critic_score     8137 non-null   float64\n",
      " 9   user_score       10014 non-null  object \n",
      " 10  rating           9949 non-null   object \n",
      "dtypes: float64(6), object(5)\n",
      "memory usage: 1.4+ MB\n"
     ]
    }
   ],
   "source": [
    "data.info()"
   ]
  },
  {
   "cell_type": "markdown",
   "metadata": {},
   "source": [
    "Не все колонки имеют правильный тип данных, а именно год релиза, оценка пользователей. На следующем этапе исправим это.\n",
    "\n",
    "Предварительно построим графики по числовым колонкам и расчитаем ключевые показатели."
   ]
  },
  {
   "cell_type": "code",
   "execution_count": 5,
   "metadata": {},
   "outputs": [
    {
     "data": {
      "image/png": "[encoded data removed]",
      "text/plain": [
       "<Figure size 1080x1440 with 6 Axes>"
      ]
     },
     "metadata": {
      "needs_background": "light"
     },
     "output_type": "display_data"
    }
   ],
   "source": [
    "data.hist(figsize=(15, 20));"
   ]
  },
  {
   "cell_type": "code",
   "execution_count": 6,
   "metadata": {},
   "outputs": [
    {
     "data": {
      "text/html": [
       "<div>\n",
       "<style scoped>\n",
       "    .dataframe tbody tr th:only-of-type {\n",
       "        vertical-align: middle;\n",
       "    }\n",
       "\n",
       "    .dataframe tbody tr th {\n",
       "        vertical-align: top;\n",
       "    }\n",
       "\n",
       "    .dataframe thead th {\n",
       "        text-align: right;\n",
       "    }\n",
       "</style>\n",
       "<table border=\"1\" class=\"dataframe\">\n",
       "  <thead>\n",
       "    <tr style=\"text-align: right;\">\n",
       "      <th></th>\n",
       "      <th>year_of_release</th>\n",
       "      <th>na_sales</th>\n",
       "      <th>eu_sales</th>\n",
       "      <th>jp_sales</th>\n",
       "      <th>other_sales</th>\n",
       "      <th>critic_score</th>\n",
       "    </tr>\n",
       "  </thead>\n",
       "  <tbody>\n",
       "    <tr>\n",
       "      <th>count</th>\n",
       "      <td>16446.000000</td>\n",
       "      <td>16715.000000</td>\n",
       "      <td>16715.000000</td>\n",
       "      <td>16715.000000</td>\n",
       "      <td>16715.000000</td>\n",
       "      <td>8137.000000</td>\n",
       "    </tr>\n",
       "    <tr>\n",
       "      <th>mean</th>\n",
       "      <td>2006.484616</td>\n",
       "      <td>0.263377</td>\n",
       "      <td>0.145060</td>\n",
       "      <td>0.077617</td>\n",
       "      <td>0.047342</td>\n",
       "      <td>68.967679</td>\n",
       "    </tr>\n",
       "    <tr>\n",
       "      <th>std</th>\n",
       "      <td>5.877050</td>\n",
       "      <td>0.813604</td>\n",
       "      <td>0.503339</td>\n",
       "      <td>0.308853</td>\n",
       "      <td>0.186731</td>\n",
       "      <td>13.938165</td>\n",
       "    </tr>\n",
       "    <tr>\n",
       "      <th>min</th>\n",
       "      <td>1980.000000</td>\n",
       "      <td>0.000000</td>\n",
       "      <td>0.000000</td>\n",
       "      <td>0.000000</td>\n",
       "      <td>0.000000</td>\n",
       "      <td>13.000000</td>\n",
       "    </tr>\n",
       "    <tr>\n",
       "      <th>25%</th>\n",
       "      <td>2003.000000</td>\n",
       "      <td>0.000000</td>\n",
       "      <td>0.000000</td>\n",
       "      <td>0.000000</td>\n",
       "      <td>0.000000</td>\n",
       "      <td>60.000000</td>\n",
       "    </tr>\n",
       "    <tr>\n",
       "      <th>50%</th>\n",
       "      <td>2007.000000</td>\n",
       "      <td>0.080000</td>\n",
       "      <td>0.020000</td>\n",
       "      <td>0.000000</td>\n",
       "      <td>0.010000</td>\n",
       "      <td>71.000000</td>\n",
       "    </tr>\n",
       "    <tr>\n",
       "      <th>75%</th>\n",
       "      <td>2010.000000</td>\n",
       "      <td>0.240000</td>\n",
       "      <td>0.110000</td>\n",
       "      <td>0.040000</td>\n",
       "      <td>0.030000</td>\n",
       "      <td>79.000000</td>\n",
       "    </tr>\n",
       "    <tr>\n",
       "      <th>max</th>\n",
       "      <td>2016.000000</td>\n",
       "      <td>41.360000</td>\n",
       "      <td>28.960000</td>\n",
       "      <td>10.220000</td>\n",
       "      <td>10.570000</td>\n",
       "      <td>98.000000</td>\n",
       "    </tr>\n",
       "  </tbody>\n",
       "</table>\n",
       "</div>"
      ],
      "text/plain": [
       "       year_of_release      na_sales      eu_sales      jp_sales  \\\n",
       "count     16446.000000  16715.000000  16715.000000  16715.000000   \n",
       "mean       2006.484616      0.263377      0.145060      0.077617   \n",
       "std           5.877050      0.813604      0.503339      0.308853   \n",
       "min        1980.000000      0.000000      0.000000      0.000000   \n",
       "25%        2003.000000      0.000000      0.000000      0.000000   \n",
       "50%        2007.000000      0.080000      0.020000      0.000000   \n",
       "75%        2010.000000      0.240000      0.110000      0.040000   \n",
       "max        2016.000000     41.360000     28.960000     10.220000   \n",
       "\n",
       "        other_sales  critic_score  \n",
       "count  16715.000000   8137.000000  \n",
       "mean       0.047342     68.967679  \n",
       "std        0.186731     13.938165  \n",
       "min        0.000000     13.000000  \n",
       "25%        0.000000     60.000000  \n",
       "50%        0.010000     71.000000  \n",
       "75%        0.030000     79.000000  \n",
       "max       10.570000     98.000000  "
      ]
     },
     "execution_count": 6,
     "metadata": {},
     "output_type": "execute_result"
    }
   ],
   "source": [
    "data.describe()"
   ]
  },
  {
   "cell_type": "markdown",
   "metadata": {},
   "source": [
    "Данные у нас собраны с 1980 по 2016 года, наибольший рынок продаж занимает Северная Америка и далее по списку в порядке убывания. Минимальная оценка критиков 13, максимум 98. \n",
    "\n",
    "Рассмотрим количесво пропусков и их процент. "
   ]
  },
  {
   "cell_type": "code",
   "execution_count": 7,
   "metadata": {},
   "outputs": [
    {
     "data": {
      "text/html": [
       "<style  type=\"text/css\" >\n",
       "#T_00a16_row0_col0,#T_00a16_row1_col0,#T_00a16_row3_col0,#T_00a16_row4_col0,#T_00a16_row5_col0,#T_00a16_row6_col0,#T_00a16_row7_col0{\n",
       "            background-color:  #3b4cc0;\n",
       "            color:  #f1f1f1;\n",
       "        }#T_00a16_row2_col0{\n",
       "            background-color:  #465ecf;\n",
       "            color:  #f1f1f1;\n",
       "        }#T_00a16_row8_col0{\n",
       "            background-color:  #b40426;\n",
       "            color:  #f1f1f1;\n",
       "        }#T_00a16_row9_col0,#T_00a16_row10_col0{\n",
       "            background-color:  #f08b6e;\n",
       "            color:  #000000;\n",
       "        }</style><table id=\"T_00a16_\" ><thead>    <tr>        <th class=\"blank level0\" ></th>        <th class=\"col_heading level0 col0\" >0</th>    </tr></thead><tbody>\n",
       "                <tr>\n",
       "                        <th id=\"T_00a16_level0_row0\" class=\"row_heading level0 row0\" >name</th>\n",
       "                        <td id=\"T_00a16_row0_col0\" class=\"data row0 col0\" >0.000000</td>\n",
       "            </tr>\n",
       "            <tr>\n",
       "                        <th id=\"T_00a16_level0_row1\" class=\"row_heading level0 row1\" >platform</th>\n",
       "                        <td id=\"T_00a16_row1_col0\" class=\"data row1 col0\" >0.000000</td>\n",
       "            </tr>\n",
       "            <tr>\n",
       "                        <th id=\"T_00a16_level0_row2\" class=\"row_heading level0 row2\" >year_of_release</th>\n",
       "                        <td id=\"T_00a16_row2_col0\" class=\"data row2 col0\" >2.000000</td>\n",
       "            </tr>\n",
       "            <tr>\n",
       "                        <th id=\"T_00a16_level0_row3\" class=\"row_heading level0 row3\" >genre</th>\n",
       "                        <td id=\"T_00a16_row3_col0\" class=\"data row3 col0\" >0.000000</td>\n",
       "            </tr>\n",
       "            <tr>\n",
       "                        <th id=\"T_00a16_level0_row4\" class=\"row_heading level0 row4\" >na_sales</th>\n",
       "                        <td id=\"T_00a16_row4_col0\" class=\"data row4 col0\" >0.000000</td>\n",
       "            </tr>\n",
       "            <tr>\n",
       "                        <th id=\"T_00a16_level0_row5\" class=\"row_heading level0 row5\" >eu_sales</th>\n",
       "                        <td id=\"T_00a16_row5_col0\" class=\"data row5 col0\" >0.000000</td>\n",
       "            </tr>\n",
       "            <tr>\n",
       "                        <th id=\"T_00a16_level0_row6\" class=\"row_heading level0 row6\" >jp_sales</th>\n",
       "                        <td id=\"T_00a16_row6_col0\" class=\"data row6 col0\" >0.000000</td>\n",
       "            </tr>\n",
       "            <tr>\n",
       "                        <th id=\"T_00a16_level0_row7\" class=\"row_heading level0 row7\" >other_sales</th>\n",
       "                        <td id=\"T_00a16_row7_col0\" class=\"data row7 col0\" >0.000000</td>\n",
       "            </tr>\n",
       "            <tr>\n",
       "                        <th id=\"T_00a16_level0_row8\" class=\"row_heading level0 row8\" >critic_score</th>\n",
       "                        <td id=\"T_00a16_row8_col0\" class=\"data row8 col0\" >51.000000</td>\n",
       "            </tr>\n",
       "            <tr>\n",
       "                        <th id=\"T_00a16_level0_row9\" class=\"row_heading level0 row9\" >user_score</th>\n",
       "                        <td id=\"T_00a16_row9_col0\" class=\"data row9 col0\" >40.000000</td>\n",
       "            </tr>\n",
       "            <tr>\n",
       "                        <th id=\"T_00a16_level0_row10\" class=\"row_heading level0 row10\" >rating</th>\n",
       "                        <td id=\"T_00a16_row10_col0\" class=\"data row10 col0\" >40.000000</td>\n",
       "            </tr>\n",
       "    </tbody></table>"
      ],
      "text/plain": [
       "<pandas.io.formats.style.Styler at 0x7f4bd4613c40>"
      ]
     },
     "execution_count": 7,
     "metadata": {},
     "output_type": "execute_result"
    }
   ],
   "source": [
    "pd.DataFrame(round(data.isna().mean()*100,)).style.background_gradient('coolwarm')"
   ]
  },
  {
   "cell_type": "code",
   "execution_count": 8,
   "metadata": {},
   "outputs": [
    {
     "data": {
      "text/plain": [
       "name                  2\n",
       "platform              0\n",
       "year_of_release     269\n",
       "genre                 2\n",
       "na_sales              0\n",
       "eu_sales              0\n",
       "jp_sales              0\n",
       "other_sales           0\n",
       "critic_score       8578\n",
       "user_score         6701\n",
       "rating             6766\n",
       "dtype: int64"
      ]
     },
     "execution_count": 8,
     "metadata": {},
     "output_type": "execute_result"
    }
   ],
   "source": [
    "data.isna().sum()"
   ]
  },
  {
   "cell_type": "markdown",
   "metadata": {},
   "source": [
    "Как мы видим у нас 2 пропуска в имени, 269 пропусков года релиза, что составляет менее 2%. Обработаем эти данные на следующем этапе. Очень много пропусков в оценках критиков и игроков, так же есть пропуски в возрастных группах.\n",
    "\n",
    "В данных есть несколько недоработок, а именно неправильные форматы колонок, много пропусков в важных данных. Выявленные небоработки вызваны старостью данных. Так же повлияло, что игры вывпускались разными странами и где-то были эксперты по играм, а где-то нет. Возрастной рейтинг давала американская компания ESRB, поэтому возрастной рейтинг присваивался не всем играм.\n",
    "\n",
    "Займемся предобработкой данных."
   ]
  },
  {
   "cell_type": "markdown",
   "metadata": {},
   "source": [
    "### Предобработка данных <a id='id2'></a>"
   ]
  },
  {
   "cell_type": "markdown",
   "metadata": {},
   "source": [
    "Посмотрим есть ли дубликаты. Проверим их по идентичности двух колонок: наименованию и платформы."
   ]
  },
  {
   "cell_type": "code",
   "execution_count": 9,
   "metadata": {},
   "outputs": [
    {
     "data": {
      "text/plain": [
       "5"
      ]
     },
     "execution_count": 9,
     "metadata": {},
     "output_type": "execute_result"
    }
   ],
   "source": [
    "data.duplicated(subset=['name', 'platform']).sum()"
   ]
  },
  {
   "cell_type": "markdown",
   "metadata": {},
   "source": [
    "Найдено пять дубликатов, избавимся от них."
   ]
  },
  {
   "cell_type": "code",
   "execution_count": 10,
   "metadata": {},
   "outputs": [],
   "source": [
    "data = data.drop_duplicates(subset=['name', 'platform'])"
   ]
  },
  {
   "cell_type": "markdown",
   "metadata": {},
   "source": [
    "Займемся пропусками в таблице. Начнем с первой колонки. В ней было 2 пропуска, рассмотрим их подробнее."
   ]
  },
  {
   "cell_type": "code",
   "execution_count": 11,
   "metadata": {},
   "outputs": [
    {
     "data": {
      "text/html": [
       "<div>\n",
       "<style scoped>\n",
       "    .dataframe tbody tr th:only-of-type {\n",
       "        vertical-align: middle;\n",
       "    }\n",
       "\n",
       "    .dataframe tbody tr th {\n",
       "        vertical-align: top;\n",
       "    }\n",
       "\n",
       "    .dataframe thead th {\n",
       "        text-align: right;\n",
       "    }\n",
       "</style>\n",
       "<table border=\"1\" class=\"dataframe\">\n",
       "  <thead>\n",
       "    <tr style=\"text-align: right;\">\n",
       "      <th></th>\n",
       "      <th>name</th>\n",
       "      <th>platform</th>\n",
       "      <th>year_of_release</th>\n",
       "      <th>genre</th>\n",
       "      <th>na_sales</th>\n",
       "      <th>eu_sales</th>\n",
       "      <th>jp_sales</th>\n",
       "      <th>other_sales</th>\n",
       "      <th>critic_score</th>\n",
       "      <th>user_score</th>\n",
       "      <th>rating</th>\n",
       "    </tr>\n",
       "  </thead>\n",
       "  <tbody>\n",
       "    <tr>\n",
       "      <th>659</th>\n",
       "      <td>NaN</td>\n",
       "      <td>GEN</td>\n",
       "      <td>1993.0</td>\n",
       "      <td>NaN</td>\n",
       "      <td>1.78</td>\n",
       "      <td>0.53</td>\n",
       "      <td>0.0</td>\n",
       "      <td>0.08</td>\n",
       "      <td>NaN</td>\n",
       "      <td>NaN</td>\n",
       "      <td>NaN</td>\n",
       "    </tr>\n",
       "  </tbody>\n",
       "</table>\n",
       "</div>"
      ],
      "text/plain": [
       "    name platform  year_of_release genre  na_sales  eu_sales  jp_sales  \\\n",
       "659  NaN      GEN           1993.0   NaN      1.78      0.53       0.0   \n",
       "\n",
       "     other_sales  critic_score user_score rating  \n",
       "659         0.08           NaN        NaN    NaN  "
      ]
     },
     "execution_count": 11,
     "metadata": {},
     "output_type": "execute_result"
    }
   ],
   "source": [
    "data.loc[data['name'].isna()]"
   ]
  },
  {
   "cell_type": "markdown",
   "metadata": {},
   "source": [
    "Остался только один пропуск, значит второй был дубликатом. Год выпуска игры 1993. Довольно много времени прошло с ее релиза. Так же в этой строке не указан жанр и оценки критиков, игроков и возрастная категория. Скорее всего пропуск был вызван старостью игры и не все данные заполняли, либо в процессе скачивания данных были ошибки. От удаления этой строки мы ничего не потеряем, у нее много пропусков, если бы таких колонок было много, можно было их заменить на 'unknown' и оставить, чтобы не терять данные. Отмечу, что для игровой индустрии 20 лет это очень большой промежуток, поэтому данная строка неактуальна для анализа и определения стратегии на 2017 год."
   ]
  },
  {
   "cell_type": "code",
   "execution_count": 12,
   "metadata": {},
   "outputs": [],
   "source": [
    "data = data.dropna(subset=['name'])"
   ]
  },
  {
   "cell_type": "markdown",
   "metadata": {},
   "source": [
    "В колонке с платформой пропусков нет, посмотрим на каких платформах выпускали игры и есть ли там неявные дубликаты."
   ]
  },
  {
   "cell_type": "code",
   "execution_count": 13,
   "metadata": {},
   "outputs": [
    {
     "data": {
      "text/plain": [
       "array(['Wii', 'NES', 'GB', 'DS', 'X360', 'PS3', 'PS2', 'SNES', 'GBA',\n",
       "       'PS4', '3DS', 'N64', 'PS', 'XB', 'PC', '2600', 'PSP', 'XOne',\n",
       "       'WiiU', 'GC', 'GEN', 'DC', 'PSV', 'SAT', 'SCD', 'WS', 'NG', 'TG16',\n",
       "       '3DO', 'GG', 'PCFX'], dtype=object)"
      ]
     },
     "execution_count": 13,
     "metadata": {},
     "output_type": "execute_result"
    }
   ],
   "source": [
    "data['platform'].unique()"
   ]
  },
  {
   "cell_type": "markdown",
   "metadata": {},
   "source": [
    "С этой колонкой все хорошо: неявных дубликатов нет.\n",
    "\n",
    "Теперь рассмотрим колонку с датой."
   ]
  },
  {
   "cell_type": "code",
   "execution_count": 14,
   "metadata": {},
   "outputs": [
    {
     "data": {
      "text/html": [
       "<div>\n",
       "<style scoped>\n",
       "    .dataframe tbody tr th:only-of-type {\n",
       "        vertical-align: middle;\n",
       "    }\n",
       "\n",
       "    .dataframe tbody tr th {\n",
       "        vertical-align: top;\n",
       "    }\n",
       "\n",
       "    .dataframe thead th {\n",
       "        text-align: right;\n",
       "    }\n",
       "</style>\n",
       "<table border=\"1\" class=\"dataframe\">\n",
       "  <thead>\n",
       "    <tr style=\"text-align: right;\">\n",
       "      <th></th>\n",
       "      <th>name</th>\n",
       "      <th>platform</th>\n",
       "      <th>year_of_release</th>\n",
       "      <th>genre</th>\n",
       "      <th>na_sales</th>\n",
       "      <th>eu_sales</th>\n",
       "      <th>jp_sales</th>\n",
       "      <th>other_sales</th>\n",
       "      <th>critic_score</th>\n",
       "      <th>user_score</th>\n",
       "      <th>rating</th>\n",
       "    </tr>\n",
       "  </thead>\n",
       "  <tbody>\n",
       "    <tr>\n",
       "      <th>15816</th>\n",
       "      <td>Without Warning</td>\n",
       "      <td>XB</td>\n",
       "      <td>NaN</td>\n",
       "      <td>Shooter</td>\n",
       "      <td>0.01</td>\n",
       "      <td>0.00</td>\n",
       "      <td>0.00</td>\n",
       "      <td>0.0</td>\n",
       "      <td>45.0</td>\n",
       "      <td>2</td>\n",
       "      <td>M</td>\n",
       "    </tr>\n",
       "    <tr>\n",
       "      <th>15953</th>\n",
       "      <td>PDC World Championship Darts 2008</td>\n",
       "      <td>DS</td>\n",
       "      <td>NaN</td>\n",
       "      <td>Sports</td>\n",
       "      <td>0.01</td>\n",
       "      <td>0.00</td>\n",
       "      <td>0.00</td>\n",
       "      <td>0.0</td>\n",
       "      <td>NaN</td>\n",
       "      <td>NaN</td>\n",
       "      <td>NaN</td>\n",
       "    </tr>\n",
       "    <tr>\n",
       "      <th>15966</th>\n",
       "      <td>Dinotopia: The Sunstone Odyssey</td>\n",
       "      <td>GC</td>\n",
       "      <td>NaN</td>\n",
       "      <td>Action</td>\n",
       "      <td>0.01</td>\n",
       "      <td>0.00</td>\n",
       "      <td>0.00</td>\n",
       "      <td>0.0</td>\n",
       "      <td>50.0</td>\n",
       "      <td>tbd</td>\n",
       "      <td>T</td>\n",
       "    </tr>\n",
       "    <tr>\n",
       "      <th>15998</th>\n",
       "      <td>Jet Impulse</td>\n",
       "      <td>DS</td>\n",
       "      <td>NaN</td>\n",
       "      <td>Simulation</td>\n",
       "      <td>0.00</td>\n",
       "      <td>0.00</td>\n",
       "      <td>0.02</td>\n",
       "      <td>0.0</td>\n",
       "      <td>NaN</td>\n",
       "      <td>NaN</td>\n",
       "      <td>NaN</td>\n",
       "    </tr>\n",
       "    <tr>\n",
       "      <th>16017</th>\n",
       "      <td>Dream Dancer</td>\n",
       "      <td>DS</td>\n",
       "      <td>NaN</td>\n",
       "      <td>Misc</td>\n",
       "      <td>0.01</td>\n",
       "      <td>0.00</td>\n",
       "      <td>0.00</td>\n",
       "      <td>0.0</td>\n",
       "      <td>NaN</td>\n",
       "      <td>tbd</td>\n",
       "      <td>E</td>\n",
       "    </tr>\n",
       "    <tr>\n",
       "      <th>16059</th>\n",
       "      <td>Dance! It's Your Stage</td>\n",
       "      <td>Wii</td>\n",
       "      <td>NaN</td>\n",
       "      <td>Misc</td>\n",
       "      <td>0.00</td>\n",
       "      <td>0.01</td>\n",
       "      <td>0.00</td>\n",
       "      <td>0.0</td>\n",
       "      <td>NaN</td>\n",
       "      <td>NaN</td>\n",
       "      <td>NaN</td>\n",
       "    </tr>\n",
       "    <tr>\n",
       "      <th>16079</th>\n",
       "      <td>Football Manager 2007</td>\n",
       "      <td>X360</td>\n",
       "      <td>NaN</td>\n",
       "      <td>Sports</td>\n",
       "      <td>0.00</td>\n",
       "      <td>0.01</td>\n",
       "      <td>0.00</td>\n",
       "      <td>0.0</td>\n",
       "      <td>NaN</td>\n",
       "      <td>NaN</td>\n",
       "      <td>NaN</td>\n",
       "    </tr>\n",
       "    <tr>\n",
       "      <th>16080</th>\n",
       "      <td>Ferrari: The Race Experience</td>\n",
       "      <td>Wii</td>\n",
       "      <td>NaN</td>\n",
       "      <td>Racing</td>\n",
       "      <td>0.00</td>\n",
       "      <td>0.01</td>\n",
       "      <td>0.00</td>\n",
       "      <td>0.0</td>\n",
       "      <td>54.0</td>\n",
       "      <td>NaN</td>\n",
       "      <td>E</td>\n",
       "    </tr>\n",
       "    <tr>\n",
       "      <th>16157</th>\n",
       "      <td>Aquaman: Battle for Atlantis</td>\n",
       "      <td>XB</td>\n",
       "      <td>NaN</td>\n",
       "      <td>Action</td>\n",
       "      <td>0.01</td>\n",
       "      <td>0.00</td>\n",
       "      <td>0.00</td>\n",
       "      <td>0.0</td>\n",
       "      <td>26.0</td>\n",
       "      <td>2.7</td>\n",
       "      <td>T</td>\n",
       "    </tr>\n",
       "    <tr>\n",
       "      <th>16180</th>\n",
       "      <td>WRC: FIA World Rally Championship</td>\n",
       "      <td>PC</td>\n",
       "      <td>NaN</td>\n",
       "      <td>Racing</td>\n",
       "      <td>0.00</td>\n",
       "      <td>0.01</td>\n",
       "      <td>0.00</td>\n",
       "      <td>0.0</td>\n",
       "      <td>65.0</td>\n",
       "      <td>NaN</td>\n",
       "      <td>RP</td>\n",
       "    </tr>\n",
       "    <tr>\n",
       "      <th>16277</th>\n",
       "      <td>Homeworld Remastered Collection</td>\n",
       "      <td>PC</td>\n",
       "      <td>NaN</td>\n",
       "      <td>Strategy</td>\n",
       "      <td>0.00</td>\n",
       "      <td>0.01</td>\n",
       "      <td>0.00</td>\n",
       "      <td>0.0</td>\n",
       "      <td>86.0</td>\n",
       "      <td>8.2</td>\n",
       "      <td>E10+</td>\n",
       "    </tr>\n",
       "    <tr>\n",
       "      <th>16288</th>\n",
       "      <td>Shorts</td>\n",
       "      <td>DS</td>\n",
       "      <td>NaN</td>\n",
       "      <td>Platform</td>\n",
       "      <td>0.01</td>\n",
       "      <td>0.00</td>\n",
       "      <td>0.00</td>\n",
       "      <td>0.0</td>\n",
       "      <td>NaN</td>\n",
       "      <td>tbd</td>\n",
       "      <td>E10+</td>\n",
       "    </tr>\n",
       "    <tr>\n",
       "      <th>16293</th>\n",
       "      <td>AKB1/48: Idol to Guam de Koishitara...</td>\n",
       "      <td>X360</td>\n",
       "      <td>NaN</td>\n",
       "      <td>Misc</td>\n",
       "      <td>0.00</td>\n",
       "      <td>0.00</td>\n",
       "      <td>0.01</td>\n",
       "      <td>0.0</td>\n",
       "      <td>NaN</td>\n",
       "      <td>NaN</td>\n",
       "      <td>NaN</td>\n",
       "    </tr>\n",
       "    <tr>\n",
       "      <th>16329</th>\n",
       "      <td>Brothers in Arms: Furious 4</td>\n",
       "      <td>X360</td>\n",
       "      <td>NaN</td>\n",
       "      <td>Shooter</td>\n",
       "      <td>0.01</td>\n",
       "      <td>0.00</td>\n",
       "      <td>0.00</td>\n",
       "      <td>0.0</td>\n",
       "      <td>NaN</td>\n",
       "      <td>NaN</td>\n",
       "      <td>M</td>\n",
       "    </tr>\n",
       "    <tr>\n",
       "      <th>16348</th>\n",
       "      <td>Agarest Senki: Re-appearance</td>\n",
       "      <td>PS3</td>\n",
       "      <td>NaN</td>\n",
       "      <td>Role-Playing</td>\n",
       "      <td>0.00</td>\n",
       "      <td>0.00</td>\n",
       "      <td>0.01</td>\n",
       "      <td>0.0</td>\n",
       "      <td>NaN</td>\n",
       "      <td>NaN</td>\n",
       "      <td>NaN</td>\n",
       "    </tr>\n",
       "    <tr>\n",
       "      <th>16373</th>\n",
       "      <td>PDC World Championship Darts 2008</td>\n",
       "      <td>PSP</td>\n",
       "      <td>NaN</td>\n",
       "      <td>Sports</td>\n",
       "      <td>0.01</td>\n",
       "      <td>0.00</td>\n",
       "      <td>0.00</td>\n",
       "      <td>0.0</td>\n",
       "      <td>43.0</td>\n",
       "      <td>tbd</td>\n",
       "      <td>E10+</td>\n",
       "    </tr>\n",
       "    <tr>\n",
       "      <th>16405</th>\n",
       "      <td>Freaky Flyers</td>\n",
       "      <td>GC</td>\n",
       "      <td>NaN</td>\n",
       "      <td>Racing</td>\n",
       "      <td>0.01</td>\n",
       "      <td>0.00</td>\n",
       "      <td>0.00</td>\n",
       "      <td>0.0</td>\n",
       "      <td>69.0</td>\n",
       "      <td>6.5</td>\n",
       "      <td>T</td>\n",
       "    </tr>\n",
       "    <tr>\n",
       "      <th>16448</th>\n",
       "      <td>Inversion</td>\n",
       "      <td>PC</td>\n",
       "      <td>NaN</td>\n",
       "      <td>Shooter</td>\n",
       "      <td>0.01</td>\n",
       "      <td>0.00</td>\n",
       "      <td>0.00</td>\n",
       "      <td>0.0</td>\n",
       "      <td>59.0</td>\n",
       "      <td>6.7</td>\n",
       "      <td>M</td>\n",
       "    </tr>\n",
       "    <tr>\n",
       "      <th>16458</th>\n",
       "      <td>Hakuouki: Shinsengumi Kitan</td>\n",
       "      <td>PS3</td>\n",
       "      <td>NaN</td>\n",
       "      <td>Adventure</td>\n",
       "      <td>0.01</td>\n",
       "      <td>0.00</td>\n",
       "      <td>0.00</td>\n",
       "      <td>0.0</td>\n",
       "      <td>NaN</td>\n",
       "      <td>NaN</td>\n",
       "      <td>NaN</td>\n",
       "    </tr>\n",
       "    <tr>\n",
       "      <th>16522</th>\n",
       "      <td>Virtua Quest</td>\n",
       "      <td>GC</td>\n",
       "      <td>NaN</td>\n",
       "      <td>Role-Playing</td>\n",
       "      <td>0.01</td>\n",
       "      <td>0.00</td>\n",
       "      <td>0.00</td>\n",
       "      <td>0.0</td>\n",
       "      <td>55.0</td>\n",
       "      <td>5.5</td>\n",
       "      <td>T</td>\n",
       "    </tr>\n",
       "  </tbody>\n",
       "</table>\n",
       "</div>"
      ],
      "text/plain": [
       "                                         name platform  year_of_release  \\\n",
       "15816                         Without Warning       XB              NaN   \n",
       "15953       PDC World Championship Darts 2008       DS              NaN   \n",
       "15966         Dinotopia: The Sunstone Odyssey       GC              NaN   \n",
       "15998                             Jet Impulse       DS              NaN   \n",
       "16017                            Dream Dancer       DS              NaN   \n",
       "16059                  Dance! It's Your Stage      Wii              NaN   \n",
       "16079                   Football Manager 2007     X360              NaN   \n",
       "16080            Ferrari: The Race Experience      Wii              NaN   \n",
       "16157            Aquaman: Battle for Atlantis       XB              NaN   \n",
       "16180       WRC: FIA World Rally Championship       PC              NaN   \n",
       "16277         Homeworld Remastered Collection       PC              NaN   \n",
       "16288                                  Shorts       DS              NaN   \n",
       "16293  AKB1/48: Idol to Guam de Koishitara...     X360              NaN   \n",
       "16329             Brothers in Arms: Furious 4     X360              NaN   \n",
       "16348            Agarest Senki: Re-appearance      PS3              NaN   \n",
       "16373       PDC World Championship Darts 2008      PSP              NaN   \n",
       "16405                           Freaky Flyers       GC              NaN   \n",
       "16448                               Inversion       PC              NaN   \n",
       "16458             Hakuouki: Shinsengumi Kitan      PS3              NaN   \n",
       "16522                            Virtua Quest       GC              NaN   \n",
       "\n",
       "              genre  na_sales  eu_sales  jp_sales  other_sales  critic_score  \\\n",
       "15816       Shooter      0.01      0.00      0.00          0.0          45.0   \n",
       "15953        Sports      0.01      0.00      0.00          0.0           NaN   \n",
       "15966        Action      0.01      0.00      0.00          0.0          50.0   \n",
       "15998    Simulation      0.00      0.00      0.02          0.0           NaN   \n",
       "16017          Misc      0.01      0.00      0.00          0.0           NaN   \n",
       "16059          Misc      0.00      0.01      0.00          0.0           NaN   \n",
       "16079        Sports      0.00      0.01      0.00          0.0           NaN   \n",
       "16080        Racing      0.00      0.01      0.00          0.0          54.0   \n",
       "16157        Action      0.01      0.00      0.00          0.0          26.0   \n",
       "16180        Racing      0.00      0.01      0.00          0.0          65.0   \n",
       "16277      Strategy      0.00      0.01      0.00          0.0          86.0   \n",
       "16288      Platform      0.01      0.00      0.00          0.0           NaN   \n",
       "16293          Misc      0.00      0.00      0.01          0.0           NaN   \n",
       "16329       Shooter      0.01      0.00      0.00          0.0           NaN   \n",
       "16348  Role-Playing      0.00      0.00      0.01          0.0           NaN   \n",
       "16373        Sports      0.01      0.00      0.00          0.0          43.0   \n",
       "16405        Racing      0.01      0.00      0.00          0.0          69.0   \n",
       "16448       Shooter      0.01      0.00      0.00          0.0          59.0   \n",
       "16458     Adventure      0.01      0.00      0.00          0.0           NaN   \n",
       "16522  Role-Playing      0.01      0.00      0.00          0.0          55.0   \n",
       "\n",
       "      user_score rating  \n",
       "15816          2      M  \n",
       "15953        NaN    NaN  \n",
       "15966        tbd      T  \n",
       "15998        NaN    NaN  \n",
       "16017        tbd      E  \n",
       "16059        NaN    NaN  \n",
       "16079        NaN    NaN  \n",
       "16080        NaN      E  \n",
       "16157        2.7      T  \n",
       "16180        NaN     RP  \n",
       "16277        8.2   E10+  \n",
       "16288        tbd   E10+  \n",
       "16293        NaN    NaN  \n",
       "16329        NaN      M  \n",
       "16348        NaN    NaN  \n",
       "16373        tbd   E10+  \n",
       "16405        6.5      T  \n",
       "16448        6.7      M  \n",
       "16458        NaN    NaN  \n",
       "16522        5.5      T  "
      ]
     },
     "execution_count": 14,
     "metadata": {},
     "output_type": "execute_result"
    }
   ],
   "source": [
    "data.loc[data['year_of_release'].isna()].tail(20)"
   ]
  },
  {
   "cell_type": "markdown",
   "metadata": {},
   "source": [
    "Как мы видим, в строках заполнены остальные графы, поэтому не хочется удалять эти строки, они могут повлиять на исследование. Возьмем игру и посмотрим выпускалась ли она на других платформах с указанием даты."
   ]
  },
  {
   "cell_type": "code",
   "execution_count": 15,
   "metadata": {
    "scrolled": false
   },
   "outputs": [
    {
     "data": {
      "text/html": [
       "<div>\n",
       "<style scoped>\n",
       "    .dataframe tbody tr th:only-of-type {\n",
       "        vertical-align: middle;\n",
       "    }\n",
       "\n",
       "    .dataframe tbody tr th {\n",
       "        vertical-align: top;\n",
       "    }\n",
       "\n",
       "    .dataframe thead th {\n",
       "        text-align: right;\n",
       "    }\n",
       "</style>\n",
       "<table border=\"1\" class=\"dataframe\">\n",
       "  <thead>\n",
       "    <tr style=\"text-align: right;\">\n",
       "      <th></th>\n",
       "      <th>name</th>\n",
       "      <th>platform</th>\n",
       "      <th>year_of_release</th>\n",
       "      <th>genre</th>\n",
       "      <th>na_sales</th>\n",
       "      <th>eu_sales</th>\n",
       "      <th>jp_sales</th>\n",
       "      <th>other_sales</th>\n",
       "      <th>critic_score</th>\n",
       "      <th>user_score</th>\n",
       "      <th>rating</th>\n",
       "    </tr>\n",
       "  </thead>\n",
       "  <tbody>\n",
       "    <tr>\n",
       "      <th>397</th>\n",
       "      <td>LEGO Batman: The Videogame</td>\n",
       "      <td>X360</td>\n",
       "      <td>2008.0</td>\n",
       "      <td>Action</td>\n",
       "      <td>2.04</td>\n",
       "      <td>1.02</td>\n",
       "      <td>0.0</td>\n",
       "      <td>0.32</td>\n",
       "      <td>76.0</td>\n",
       "      <td>7.9</td>\n",
       "      <td>E10+</td>\n",
       "    </tr>\n",
       "    <tr>\n",
       "      <th>456</th>\n",
       "      <td>LEGO Batman: The Videogame</td>\n",
       "      <td>Wii</td>\n",
       "      <td>NaN</td>\n",
       "      <td>Action</td>\n",
       "      <td>1.80</td>\n",
       "      <td>0.97</td>\n",
       "      <td>0.0</td>\n",
       "      <td>0.29</td>\n",
       "      <td>74.0</td>\n",
       "      <td>7.9</td>\n",
       "      <td>E10+</td>\n",
       "    </tr>\n",
       "    <tr>\n",
       "      <th>460</th>\n",
       "      <td>LEGO Batman: The Videogame</td>\n",
       "      <td>DS</td>\n",
       "      <td>2008.0</td>\n",
       "      <td>Action</td>\n",
       "      <td>1.75</td>\n",
       "      <td>1.01</td>\n",
       "      <td>0.0</td>\n",
       "      <td>0.29</td>\n",
       "      <td>72.0</td>\n",
       "      <td>8</td>\n",
       "      <td>E10+</td>\n",
       "    </tr>\n",
       "    <tr>\n",
       "      <th>1519</th>\n",
       "      <td>LEGO Batman: The Videogame</td>\n",
       "      <td>PS3</td>\n",
       "      <td>2008.0</td>\n",
       "      <td>Action</td>\n",
       "      <td>0.72</td>\n",
       "      <td>0.39</td>\n",
       "      <td>0.0</td>\n",
       "      <td>0.19</td>\n",
       "      <td>75.0</td>\n",
       "      <td>7.7</td>\n",
       "      <td>E10+</td>\n",
       "    </tr>\n",
       "    <tr>\n",
       "      <th>1538</th>\n",
       "      <td>LEGO Batman: The Videogame</td>\n",
       "      <td>PSP</td>\n",
       "      <td>NaN</td>\n",
       "      <td>Action</td>\n",
       "      <td>0.57</td>\n",
       "      <td>0.44</td>\n",
       "      <td>0.0</td>\n",
       "      <td>0.27</td>\n",
       "      <td>73.0</td>\n",
       "      <td>7.4</td>\n",
       "      <td>E10+</td>\n",
       "    </tr>\n",
       "    <tr>\n",
       "      <th>1553</th>\n",
       "      <td>LEGO Batman: The Videogame</td>\n",
       "      <td>PS2</td>\n",
       "      <td>2008.0</td>\n",
       "      <td>Action</td>\n",
       "      <td>0.72</td>\n",
       "      <td>0.03</td>\n",
       "      <td>0.0</td>\n",
       "      <td>0.52</td>\n",
       "      <td>77.0</td>\n",
       "      <td>8.9</td>\n",
       "      <td>E10+</td>\n",
       "    </tr>\n",
       "    <tr>\n",
       "      <th>12465</th>\n",
       "      <td>LEGO Batman: The Videogame</td>\n",
       "      <td>PC</td>\n",
       "      <td>2008.0</td>\n",
       "      <td>Action</td>\n",
       "      <td>0.02</td>\n",
       "      <td>0.03</td>\n",
       "      <td>0.0</td>\n",
       "      <td>0.01</td>\n",
       "      <td>80.0</td>\n",
       "      <td>7.8</td>\n",
       "      <td>E10+</td>\n",
       "    </tr>\n",
       "  </tbody>\n",
       "</table>\n",
       "</div>"
      ],
      "text/plain": [
       "                             name platform  year_of_release   genre  na_sales  \\\n",
       "397    LEGO Batman: The Videogame     X360           2008.0  Action      2.04   \n",
       "456    LEGO Batman: The Videogame      Wii              NaN  Action      1.80   \n",
       "460    LEGO Batman: The Videogame       DS           2008.0  Action      1.75   \n",
       "1519   LEGO Batman: The Videogame      PS3           2008.0  Action      0.72   \n",
       "1538   LEGO Batman: The Videogame      PSP              NaN  Action      0.57   \n",
       "1553   LEGO Batman: The Videogame      PS2           2008.0  Action      0.72   \n",
       "12465  LEGO Batman: The Videogame       PC           2008.0  Action      0.02   \n",
       "\n",
       "       eu_sales  jp_sales  other_sales  critic_score user_score rating  \n",
       "397        1.02       0.0         0.32          76.0        7.9   E10+  \n",
       "456        0.97       0.0         0.29          74.0        7.9   E10+  \n",
       "460        1.01       0.0         0.29          72.0          8   E10+  \n",
       "1519       0.39       0.0         0.19          75.0        7.7   E10+  \n",
       "1538       0.44       0.0         0.27          73.0        7.4   E10+  \n",
       "1553       0.03       0.0         0.52          77.0        8.9   E10+  \n",
       "12465      0.03       0.0         0.01          80.0        7.8   E10+  "
      ]
     },
     "execution_count": 15,
     "metadata": {},
     "output_type": "execute_result"
    }
   ],
   "source": [
    "data.loc[data['name']=='LEGO Batman: The Videogame']"
   ]
  },
  {
   "cell_type": "markdown",
   "metadata": {},
   "source": [
    "Как видно пропуски в годах появились просто изза невнимательности, их можно обработать. Сделаем цикл который проходится по названиям, ищет пустые строки в годах и меняет их на медиану года выпуска игры, если игра выпускалась на нескольких платформах. И посмотрим заполнение на примере игры LEGO Batman: The Videogame. С другой стороны, таких пропусков немного, они составляют всего 2% от всего датасета, отметим, что года не указаны на устаревающих платформах, по крайней мере в первых 20 и последних 20 практически все платформы старые. Из новых там только PC, который обновляется не типичным для игровых консолей образом. Удаление таких строк не повлияет на наше исследование."
   ]
  },
  {
   "cell_type": "code",
   "execution_count": 16,
   "metadata": {},
   "outputs": [],
   "source": [
    "#for t in data['name'].unique(): #цикл долгий, но ничего лучше я не придумал\n",
    "    #data.loc[(data['name'] == t) & (data['year_of_release'].isna()), 'year_of_release'] = \\\n",
    "    #data.loc[(data['name'] == t), 'year_of_release'].median()"
   ]
  },
  {
   "cell_type": "code",
   "execution_count": 17,
   "metadata": {
    "scrolled": false
   },
   "outputs": [],
   "source": [
    "#data.loc[data['name']=='LEGO Batman: The Videogame']"
   ]
  },
  {
   "cell_type": "markdown",
   "metadata": {},
   "source": [
    "В итоге решил отказаться от цикла и замены значений, но код сохранил на всякий случай, поэтому заккоментил его."
   ]
  },
  {
   "cell_type": "markdown",
   "metadata": {},
   "source": [
    "В данной игре года заполнились корректно, посмотрим остались ли пропуски."
   ]
  },
  {
   "cell_type": "code",
   "execution_count": 18,
   "metadata": {},
   "outputs": [
    {
     "data": {
      "text/plain": [
       "name                  0\n",
       "platform              0\n",
       "year_of_release     268\n",
       "genre                 0\n",
       "na_sales              0\n",
       "eu_sales              0\n",
       "jp_sales              0\n",
       "other_sales           0\n",
       "critic_score       8576\n",
       "user_score         6699\n",
       "rating             6764\n",
       "dtype: int64"
      ]
     },
     "execution_count": 18,
     "metadata": {},
     "output_type": "execute_result"
    }
   ],
   "source": [
    "data.isna().sum()"
   ]
  },
  {
   "cell_type": "markdown",
   "metadata": {},
   "source": [
    "Пропуски все равно остались, удалим их. А потом приведем колонку к целочисленному типу."
   ]
  },
  {
   "cell_type": "code",
   "execution_count": 19,
   "metadata": {
    "scrolled": true
   },
   "outputs": [
    {
     "data": {
      "text/plain": [
       "name                  0\n",
       "platform              0\n",
       "year_of_release       0\n",
       "genre                 0\n",
       "na_sales              0\n",
       "eu_sales              0\n",
       "jp_sales              0\n",
       "other_sales           0\n",
       "critic_score       8461\n",
       "user_score         6605\n",
       "rating             6676\n",
       "dtype: int64"
      ]
     },
     "execution_count": 19,
     "metadata": {},
     "output_type": "execute_result"
    }
   ],
   "source": [
    "data=data.dropna(subset = ['year_of_release'])\n",
    "data.isna().sum()"
   ]
  },
  {
   "cell_type": "code",
   "execution_count": 20,
   "metadata": {},
   "outputs": [],
   "source": [
    "data['year_of_release'] = data['year_of_release'].astype('int')"
   ]
  },
  {
   "cell_type": "markdown",
   "metadata": {},
   "source": [
    "Посмотрим колонку жанр на дубликаты."
   ]
  },
  {
   "cell_type": "code",
   "execution_count": 21,
   "metadata": {},
   "outputs": [
    {
     "data": {
      "text/plain": [
       "array(['Sports', 'Platform', 'Racing', 'Role-Playing', 'Puzzle', 'Misc',\n",
       "       'Shooter', 'Simulation', 'Action', 'Fighting', 'Adventure',\n",
       "       'Strategy'], dtype=object)"
      ]
     },
     "execution_count": 21,
     "metadata": {},
     "output_type": "execute_result"
    }
   ],
   "source": [
    "data['genre'].unique()"
   ]
  },
  {
   "cell_type": "markdown",
   "metadata": {},
   "source": [
    "В этой колонке все хорошо. \n",
    "\n",
    "Колонки с продажами трогать не будем, перейдем к колонкам с оценками."
   ]
  },
  {
   "cell_type": "code",
   "execution_count": 22,
   "metadata": {
    "scrolled": false
   },
   "outputs": [
    {
     "data": {
      "text/html": [
       "<div>\n",
       "<style scoped>\n",
       "    .dataframe tbody tr th:only-of-type {\n",
       "        vertical-align: middle;\n",
       "    }\n",
       "\n",
       "    .dataframe tbody tr th {\n",
       "        vertical-align: top;\n",
       "    }\n",
       "\n",
       "    .dataframe thead th {\n",
       "        text-align: right;\n",
       "    }\n",
       "</style>\n",
       "<table border=\"1\" class=\"dataframe\">\n",
       "  <thead>\n",
       "    <tr style=\"text-align: right;\">\n",
       "      <th></th>\n",
       "      <th>name</th>\n",
       "      <th>platform</th>\n",
       "      <th>year_of_release</th>\n",
       "      <th>genre</th>\n",
       "      <th>na_sales</th>\n",
       "      <th>eu_sales</th>\n",
       "      <th>jp_sales</th>\n",
       "      <th>other_sales</th>\n",
       "      <th>critic_score</th>\n",
       "      <th>user_score</th>\n",
       "      <th>rating</th>\n",
       "    </tr>\n",
       "  </thead>\n",
       "  <tbody>\n",
       "    <tr>\n",
       "      <th>1</th>\n",
       "      <td>Super Mario Bros.</td>\n",
       "      <td>NES</td>\n",
       "      <td>1985</td>\n",
       "      <td>Platform</td>\n",
       "      <td>29.08</td>\n",
       "      <td>3.58</td>\n",
       "      <td>6.81</td>\n",
       "      <td>0.77</td>\n",
       "      <td>NaN</td>\n",
       "      <td>NaN</td>\n",
       "      <td>NaN</td>\n",
       "    </tr>\n",
       "    <tr>\n",
       "      <th>4</th>\n",
       "      <td>Pokemon Red/Pokemon Blue</td>\n",
       "      <td>GB</td>\n",
       "      <td>1996</td>\n",
       "      <td>Role-Playing</td>\n",
       "      <td>11.27</td>\n",
       "      <td>8.89</td>\n",
       "      <td>10.22</td>\n",
       "      <td>1.00</td>\n",
       "      <td>NaN</td>\n",
       "      <td>NaN</td>\n",
       "      <td>NaN</td>\n",
       "    </tr>\n",
       "    <tr>\n",
       "      <th>5</th>\n",
       "      <td>Tetris</td>\n",
       "      <td>GB</td>\n",
       "      <td>1989</td>\n",
       "      <td>Puzzle</td>\n",
       "      <td>23.20</td>\n",
       "      <td>2.26</td>\n",
       "      <td>4.22</td>\n",
       "      <td>0.58</td>\n",
       "      <td>NaN</td>\n",
       "      <td>NaN</td>\n",
       "      <td>NaN</td>\n",
       "    </tr>\n",
       "    <tr>\n",
       "      <th>9</th>\n",
       "      <td>Duck Hunt</td>\n",
       "      <td>NES</td>\n",
       "      <td>1984</td>\n",
       "      <td>Shooter</td>\n",
       "      <td>26.93</td>\n",
       "      <td>0.63</td>\n",
       "      <td>0.28</td>\n",
       "      <td>0.47</td>\n",
       "      <td>NaN</td>\n",
       "      <td>NaN</td>\n",
       "      <td>NaN</td>\n",
       "    </tr>\n",
       "    <tr>\n",
       "      <th>10</th>\n",
       "      <td>Nintendogs</td>\n",
       "      <td>DS</td>\n",
       "      <td>2005</td>\n",
       "      <td>Simulation</td>\n",
       "      <td>9.05</td>\n",
       "      <td>10.95</td>\n",
       "      <td>1.93</td>\n",
       "      <td>2.74</td>\n",
       "      <td>NaN</td>\n",
       "      <td>NaN</td>\n",
       "      <td>NaN</td>\n",
       "    </tr>\n",
       "    <tr>\n",
       "      <th>12</th>\n",
       "      <td>Pokemon Gold/Pokemon Silver</td>\n",
       "      <td>GB</td>\n",
       "      <td>1999</td>\n",
       "      <td>Role-Playing</td>\n",
       "      <td>9.00</td>\n",
       "      <td>6.18</td>\n",
       "      <td>7.20</td>\n",
       "      <td>0.71</td>\n",
       "      <td>NaN</td>\n",
       "      <td>NaN</td>\n",
       "      <td>NaN</td>\n",
       "    </tr>\n",
       "    <tr>\n",
       "      <th>18</th>\n",
       "      <td>Super Mario World</td>\n",
       "      <td>SNES</td>\n",
       "      <td>1990</td>\n",
       "      <td>Platform</td>\n",
       "      <td>12.78</td>\n",
       "      <td>3.75</td>\n",
       "      <td>3.54</td>\n",
       "      <td>0.55</td>\n",
       "      <td>NaN</td>\n",
       "      <td>NaN</td>\n",
       "      <td>NaN</td>\n",
       "    </tr>\n",
       "    <tr>\n",
       "      <th>20</th>\n",
       "      <td>Pokemon Diamond/Pokemon Pearl</td>\n",
       "      <td>DS</td>\n",
       "      <td>2006</td>\n",
       "      <td>Role-Playing</td>\n",
       "      <td>6.38</td>\n",
       "      <td>4.46</td>\n",
       "      <td>6.04</td>\n",
       "      <td>1.36</td>\n",
       "      <td>NaN</td>\n",
       "      <td>NaN</td>\n",
       "      <td>NaN</td>\n",
       "    </tr>\n",
       "    <tr>\n",
       "      <th>21</th>\n",
       "      <td>Super Mario Land</td>\n",
       "      <td>GB</td>\n",
       "      <td>1989</td>\n",
       "      <td>Platform</td>\n",
       "      <td>10.83</td>\n",
       "      <td>2.71</td>\n",
       "      <td>4.18</td>\n",
       "      <td>0.42</td>\n",
       "      <td>NaN</td>\n",
       "      <td>NaN</td>\n",
       "      <td>NaN</td>\n",
       "    </tr>\n",
       "    <tr>\n",
       "      <th>22</th>\n",
       "      <td>Super Mario Bros. 3</td>\n",
       "      <td>NES</td>\n",
       "      <td>1988</td>\n",
       "      <td>Platform</td>\n",
       "      <td>9.54</td>\n",
       "      <td>3.44</td>\n",
       "      <td>3.84</td>\n",
       "      <td>0.46</td>\n",
       "      <td>NaN</td>\n",
       "      <td>NaN</td>\n",
       "      <td>NaN</td>\n",
       "    </tr>\n",
       "    <tr>\n",
       "      <th>25</th>\n",
       "      <td>Pokemon Ruby/Pokemon Sapphire</td>\n",
       "      <td>GBA</td>\n",
       "      <td>2002</td>\n",
       "      <td>Role-Playing</td>\n",
       "      <td>6.06</td>\n",
       "      <td>3.90</td>\n",
       "      <td>5.38</td>\n",
       "      <td>0.50</td>\n",
       "      <td>NaN</td>\n",
       "      <td>NaN</td>\n",
       "      <td>NaN</td>\n",
       "    </tr>\n",
       "    <tr>\n",
       "      <th>27</th>\n",
       "      <td>Pokemon Black/Pokemon White</td>\n",
       "      <td>DS</td>\n",
       "      <td>2010</td>\n",
       "      <td>Role-Playing</td>\n",
       "      <td>5.51</td>\n",
       "      <td>3.17</td>\n",
       "      <td>5.65</td>\n",
       "      <td>0.80</td>\n",
       "      <td>NaN</td>\n",
       "      <td>NaN</td>\n",
       "      <td>NaN</td>\n",
       "    </tr>\n",
       "    <tr>\n",
       "      <th>30</th>\n",
       "      <td>Pokémon Yellow: Special Pikachu Edition</td>\n",
       "      <td>GB</td>\n",
       "      <td>1998</td>\n",
       "      <td>Role-Playing</td>\n",
       "      <td>5.89</td>\n",
       "      <td>5.04</td>\n",
       "      <td>3.12</td>\n",
       "      <td>0.59</td>\n",
       "      <td>NaN</td>\n",
       "      <td>NaN</td>\n",
       "      <td>NaN</td>\n",
       "    </tr>\n",
       "    <tr>\n",
       "      <th>31</th>\n",
       "      <td>Call of Duty: Black Ops 3</td>\n",
       "      <td>PS4</td>\n",
       "      <td>2015</td>\n",
       "      <td>Shooter</td>\n",
       "      <td>6.03</td>\n",
       "      <td>5.86</td>\n",
       "      <td>0.36</td>\n",
       "      <td>2.38</td>\n",
       "      <td>NaN</td>\n",
       "      <td>NaN</td>\n",
       "      <td>NaN</td>\n",
       "    </tr>\n",
       "    <tr>\n",
       "      <th>33</th>\n",
       "      <td>Pokemon X/Pokemon Y</td>\n",
       "      <td>3DS</td>\n",
       "      <td>2013</td>\n",
       "      <td>Role-Playing</td>\n",
       "      <td>5.28</td>\n",
       "      <td>4.19</td>\n",
       "      <td>4.35</td>\n",
       "      <td>0.78</td>\n",
       "      <td>NaN</td>\n",
       "      <td>NaN</td>\n",
       "      <td>NaN</td>\n",
       "    </tr>\n",
       "    <tr>\n",
       "      <th>45</th>\n",
       "      <td>Super Mario 64</td>\n",
       "      <td>N64</td>\n",
       "      <td>1996</td>\n",
       "      <td>Platform</td>\n",
       "      <td>6.91</td>\n",
       "      <td>2.85</td>\n",
       "      <td>1.91</td>\n",
       "      <td>0.23</td>\n",
       "      <td>NaN</td>\n",
       "      <td>NaN</td>\n",
       "      <td>NaN</td>\n",
       "    </tr>\n",
       "    <tr>\n",
       "      <th>46</th>\n",
       "      <td>Pokemon HeartGold/Pokemon SoulSilver</td>\n",
       "      <td>DS</td>\n",
       "      <td>2009</td>\n",
       "      <td>Action</td>\n",
       "      <td>4.34</td>\n",
       "      <td>2.71</td>\n",
       "      <td>3.96</td>\n",
       "      <td>0.76</td>\n",
       "      <td>NaN</td>\n",
       "      <td>NaN</td>\n",
       "      <td>NaN</td>\n",
       "    </tr>\n",
       "    <tr>\n",
       "      <th>47</th>\n",
       "      <td>Pokemon Omega Ruby/Pokemon Alpha Sapphire</td>\n",
       "      <td>3DS</td>\n",
       "      <td>2014</td>\n",
       "      <td>Role-Playing</td>\n",
       "      <td>4.35</td>\n",
       "      <td>3.49</td>\n",
       "      <td>3.10</td>\n",
       "      <td>0.74</td>\n",
       "      <td>NaN</td>\n",
       "      <td>NaN</td>\n",
       "      <td>NaN</td>\n",
       "    </tr>\n",
       "    <tr>\n",
       "      <th>50</th>\n",
       "      <td>Super Mario Land 2: 6 Golden Coins</td>\n",
       "      <td>GB</td>\n",
       "      <td>1992</td>\n",
       "      <td>Adventure</td>\n",
       "      <td>6.16</td>\n",
       "      <td>2.04</td>\n",
       "      <td>2.69</td>\n",
       "      <td>0.29</td>\n",
       "      <td>NaN</td>\n",
       "      <td>NaN</td>\n",
       "      <td>NaN</td>\n",
       "    </tr>\n",
       "    <tr>\n",
       "      <th>56</th>\n",
       "      <td>Super Mario All-Stars</td>\n",
       "      <td>SNES</td>\n",
       "      <td>1993</td>\n",
       "      <td>Platform</td>\n",
       "      <td>5.99</td>\n",
       "      <td>2.15</td>\n",
       "      <td>2.12</td>\n",
       "      <td>0.29</td>\n",
       "      <td>NaN</td>\n",
       "      <td>NaN</td>\n",
       "      <td>NaN</td>\n",
       "    </tr>\n",
       "  </tbody>\n",
       "</table>\n",
       "</div>"
      ],
      "text/plain": [
       "                                         name platform  year_of_release  \\\n",
       "1                           Super Mario Bros.      NES             1985   \n",
       "4                    Pokemon Red/Pokemon Blue       GB             1996   \n",
       "5                                      Tetris       GB             1989   \n",
       "9                                   Duck Hunt      NES             1984   \n",
       "10                                 Nintendogs       DS             2005   \n",
       "12                Pokemon Gold/Pokemon Silver       GB             1999   \n",
       "18                          Super Mario World     SNES             1990   \n",
       "20              Pokemon Diamond/Pokemon Pearl       DS             2006   \n",
       "21                           Super Mario Land       GB             1989   \n",
       "22                        Super Mario Bros. 3      NES             1988   \n",
       "25              Pokemon Ruby/Pokemon Sapphire      GBA             2002   \n",
       "27                Pokemon Black/Pokemon White       DS             2010   \n",
       "30    Pokémon Yellow: Special Pikachu Edition       GB             1998   \n",
       "31                  Call of Duty: Black Ops 3      PS4             2015   \n",
       "33                        Pokemon X/Pokemon Y      3DS             2013   \n",
       "45                             Super Mario 64      N64             1996   \n",
       "46       Pokemon HeartGold/Pokemon SoulSilver       DS             2009   \n",
       "47  Pokemon Omega Ruby/Pokemon Alpha Sapphire      3DS             2014   \n",
       "50         Super Mario Land 2: 6 Golden Coins       GB             1992   \n",
       "56                      Super Mario All-Stars     SNES             1993   \n",
       "\n",
       "           genre  na_sales  eu_sales  jp_sales  other_sales  critic_score  \\\n",
       "1       Platform     29.08      3.58      6.81         0.77           NaN   \n",
       "4   Role-Playing     11.27      8.89     10.22         1.00           NaN   \n",
       "5         Puzzle     23.20      2.26      4.22         0.58           NaN   \n",
       "9        Shooter     26.93      0.63      0.28         0.47           NaN   \n",
       "10    Simulation      9.05     10.95      1.93         2.74           NaN   \n",
       "12  Role-Playing      9.00      6.18      7.20         0.71           NaN   \n",
       "18      Platform     12.78      3.75      3.54         0.55           NaN   \n",
       "20  Role-Playing      6.38      4.46      6.04         1.36           NaN   \n",
       "21      Platform     10.83      2.71      4.18         0.42           NaN   \n",
       "22      Platform      9.54      3.44      3.84         0.46           NaN   \n",
       "25  Role-Playing      6.06      3.90      5.38         0.50           NaN   \n",
       "27  Role-Playing      5.51      3.17      5.65         0.80           NaN   \n",
       "30  Role-Playing      5.89      5.04      3.12         0.59           NaN   \n",
       "31       Shooter      6.03      5.86      0.36         2.38           NaN   \n",
       "33  Role-Playing      5.28      4.19      4.35         0.78           NaN   \n",
       "45      Platform      6.91      2.85      1.91         0.23           NaN   \n",
       "46        Action      4.34      2.71      3.96         0.76           NaN   \n",
       "47  Role-Playing      4.35      3.49      3.10         0.74           NaN   \n",
       "50     Adventure      6.16      2.04      2.69         0.29           NaN   \n",
       "56      Platform      5.99      2.15      2.12         0.29           NaN   \n",
       "\n",
       "   user_score rating  \n",
       "1         NaN    NaN  \n",
       "4         NaN    NaN  \n",
       "5         NaN    NaN  \n",
       "9         NaN    NaN  \n",
       "10        NaN    NaN  \n",
       "12        NaN    NaN  \n",
       "18        NaN    NaN  \n",
       "20        NaN    NaN  \n",
       "21        NaN    NaN  \n",
       "22        NaN    NaN  \n",
       "25        NaN    NaN  \n",
       "27        NaN    NaN  \n",
       "30        NaN    NaN  \n",
       "31        NaN    NaN  \n",
       "33        NaN    NaN  \n",
       "45        NaN    NaN  \n",
       "46        NaN    NaN  \n",
       "47        NaN    NaN  \n",
       "50        NaN    NaN  \n",
       "56        NaN    NaN  "
      ]
     },
     "execution_count": 22,
     "metadata": {},
     "output_type": "execute_result"
    }
   ],
   "source": [
    "data.loc[data['critic_score'].isna()].head(20)"
   ]
  },
  {
   "cell_type": "markdown",
   "metadata": {},
   "source": [
    "Во многих строках с пропусками оценок критиков, отсутствуют и оценки пользователей и рейтинг.\n",
    "Скорее всего пользователи и критики оценивали игры не на всех платформах, потому что посчитали это бессмысленным. Так же повлиял год, большинство игр достаточно старые и в те годы не так была развита игровая индустрия. Возрастной рейтинг оценивает американская компания, которая скорее пропускает многие Японские игры, если не все.\n",
    "\n",
    "Посмотрим какие уникальные значения оценок и рейтинга."
   ]
  },
  {
   "cell_type": "code",
   "execution_count": 23,
   "metadata": {},
   "outputs": [
    {
     "data": {
      "text/plain": [
       "array([76., nan, 82., 80., 89., 58., 87., 91., 61., 97., 95., 77., 88.,\n",
       "       83., 94., 93., 85., 86., 98., 96., 90., 84., 73., 74., 78., 92.,\n",
       "       71., 72., 68., 62., 49., 67., 81., 66., 56., 79., 70., 59., 64.,\n",
       "       75., 60., 63., 69., 50., 25., 42., 44., 55., 48., 57., 29., 47.,\n",
       "       65., 54., 20., 53., 37., 38., 33., 52., 30., 32., 43., 45., 51.,\n",
       "       40., 46., 39., 34., 41., 36., 31., 27., 35., 26., 19., 28., 23.,\n",
       "       24., 21., 17., 13.])"
      ]
     },
     "execution_count": 23,
     "metadata": {},
     "output_type": "execute_result"
    }
   ],
   "source": [
    "data['critic_score'].unique()"
   ]
  },
  {
   "cell_type": "code",
   "execution_count": 24,
   "metadata": {},
   "outputs": [
    {
     "data": {
      "text/plain": [
       "array(['8', nan, '8.3', '8.5', '6.6', '8.4', '8.6', '7.7', '6.3', '7.4',\n",
       "       '8.2', '9', '7.9', '8.1', '8.7', '7.1', '3.4', '5.3', '4.8', '3.2',\n",
       "       '8.9', '6.4', '7.8', '7.5', '2.6', '7.2', '9.2', '7', '7.3', '4.3',\n",
       "       '7.6', '5.7', '5', '9.1', '6.5', 'tbd', '8.8', '6.9', '9.4', '6.8',\n",
       "       '6.1', '6.7', '5.4', '4', '4.9', '4.5', '9.3', '6.2', '4.2', '6',\n",
       "       '3.7', '4.1', '5.8', '5.6', '5.5', '4.4', '4.6', '5.9', '3.9',\n",
       "       '3.1', '2.9', '5.2', '3.3', '4.7', '5.1', '3.5', '2.5', '1.9', '3',\n",
       "       '2.7', '2.2', '2', '9.5', '2.1', '3.6', '2.8', '1.8', '3.8', '0',\n",
       "       '1.6', '9.6', '2.4', '1.7', '1.1', '0.3', '1.5', '0.7', '1.2',\n",
       "       '2.3', '0.5', '1.3', '0.2', '0.6', '1.4', '0.9', '1', '9.7'],\n",
       "      dtype=object)"
      ]
     },
     "execution_count": 24,
     "metadata": {},
     "output_type": "execute_result"
    }
   ],
   "source": [
    "data['user_score'].unique()"
   ]
  },
  {
   "cell_type": "code",
   "execution_count": 25,
   "metadata": {},
   "outputs": [
    {
     "data": {
      "text/plain": [
       "array(['E', nan, 'M', 'T', 'E10+', 'K-A', 'AO', 'EC', 'RP'], dtype=object)"
      ]
     },
     "execution_count": 25,
     "metadata": {},
     "output_type": "execute_result"
    }
   ],
   "source": [
    "data['rating'].unique()"
   ]
  },
  {
   "cell_type": "markdown",
   "metadata": {},
   "source": [
    "Оценки критиков имеют соответствующий формат и заполнены числами. Так же там есть пустые значения, мы их не сможем заполнить, так как нам невозможно предугадать оценки критиков. С оценками пользователей тоже самое, но есть специфочное значение 'tbd', которое означает неизвестная оценка. Заменим его на nan. В возрастном рейтинге так же есть пустые значения, но мы не сможем их оценить, так как не сможем дать экспертную оценку играм."
   ]
  },
  {
   "cell_type": "code",
   "execution_count": 26,
   "metadata": {},
   "outputs": [],
   "source": [
    "data['user_score'] = data['user_score'].replace('tbd', None)"
   ]
  },
  {
   "cell_type": "code",
   "execution_count": 27,
   "metadata": {},
   "outputs": [],
   "source": [
    "data['user_score'] = data['user_score'].astype(float)"
   ]
  },
  {
   "cell_type": "markdown",
   "metadata": {},
   "source": [
    "Добавим в таблицу столбец с итоговой суммой продажи"
   ]
  },
  {
   "cell_type": "code",
   "execution_count": 28,
   "metadata": {
    "scrolled": true
   },
   "outputs": [
    {
     "data": {
      "text/html": [
       "<div>\n",
       "<style scoped>\n",
       "    .dataframe tbody tr th:only-of-type {\n",
       "        vertical-align: middle;\n",
       "    }\n",
       "\n",
       "    .dataframe tbody tr th {\n",
       "        vertical-align: top;\n",
       "    }\n",
       "\n",
       "    .dataframe thead th {\n",
       "        text-align: right;\n",
       "    }\n",
       "</style>\n",
       "<table border=\"1\" class=\"dataframe\">\n",
       "  <thead>\n",
       "    <tr style=\"text-align: right;\">\n",
       "      <th></th>\n",
       "      <th>name</th>\n",
       "      <th>platform</th>\n",
       "      <th>year_of_release</th>\n",
       "      <th>genre</th>\n",
       "      <th>na_sales</th>\n",
       "      <th>eu_sales</th>\n",
       "      <th>jp_sales</th>\n",
       "      <th>other_sales</th>\n",
       "      <th>critic_score</th>\n",
       "      <th>user_score</th>\n",
       "      <th>rating</th>\n",
       "      <th>total_sales</th>\n",
       "    </tr>\n",
       "  </thead>\n",
       "  <tbody>\n",
       "    <tr>\n",
       "      <th>0</th>\n",
       "      <td>Wii Sports</td>\n",
       "      <td>Wii</td>\n",
       "      <td>2006</td>\n",
       "      <td>Sports</td>\n",
       "      <td>41.36</td>\n",
       "      <td>28.96</td>\n",
       "      <td>3.77</td>\n",
       "      <td>8.45</td>\n",
       "      <td>76.0</td>\n",
       "      <td>8.0</td>\n",
       "      <td>E</td>\n",
       "      <td>82.54</td>\n",
       "    </tr>\n",
       "    <tr>\n",
       "      <th>1</th>\n",
       "      <td>Super Mario Bros.</td>\n",
       "      <td>NES</td>\n",
       "      <td>1985</td>\n",
       "      <td>Platform</td>\n",
       "      <td>29.08</td>\n",
       "      <td>3.58</td>\n",
       "      <td>6.81</td>\n",
       "      <td>0.77</td>\n",
       "      <td>NaN</td>\n",
       "      <td>NaN</td>\n",
       "      <td>NaN</td>\n",
       "      <td>40.24</td>\n",
       "    </tr>\n",
       "    <tr>\n",
       "      <th>2</th>\n",
       "      <td>Mario Kart Wii</td>\n",
       "      <td>Wii</td>\n",
       "      <td>2008</td>\n",
       "      <td>Racing</td>\n",
       "      <td>15.68</td>\n",
       "      <td>12.76</td>\n",
       "      <td>3.79</td>\n",
       "      <td>3.29</td>\n",
       "      <td>82.0</td>\n",
       "      <td>8.3</td>\n",
       "      <td>E</td>\n",
       "      <td>35.52</td>\n",
       "    </tr>\n",
       "    <tr>\n",
       "      <th>3</th>\n",
       "      <td>Wii Sports Resort</td>\n",
       "      <td>Wii</td>\n",
       "      <td>2009</td>\n",
       "      <td>Sports</td>\n",
       "      <td>15.61</td>\n",
       "      <td>10.93</td>\n",
       "      <td>3.28</td>\n",
       "      <td>2.95</td>\n",
       "      <td>80.0</td>\n",
       "      <td>8.0</td>\n",
       "      <td>E</td>\n",
       "      <td>32.77</td>\n",
       "    </tr>\n",
       "    <tr>\n",
       "      <th>4</th>\n",
       "      <td>Pokemon Red/Pokemon Blue</td>\n",
       "      <td>GB</td>\n",
       "      <td>1996</td>\n",
       "      <td>Role-Playing</td>\n",
       "      <td>11.27</td>\n",
       "      <td>8.89</td>\n",
       "      <td>10.22</td>\n",
       "      <td>1.00</td>\n",
       "      <td>NaN</td>\n",
       "      <td>NaN</td>\n",
       "      <td>NaN</td>\n",
       "      <td>31.38</td>\n",
       "    </tr>\n",
       "  </tbody>\n",
       "</table>\n",
       "</div>"
      ],
      "text/plain": [
       "                       name platform  year_of_release         genre  na_sales  \\\n",
       "0                Wii Sports      Wii             2006        Sports     41.36   \n",
       "1         Super Mario Bros.      NES             1985      Platform     29.08   \n",
       "2            Mario Kart Wii      Wii             2008        Racing     15.68   \n",
       "3         Wii Sports Resort      Wii             2009        Sports     15.61   \n",
       "4  Pokemon Red/Pokemon Blue       GB             1996  Role-Playing     11.27   \n",
       "\n",
       "   eu_sales  jp_sales  other_sales  critic_score  user_score rating  \\\n",
       "0     28.96      3.77         8.45          76.0         8.0      E   \n",
       "1      3.58      6.81         0.77           NaN         NaN    NaN   \n",
       "2     12.76      3.79         3.29          82.0         8.3      E   \n",
       "3     10.93      3.28         2.95          80.0         8.0      E   \n",
       "4      8.89     10.22         1.00           NaN         NaN    NaN   \n",
       "\n",
       "   total_sales  \n",
       "0        82.54  \n",
       "1        40.24  \n",
       "2        35.52  \n",
       "3        32.77  \n",
       "4        31.38  "
      ]
     },
     "execution_count": 28,
     "metadata": {},
     "output_type": "execute_result"
    }
   ],
   "source": [
    "data['total_sales'] = data['na_sales'] + data['eu_sales'] + data['jp_sales'] + data['other_sales']\n",
    "data.head()"
   ]
  },
  {
   "cell_type": "markdown",
   "metadata": {},
   "source": [
    "Мы обработали данные, привели колонки к подходящему типу данных, заполнили пропуски по возможности, удалили неподходящие данные. Теперь перейдем к исследовательскому анализу данных."
   ]
  },
  {
   "cell_type": "markdown",
   "metadata": {},
   "source": [
    "### Исследовательский анализ данных  <a id='id3'></a>"
   ]
  },
  {
   "cell_type": "markdown",
   "metadata": {},
   "source": [
    "Для начала посмотрим сколько игр выпускалось в разные годы."
   ]
  },
  {
   "cell_type": "code",
   "execution_count": 29,
   "metadata": {},
   "outputs": [
    {
     "data": {
      "image/png": "[encoded data removed]",
      "text/plain": [
       "<Figure size 1440x720 with 1 Axes>"
      ]
     },
     "metadata": {
      "needs_background": "light"
     },
     "output_type": "display_data"
    }
   ],
   "source": [
    "data['year_of_release'].hist(bins=18, figsize=(20,10))\n",
    "plt.title('Выпуск игр по годам', fontsize = 16)\n",
    "plt.ylabel('Количество игр', fontsize = 16) \n",
    "plt.xlabel('Год', fontsize = 16) \n",
    "plt.show()"
   ]
  },
  {
   "cell_type": "code",
   "execution_count": 30,
   "metadata": {},
   "outputs": [
    {
     "data": {
      "image/png": "[encoded data removed]",
      "text/plain": [
       "<Figure size 1440x720 with 1 Axes>"
      ]
     },
     "metadata": {
      "needs_background": "light"
     },
     "output_type": "display_data"
    }
   ],
   "source": [
    "df32 = data[['name', 'year_of_release']].copy().drop_duplicates()\n",
    "df32.hist(bins=18, figsize=(20,10))\n",
    "plt.title('Выпуск игр по годам', fontsize = 16)\n",
    "plt.ylabel('Количество игр', fontsize = 16) \n",
    "plt.xlabel('Год', fontsize = 16) \n",
    "plt.show()"
   ]
  },
  {
   "cell_type": "markdown",
   "metadata": {},
   "source": [
    "Как мы видим, продажи по-немногу росли каждый год, с небольшими просадками. Пик продаж приходится на 2009-2010 год, потом последовал резкий спад и небольшой подъем. Скорее всего, спад вызван кризисом 2008 года. Тогда прошла большая волна банкротств, и не все организации пережили это.\n",
    "\n",
    "Посмотрим продажи по всем платформам."
   ]
  },
  {
   "cell_type": "code",
   "execution_count": 31,
   "metadata": {},
   "outputs": [
    {
     "data": {
      "text/plain": [
       "platform\n",
       "PS2     1233.56\n",
       "X360     959.99\n",
       "PS3      931.33\n",
       "Wii      891.18\n",
       "DS       802.78\n",
       "PS       727.58\n",
       "PS4      314.14\n",
       "GBA      312.88\n",
       "PSP      289.53\n",
       "3DS      257.81\n",
       "PC       255.68\n",
       "GB       254.43\n",
       "XB       251.57\n",
       "NES      251.05\n",
       "N64      218.01\n",
       "SNES     200.04\n",
       "GC       196.73\n",
       "XOne     159.32\n",
       "2600      86.48\n",
       "WiiU      82.19\n",
       "PSV       53.81\n",
       "SAT       33.59\n",
       "GEN       28.35\n",
       "DC        15.95\n",
       "SCD        1.86\n",
       "NG         1.44\n",
       "WS         1.42\n",
       "TG16       0.16\n",
       "3DO        0.10\n",
       "GG         0.04\n",
       "PCFX       0.03\n",
       "Name: total_sales, dtype: float64"
      ]
     },
     "execution_count": 31,
     "metadata": {},
     "output_type": "execute_result"
    }
   ],
   "source": [
    "data.groupby('platform')['total_sales'].sum().sort_values(ascending=False)"
   ]
  },
  {
   "cell_type": "markdown",
   "metadata": {},
   "source": [
    "За все время наибольшее количество продаж было на PS2, на втором месте X360, на третьем PS3. Эти платформы наиболее популярны, но скорее всего уже неактуальны, рассмотрим на каких платформах еще выпускают игры, а какие уже неактуальны."
   ]
  },
  {
   "cell_type": "code",
   "execution_count": 32,
   "metadata": {},
   "outputs": [
    {
     "data": {
      "image/png": "[encoded data removed]",
      "text/plain": [
       "<Figure size 936x576 with 2 Axes>"
      ]
     },
     "metadata": {
      "needs_background": "light"
     },
     "output_type": "display_data"
    }
   ],
   "source": [
    "plt.figure(figsize = (13,8))\n",
    "sns.heatmap(data.pivot_table(\n",
    "        index='platform', columns='year_of_release', values='total_sales', aggfunc='sum'))\n",
    "\n",
    "plt.title('Выпуск игр в зависимости от платформы', fontsize = 16)\n",
    "plt.ylabel('Платформа', fontsize = 16) \n",
    "plt.xlabel('Год', fontsize = 16) \n",
    "plt.show()"
   ]
  },
  {
   "cell_type": "markdown",
   "metadata": {},
   "source": [
    "Как мы видим в игровой индустрии спад последние годы, до 2016 года дожило не очень много платформ, а некоторые платформы прошли свои пики популярости. В среднем же платформы популярны в течении 10 лет. Набирает обороты PS4, XOne так же вышел относительно недавно, но все таки уступает в продажах PS4. \n",
    "\n",
    "Отфильтруем датасет, оставив данные с 2009 года. Так мы увидим только популярные платформы."
   ]
  },
  {
   "cell_type": "code",
   "execution_count": 33,
   "metadata": {},
   "outputs": [],
   "source": [
    "df = data.loc[data['year_of_release']>2013]"
   ]
  },
  {
   "cell_type": "code",
   "execution_count": 34,
   "metadata": {},
   "outputs": [
    {
     "data": {
      "image/png": "[encoded data removed]",
      "text/plain": [
       "<Figure size 432x288 with 2 Axes>"
      ]
     },
     "metadata": {
      "needs_background": "light"
     },
     "output_type": "display_data"
    }
   ],
   "source": [
    "sns.heatmap(df.pivot_table(\n",
    "    index='platform', columns='year_of_release', values='total_sales', aggfunc='sum'))\n",
    "\n",
    "plt.title('Выпуск игр в зависимости от платформы', fontsize = 14)\n",
    "plt.ylabel('Платформа', fontsize = 14) \n",
    "plt.xlabel('Год', fontsize = 14) \n",
    "plt.show()"
   ]
  },
  {
   "cell_type": "markdown",
   "metadata": {},
   "source": [
    "Как мы видим, 3DS, PS3, PSV, Wii, X360 прошли пики своей популярности и значительно сбавили обороты. PS4, XOne все еще на пике популярности, так же неизменно стабилен PC. На эти три платформы стоит сделать особоенный упор. "
   ]
  },
  {
   "cell_type": "markdown",
   "metadata": {},
   "source": [
    "Построим боксплоты по глобальным продажам игр."
   ]
  },
  {
   "cell_type": "code",
   "execution_count": 35,
   "metadata": {},
   "outputs": [
    {
     "data": {
      "image/png": "[encoded data removed]",
      "text/plain": [
       "<Figure size 1440x720 with 1 Axes>"
      ]
     },
     "metadata": {
      "needs_background": "light"
     },
     "output_type": "display_data"
    }
   ],
   "source": [
    "df.pivot_table(\n",
    "    index='year_of_release', columns='platform', values='total_sales', aggfunc='sum'\n",
    ").plot(kind='box', figsize=[20, 10]\n",
    "      )\n",
    "plt.title('Выпуск игр в зависимости от платформы', fontsize = 16)\n",
    "plt.ylabel('Сумма продаж', fontsize = 14) \n",
    "plt.xlabel('Платформа', fontsize = 14) \n",
    "plt.show()"
   ]
  },
  {
   "cell_type": "code",
   "execution_count": 36,
   "metadata": {},
   "outputs": [
    {
     "data": {
      "image/png": "[encoded data removed]",
      "text/plain": [
       "<Figure size 1440x720 with 1 Axes>"
      ]
     },
     "metadata": {
      "needs_background": "light"
     },
     "output_type": "display_data"
    }
   ],
   "source": [
    "df.pivot_table(\n",
    "    index='year_of_release', columns='platform', values='total_sales', aggfunc='sum'\n",
    ").plot(kind='box', ylim=(0,20), figsize=[20, 10]\n",
    "      )\n",
    "plt.title('Выпуск игр в зависимости от платформы', fontsize = 16)\n",
    "plt.ylabel('Сумма продаж', fontsize = 14) \n",
    "plt.xlabel('Платформа', fontsize = 14) \n",
    "plt.show()"
   ]
  },
  {
   "cell_type": "code",
   "execution_count": 37,
   "metadata": {},
   "outputs": [
    {
     "data": {
      "text/html": [
       "<div>\n",
       "<style scoped>\n",
       "    .dataframe tbody tr th:only-of-type {\n",
       "        vertical-align: middle;\n",
       "    }\n",
       "\n",
       "    .dataframe tbody tr th {\n",
       "        vertical-align: top;\n",
       "    }\n",
       "\n",
       "    .dataframe thead th {\n",
       "        text-align: right;\n",
       "    }\n",
       "</style>\n",
       "<table border=\"1\" class=\"dataframe\">\n",
       "  <thead>\n",
       "    <tr style=\"text-align: right;\">\n",
       "      <th>platform</th>\n",
       "      <th>3DS</th>\n",
       "      <th>PC</th>\n",
       "      <th>PS3</th>\n",
       "      <th>PS4</th>\n",
       "      <th>PSP</th>\n",
       "      <th>PSV</th>\n",
       "      <th>Wii</th>\n",
       "      <th>WiiU</th>\n",
       "      <th>X360</th>\n",
       "      <th>XOne</th>\n",
       "    </tr>\n",
       "  </thead>\n",
       "  <tbody>\n",
       "    <tr>\n",
       "      <th>count</th>\n",
       "      <td>3.000000</td>\n",
       "      <td>3.000000</td>\n",
       "      <td>3.000000</td>\n",
       "      <td>3.000000</td>\n",
       "      <td>2.000000</td>\n",
       "      <td>3.000000</td>\n",
       "      <td>3.000000</td>\n",
       "      <td>3.000000</td>\n",
       "      <td>3.000000</td>\n",
       "      <td>3.000000</td>\n",
       "    </tr>\n",
       "    <tr>\n",
       "      <th>mean</th>\n",
       "      <td>28.893333</td>\n",
       "      <td>9.016667</td>\n",
       "      <td>22.726667</td>\n",
       "      <td>96.050000</td>\n",
       "      <td>0.180000</td>\n",
       "      <td>7.466667</td>\n",
       "      <td>1.690000</td>\n",
       "      <td>14.326667</td>\n",
       "      <td>16.073333</td>\n",
       "      <td>46.786667</td>\n",
       "    </tr>\n",
       "    <tr>\n",
       "      <th>std</th>\n",
       "      <td>14.342445</td>\n",
       "      <td>4.037974</td>\n",
       "      <td>22.664795</td>\n",
       "      <td>25.059579</td>\n",
       "      <td>0.084853</td>\n",
       "      <td>3.967472</td>\n",
       "      <td>1.847458</td>\n",
       "      <td>8.889411</td>\n",
       "      <td>16.987694</td>\n",
       "      <td>18.127748</td>\n",
       "    </tr>\n",
       "    <tr>\n",
       "      <th>min</th>\n",
       "      <td>15.140000</td>\n",
       "      <td>5.250000</td>\n",
       "      <td>3.600000</td>\n",
       "      <td>69.250000</td>\n",
       "      <td>0.120000</td>\n",
       "      <td>4.250000</td>\n",
       "      <td>0.180000</td>\n",
       "      <td>4.600000</td>\n",
       "      <td>1.520000</td>\n",
       "      <td>26.150000</td>\n",
       "    </tr>\n",
       "    <tr>\n",
       "      <th>25%</th>\n",
       "      <td>21.460000</td>\n",
       "      <td>6.885000</td>\n",
       "      <td>10.210000</td>\n",
       "      <td>84.625000</td>\n",
       "      <td>0.150000</td>\n",
       "      <td>5.250000</td>\n",
       "      <td>0.660000</td>\n",
       "      <td>10.475000</td>\n",
       "      <td>6.740000</td>\n",
       "      <td>40.110000</td>\n",
       "    </tr>\n",
       "    <tr>\n",
       "      <th>50%</th>\n",
       "      <td>27.780000</td>\n",
       "      <td>8.520000</td>\n",
       "      <td>16.820000</td>\n",
       "      <td>100.000000</td>\n",
       "      <td>0.180000</td>\n",
       "      <td>6.250000</td>\n",
       "      <td>1.140000</td>\n",
       "      <td>16.350000</td>\n",
       "      <td>11.960000</td>\n",
       "      <td>54.070000</td>\n",
       "    </tr>\n",
       "    <tr>\n",
       "      <th>75%</th>\n",
       "      <td>35.770000</td>\n",
       "      <td>10.900000</td>\n",
       "      <td>32.290000</td>\n",
       "      <td>109.450000</td>\n",
       "      <td>0.210000</td>\n",
       "      <td>9.075000</td>\n",
       "      <td>2.445000</td>\n",
       "      <td>19.190000</td>\n",
       "      <td>23.350000</td>\n",
       "      <td>57.105000</td>\n",
       "    </tr>\n",
       "    <tr>\n",
       "      <th>max</th>\n",
       "      <td>43.760000</td>\n",
       "      <td>13.280000</td>\n",
       "      <td>47.760000</td>\n",
       "      <td>118.900000</td>\n",
       "      <td>0.240000</td>\n",
       "      <td>11.900000</td>\n",
       "      <td>3.750000</td>\n",
       "      <td>22.030000</td>\n",
       "      <td>34.740000</td>\n",
       "      <td>60.140000</td>\n",
       "    </tr>\n",
       "  </tbody>\n",
       "</table>\n",
       "</div>"
      ],
      "text/plain": [
       "platform        3DS         PC        PS3         PS4       PSP        PSV  \\\n",
       "count      3.000000   3.000000   3.000000    3.000000  2.000000   3.000000   \n",
       "mean      28.893333   9.016667  22.726667   96.050000  0.180000   7.466667   \n",
       "std       14.342445   4.037974  22.664795   25.059579  0.084853   3.967472   \n",
       "min       15.140000   5.250000   3.600000   69.250000  0.120000   4.250000   \n",
       "25%       21.460000   6.885000  10.210000   84.625000  0.150000   5.250000   \n",
       "50%       27.780000   8.520000  16.820000  100.000000  0.180000   6.250000   \n",
       "75%       35.770000  10.900000  32.290000  109.450000  0.210000   9.075000   \n",
       "max       43.760000  13.280000  47.760000  118.900000  0.240000  11.900000   \n",
       "\n",
       "platform       Wii       WiiU       X360       XOne  \n",
       "count     3.000000   3.000000   3.000000   3.000000  \n",
       "mean      1.690000  14.326667  16.073333  46.786667  \n",
       "std       1.847458   8.889411  16.987694  18.127748  \n",
       "min       0.180000   4.600000   1.520000  26.150000  \n",
       "25%       0.660000  10.475000   6.740000  40.110000  \n",
       "50%       1.140000  16.350000  11.960000  54.070000  \n",
       "75%       2.445000  19.190000  23.350000  57.105000  \n",
       "max       3.750000  22.030000  34.740000  60.140000  "
      ]
     },
     "execution_count": 37,
     "metadata": {},
     "output_type": "execute_result"
    }
   ],
   "source": [
    "df.pivot_table(\n",
    "    index='year_of_release', columns='platform', values='total_sales', aggfunc='sum'\n",
    ").describe()"
   ]
  },
  {
   "cell_type": "markdown",
   "metadata": {},
   "source": [
    "На популярных сейчас платформах мы видим боксплот немного поднятый вверх по сравнению с остальными. Такие платформы относительно недавно вошли в жизнь любителей игр и проживают свой пик. Продажи игр на них еще на высоте. Платформы на закате имеют небольшой боксплот практически в самом низу. Их пики не вошли в отфилтрованный датасет, так как они уже неактуальны. Самые длинные боксплоты имеют PS3 и X360, они прошли свой пик и сейчас продажи игр на них на спаде. Боксплоты напоминают жизненный цикл продукта: чем длинне тем больше прожили платформы, чем выше, тем ближе пик их развития, самые маленькие боксплоты у платформ, которые заканчивают свое существование.\n",
    "\n",
    "Теперь рассмотрим влияние оценок критиков и пользователей на продажи игр как на платформе PS4, так и по всем платформам в целом."
   ]
  },
  {
   "cell_type": "code",
   "execution_count": 38,
   "metadata": {},
   "outputs": [
    {
     "data": {
      "image/png": "[encoded data removed]",
      "text/plain": [
       "<Figure size 720x360 with 1 Axes>"
      ]
     },
     "metadata": {
      "needs_background": "light"
     },
     "output_type": "display_data"
    },
    {
     "name": "stdout",
     "output_type": "stream",
     "text": [
      "Коэффициент кореляции равен 0.40266141068104083\n"
     ]
    }
   ],
   "source": [
    "df.loc[df['platform'] == 'PS4'].plot(\n",
    "    x='critic_score', y='total_sales', kind='scatter', alpha=0.3, figsize=(10,5))\n",
    "\n",
    "plt.title('Зависимость продаж игр на PS4 от оценок критиков', fontsize = 16)\n",
    "plt.ylabel('Сумма продаж', fontsize = 14) \n",
    "plt.xlabel('Оценка пользователей', fontsize = 14) \n",
    "plt.show()\n",
    "print('Коэффициент кореляции равен', \n",
    "      df.loc[df['platform'] == 'PS4']['critic_score'].corr(\n",
    "          df.loc[df['platform'] == 'PS4']['total_sales']))"
   ]
  },
  {
   "cell_type": "markdown",
   "metadata": {},
   "source": [
    "Оценки критиков демонстрируют прямую, средне-слабую корреляцию с суммами продаж, равную 0,40."
   ]
  },
  {
   "cell_type": "code",
   "execution_count": 39,
   "metadata": {},
   "outputs": [
    {
     "data": {
      "image/png": "[encoded data removed]",
      "text/plain": [
       "<Figure size 720x360 with 1 Axes>"
      ]
     },
     "metadata": {
      "needs_background": "light"
     },
     "output_type": "display_data"
    },
    {
     "name": "stdout",
     "output_type": "stream",
     "text": [
      "Коэффициент кореляции равен -0.03501047705575576\n"
     ]
    }
   ],
   "source": [
    "df.loc[df['platform'] == 'PS4'].plot(\n",
    "    x='user_score', y='total_sales', kind='scatter', alpha=0.3, figsize=(10,5))\n",
    "\n",
    "plt.title('Зависимость продаж игр на PS4 от оценок пользователей', fontsize = 16)\n",
    "plt.ylabel('Сумма продаж', fontsize = 14) \n",
    "plt.xlabel('Оценка пользователей', fontsize = 14) \n",
    "plt.show()\n",
    "\n",
    "print('Коэффициент кореляции равен', \n",
    "      df.loc[df['platform'] == 'PS4']['user_score'].corr(\n",
    "          df.loc[df['platform'] == 'PS4']['total_sales']))"
   ]
  },
  {
   "cell_type": "markdown",
   "metadata": {},
   "source": [
    "Оценки пользователей корреляции с продажами не имеют."
   ]
  },
  {
   "cell_type": "code",
   "execution_count": 40,
   "metadata": {
    "scrolled": false
   },
   "outputs": [
    {
     "data": {
      "image/png": "[encoded data removed]",
      "text/plain": [
       "<Figure size 720x360 with 1 Axes>"
      ]
     },
     "metadata": {
      "needs_background": "light"
     },
     "output_type": "display_data"
    },
    {
     "name": "stdout",
     "output_type": "stream",
     "text": [
      "Коэффициент кореляции равен 0.42867694370333226\n"
     ]
    }
   ],
   "source": [
    "df.loc[df['platform'] == 'XOne'].plot(\n",
    "    x='critic_score', y='total_sales', kind='scatter', alpha=0.3, figsize=(10,5))\n",
    "\n",
    "plt.title('Зависимость продаж игр на XOne от оценок критиков', fontsize = 16)\n",
    "plt.ylabel('Сумма продаж', fontsize = 14) \n",
    "plt.xlabel('Оценка критиков', fontsize = 14) \n",
    "plt.show()\n",
    "\n",
    "print('Коэффициент кореляции равен', \n",
    "      df.loc[df['platform'] == 'XOne']['critic_score'].corr(\n",
    "          df.loc[df['platform'] == 'XOne']['total_sales']))"
   ]
  },
  {
   "cell_type": "markdown",
   "metadata": {},
   "source": [
    "Оценки критиков демонстрируют прямую, средне-слабую корреляцию с суммами продаж на XOne, равную 0,42."
   ]
  },
  {
   "cell_type": "code",
   "execution_count": 41,
   "metadata": {},
   "outputs": [
    {
     "data": {
      "image/png": "[encoded data removed]",
      "text/plain": [
       "<Figure size 720x360 with 1 Axes>"
      ]
     },
     "metadata": {
      "needs_background": "light"
     },
     "output_type": "display_data"
    },
    {
     "name": "stdout",
     "output_type": "stream",
     "text": [
      "Коэффициент кореляции равен -0.07146551179048775\n"
     ]
    }
   ],
   "source": [
    "df.loc[df['platform'] == 'XOne'].plot(\n",
    "    x='user_score', y='total_sales', kind='scatter', alpha=0.3, figsize=(10,5))\n",
    "\n",
    "plt.title('Зависимость продаж игр на XOne от оценок пользователей', fontsize = 16)\n",
    "plt.ylabel('Сумма продаж', fontsize = 14) \n",
    "plt.xlabel('Оценка пользователей', fontsize = 14) \n",
    "plt.show()\n",
    "\n",
    "print('Коэффициент кореляции равен', \n",
    "      df.loc[df['platform'] == 'XOne']['user_score'].corr(\n",
    "          df.loc[df['platform'] == 'XOne']['total_sales']))"
   ]
  },
  {
   "cell_type": "markdown",
   "metadata": {},
   "source": [
    "Оценки пользователей корреляции с продажами на XOne не имеют."
   ]
  },
  {
   "cell_type": "code",
   "execution_count": 42,
   "metadata": {},
   "outputs": [
    {
     "data": {
      "image/png": "[encoded data removed]",
      "text/plain": [
       "<Figure size 720x360 with 1 Axes>"
      ]
     },
     "metadata": {
      "needs_background": "light"
     },
     "output_type": "display_data"
    },
    {
     "name": "stdout",
     "output_type": "stream",
     "text": [
      "Коэффициент кореляции равен 0.17463413769350036\n"
     ]
    }
   ],
   "source": [
    "df.loc[df['platform'] == 'PC'].plot(\n",
    "    x='critic_score', y='total_sales', kind='scatter', alpha=0.3, figsize=(10,5))\n",
    "\n",
    "plt.title('Зависимость продаж игр на PC от оценок критиков', fontsize = 16)\n",
    "plt.ylabel('Сумма продаж', fontsize = 14) \n",
    "plt.xlabel('Оценка критиков', fontsize = 14) \n",
    "plt.show()\n",
    "\n",
    "print('Коэффициент кореляции равен', \n",
    "      df.loc[df['platform'] == 'PC']['critic_score'].corr(\n",
    "          df.loc[df['platform'] == 'PC']['total_sales']))"
   ]
  },
  {
   "cell_type": "markdown",
   "metadata": {},
   "source": [
    "Оценки критиков демонстрируют прямую, слабую корреляцию с суммами продаж на PC, равную 0,17."
   ]
  },
  {
   "cell_type": "code",
   "execution_count": 43,
   "metadata": {},
   "outputs": [
    {
     "data": {
      "image/png": "[encoded data removed]",
      "text/plain": [
       "<Figure size 720x360 with 1 Axes>"
      ]
     },
     "metadata": {
      "needs_background": "light"
     },
     "output_type": "display_data"
    },
    {
     "name": "stdout",
     "output_type": "stream",
     "text": [
      "Коэффициент кореляции равен -0.07628975922388147\n"
     ]
    }
   ],
   "source": [
    "df.loc[df['platform'] == 'PC'].plot(\n",
    "    x='user_score', y='total_sales', kind='scatter', alpha=0.3, figsize=(10,5))\n",
    "\n",
    "plt.title('Зависимость продаж игр на PC от оценок пользователей', fontsize = 16)\n",
    "plt.ylabel('Сумма продаж', fontsize = 14) \n",
    "plt.xlabel('Оценка пользователей', fontsize = 14) \n",
    "plt.show()\n",
    "\n",
    "print('Коэффициент кореляции равен', \n",
    "      df.loc[df['platform'] == 'PC']['user_score'].corr(\n",
    "          df.loc[df['platform'] == 'PC']['total_sales']))"
   ]
  },
  {
   "cell_type": "markdown",
   "metadata": {},
   "source": [
    "Оценки пользователей корреляции с продажами на PC не имеют."
   ]
  },
  {
   "cell_type": "markdown",
   "metadata": {},
   "source": [
    "В целом, по итогу анализа влияния оценок критиков на продажи, мы наблюдаем прямую средне-слабую корреляцию. Корреляция между оценками пользователй и продажами нет."
   ]
  },
  {
   "cell_type": "markdown",
   "metadata": {},
   "source": [
    "Рассмотрим самые прибыльные и популярные жанры игр."
   ]
  },
  {
   "cell_type": "code",
   "execution_count": 44,
   "metadata": {},
   "outputs": [
    {
     "data": {
      "text/html": [
       "<div>\n",
       "<style scoped>\n",
       "    .dataframe tbody tr th:only-of-type {\n",
       "        vertical-align: middle;\n",
       "    }\n",
       "\n",
       "    .dataframe tbody tr th {\n",
       "        vertical-align: top;\n",
       "    }\n",
       "\n",
       "    .dataframe thead th {\n",
       "        text-align: right;\n",
       "    }\n",
       "</style>\n",
       "<table border=\"1\" class=\"dataframe\">\n",
       "  <thead>\n",
       "    <tr style=\"text-align: right;\">\n",
       "      <th></th>\n",
       "      <th>count</th>\n",
       "      <th>sum</th>\n",
       "      <th>median</th>\n",
       "    </tr>\n",
       "    <tr>\n",
       "      <th>genre</th>\n",
       "      <th></th>\n",
       "      <th></th>\n",
       "      <th></th>\n",
       "    </tr>\n",
       "  </thead>\n",
       "  <tbody>\n",
       "    <tr>\n",
       "      <th>Adventure</th>\n",
       "      <td>185</td>\n",
       "      <td>17.55</td>\n",
       "      <td>0.030</td>\n",
       "    </tr>\n",
       "    <tr>\n",
       "      <th>Puzzle</th>\n",
       "      <td>14</td>\n",
       "      <td>2.21</td>\n",
       "      <td>0.045</td>\n",
       "    </tr>\n",
       "    <tr>\n",
       "      <th>Strategy</th>\n",
       "      <td>37</td>\n",
       "      <td>3.96</td>\n",
       "      <td>0.060</td>\n",
       "    </tr>\n",
       "    <tr>\n",
       "      <th>Action</th>\n",
       "      <td>619</td>\n",
       "      <td>199.36</td>\n",
       "      <td>0.090</td>\n",
       "    </tr>\n",
       "    <tr>\n",
       "      <th>Misc</th>\n",
       "      <td>113</td>\n",
       "      <td>37.55</td>\n",
       "      <td>0.090</td>\n",
       "    </tr>\n",
       "    <tr>\n",
       "      <th>Racing</th>\n",
       "      <td>69</td>\n",
       "      <td>27.52</td>\n",
       "      <td>0.090</td>\n",
       "    </tr>\n",
       "    <tr>\n",
       "      <th>Simulation</th>\n",
       "      <td>44</td>\n",
       "      <td>13.13</td>\n",
       "      <td>0.100</td>\n",
       "    </tr>\n",
       "    <tr>\n",
       "      <th>Role-Playing</th>\n",
       "      <td>221</td>\n",
       "      <td>101.44</td>\n",
       "      <td>0.110</td>\n",
       "    </tr>\n",
       "    <tr>\n",
       "      <th>Fighting</th>\n",
       "      <td>60</td>\n",
       "      <td>28.22</td>\n",
       "      <td>0.125</td>\n",
       "    </tr>\n",
       "    <tr>\n",
       "      <th>Platform</th>\n",
       "      <td>38</td>\n",
       "      <td>18.09</td>\n",
       "      <td>0.140</td>\n",
       "    </tr>\n",
       "    <tr>\n",
       "      <th>Sports</th>\n",
       "      <td>161</td>\n",
       "      <td>109.48</td>\n",
       "      <td>0.180</td>\n",
       "    </tr>\n",
       "    <tr>\n",
       "      <th>Shooter</th>\n",
       "      <td>128</td>\n",
       "      <td>170.94</td>\n",
       "      <td>0.515</td>\n",
       "    </tr>\n",
       "  </tbody>\n",
       "</table>\n",
       "</div>"
      ],
      "text/plain": [
       "              count     sum  median\n",
       "genre                              \n",
       "Adventure       185   17.55   0.030\n",
       "Puzzle           14    2.21   0.045\n",
       "Strategy         37    3.96   0.060\n",
       "Action          619  199.36   0.090\n",
       "Misc            113   37.55   0.090\n",
       "Racing           69   27.52   0.090\n",
       "Simulation       44   13.13   0.100\n",
       "Role-Playing    221  101.44   0.110\n",
       "Fighting         60   28.22   0.125\n",
       "Platform         38   18.09   0.140\n",
       "Sports          161  109.48   0.180\n",
       "Shooter         128  170.94   0.515"
      ]
     },
     "execution_count": 44,
     "metadata": {},
     "output_type": "execute_result"
    }
   ],
   "source": [
    "f = df.pivot_table(\n",
    "        index='genre', values='total_sales', aggfunc=['count', 'sum', 'median'])\n",
    "f.columns = ['count', 'sum', 'median']\n",
    "f.sort_values(by='median')"
   ]
  },
  {
   "cell_type": "markdown",
   "metadata": {},
   "source": [
    "Самое большое количество продаж у жанра экшн. \n",
    "\n",
    "Самый большое количество игр в жанре экшн, следом идут ролевые игры, и замыкает топ 3 приключения. Стоит отметить что игр в жанре экшн почти в три раза больше, чем ролевых. Это довольно большой отрыв. Далее распределение относительно с небольшими отрывами, а резкий спад идет после миксовых жанров. Так, жанр гонок отстает от миксовых жанров практически в два раза. \n",
    "\n",
    "По сумме продаж лидерство так же у экшена, следом идут шутеры и спорт. При этом нет такого большого отрыва первого от второго места как в популярности жанров. Сильно отстают миксовый жанр от ролевых игр, так ролевых было продано на 101,4, против 37,55. \n",
    "\n",
    "Медианно наиболее большие продажи у шутеров, почти в три раза меньше медианные продажи у спортивных игр, следом идут платформенные игры. У гонок, миксов и экшена одинаковыые продажи в 0,09.\n",
    "Стратегии и пазлы явные аутайдеры нашего рейтинга.   "
   ]
  },
  {
   "cell_type": "markdown",
   "metadata": {},
   "source": [
    "В большинстве своем все жанры популярны, однако стратегии, приключения и пазлы не так прибыльны и выделяются в общей массе отрицательно"
   ]
  },
  {
   "cell_type": "markdown",
   "metadata": {},
   "source": [
    "На этом мы закончим исследовательский анализ данных. "
   ]
  },
  {
   "cell_type": "markdown",
   "metadata": {},
   "source": [
    "### Портрет пользователя каждого региона  <a id='id4'></a>"
   ]
  },
  {
   "cell_type": "markdown",
   "metadata": {},
   "source": [
    "Посмотрим топ 5 платформ по трем регионам.\n",
    "\n",
    "Начнем с Северной Америки."
   ]
  },
  {
   "cell_type": "code",
   "execution_count": 45,
   "metadata": {
    "scrolled": false
   },
   "outputs": [
    {
     "data": {
      "image/png": "[encoded data removed]",
      "text/plain": [
       "<Figure size 936x360 with 1 Axes>"
      ]
     },
     "metadata": {
      "needs_background": "light"
     },
     "output_type": "display_data"
    }
   ],
   "source": [
    "df.pivot_table(\n",
    "    index='platform', values='na_sales', aggfunc='sum').sort_values(\n",
    "    ascending=False, by = 'na_sales').plot(kind = 'bar', figsize=(13,5))\n",
    "\n",
    "plt.title('Продажи игр в NA в зависимости от платформы', fontsize = 16)\n",
    "plt.ylabel('Сумма продаж в NA', fontsize = 14) \n",
    "plt.xlabel('Платформа', fontsize = 14) \n",
    "plt.show()"
   ]
  },
  {
   "cell_type": "markdown",
   "metadata": {},
   "source": [
    "В топ 5 Северной Америки входят X360, PS3, Wii, PS4, XOne. Но как мы помним, три платформы из них прожили свой пик. Набирают популярность PS4 и XOne. В Америке как то больше любят X360, нежели чем PS3. Скорее всего это вызвано тем, что X360 производится Американской фирмой, в отличии от PS3. Но в тоже время PS4 популярнее XOne. \n",
    "\n",
    "Рассмотрим теперь Европу."
   ]
  },
  {
   "cell_type": "code",
   "execution_count": 46,
   "metadata": {},
   "outputs": [
    {
     "data": {
      "image/png": "[encoded data removed]",
      "text/plain": [
       "<Figure size 936x360 with 1 Axes>"
      ]
     },
     "metadata": {
      "needs_background": "light"
     },
     "output_type": "display_data"
    }
   ],
   "source": [
    "df.pivot_table(\n",
    "    index='platform', values='eu_sales', aggfunc='sum').sort_values(\n",
    "    ascending=False, by = 'eu_sales').plot(kind = 'bar', figsize=(13,5))\n",
    "\n",
    "plt.title('Продажи игр в EU в зависимости от платформы', fontsize = 16)\n",
    "plt.ylabel('Сумма продаж в EU', fontsize = 14) \n",
    "plt.xlabel('Платформа', fontsize = 14) \n",
    "plt.show()"
   ]
  },
  {
   "cell_type": "markdown",
   "metadata": {},
   "source": [
    "В Европе наибольшую популярность приобрела PS3, в отличии от Америки, а X360 на втором месте. Следом идет активно набирающая популярность PS4. Четвертое место занял персональный компьютер, примечательно, что в Америке он даже не вошел в топ 5. Замыкает пятерку лидеров Wii. В Америке она заняла 3 место."
   ]
  },
  {
   "cell_type": "code",
   "execution_count": 47,
   "metadata": {},
   "outputs": [
    {
     "data": {
      "image/png": "[encoded data removed]",
      "text/plain": [
       "<Figure size 936x360 with 1 Axes>"
      ]
     },
     "metadata": {
      "needs_background": "light"
     },
     "output_type": "display_data"
    }
   ],
   "source": [
    "df.pivot_table(\n",
    "    index='platform', values='jp_sales', aggfunc='sum').sort_values(\n",
    "    ascending=False, by = 'jp_sales').plot(kind = 'bar', figsize=(13,5))\n",
    "\n",
    "plt.title('Продажи игр в JP в зависимости от платформы', fontsize = 16)\n",
    "plt.ylabel('Сумма продаж в JP', fontsize = 14) \n",
    "plt.xlabel('Платформа', fontsize = 14) \n",
    "plt.show()"
   ]
  },
  {
   "cell_type": "markdown",
   "metadata": {},
   "source": [
    "В  Японии на первом месте 3DS, следом идет уже знакомая нам PS3. Замыкает тройку лидеров PSP, следом идет DS и PSV. В Японии наибольшая популярность у портативных устройств, лишь PS3 вошла в топ 5 в данном регионе. Рынок Японии сильно отличается от двух других регионов."
   ]
  },
  {
   "cell_type": "markdown",
   "metadata": {},
   "source": [
    "Теперь посмотрим какие жанры популярны у трех изучаемых регионах."
   ]
  },
  {
   "cell_type": "code",
   "execution_count": 48,
   "metadata": {},
   "outputs": [
    {
     "data": {
      "image/png": "[encoded data removed]",
      "text/plain": [
       "<Figure size 936x360 with 1 Axes>"
      ]
     },
     "metadata": {
      "needs_background": "light"
     },
     "output_type": "display_data"
    }
   ],
   "source": [
    "df.pivot_table(\n",
    "    index='genre', values='na_sales', aggfunc='sum').sort_values(\n",
    "    ascending=False, by = 'na_sales').plot(kind = 'bar', figsize=(13,5))\n",
    "\n",
    "plt.title('Продажи игр в NA в зависимости от жанра', fontsize = 16)\n",
    "plt.ylabel('Сумма продаж в NA', fontsize = 14) \n",
    "plt.xlabel('Жанр', fontsize = 14) \n",
    "plt.show()"
   ]
  },
  {
   "cell_type": "markdown",
   "metadata": {},
   "source": [
    "В Северной Америке популярны экшн, шутеры, спортивные игры, разные и ролевые игры. \n",
    "\n",
    "Посмотрим предпочтения игроков из Европы."
   ]
  },
  {
   "cell_type": "code",
   "execution_count": 49,
   "metadata": {},
   "outputs": [
    {
     "data": {
      "image/png": "[encoded data removed]",
      "text/plain": [
       "<Figure size 936x360 with 1 Axes>"
      ]
     },
     "metadata": {
      "needs_background": "light"
     },
     "output_type": "display_data"
    }
   ],
   "source": [
    "df.pivot_table(\n",
    "    index='genre', values='eu_sales', aggfunc='sum').sort_values(\n",
    "    ascending=False, by = 'eu_sales').plot(kind = 'bar', figsize=(13,5));\n",
    "\n",
    "plt.title('Продажи игр в EU в зависимости от жанра', fontsize = 16)\n",
    "plt.ylabel('Сумма продаж в EU', fontsize = 14) \n",
    "plt.xlabel('Жанр', fontsize = 14) \n",
    "plt.show()"
   ]
  },
  {
   "cell_type": "markdown",
   "metadata": {},
   "source": [
    "Вкусы европейских игроков практически полностью совпадают с американскими, единственным отличием являются последние два места: ролевый игры заняли 4, а разное 5. "
   ]
  },
  {
   "cell_type": "code",
   "execution_count": 50,
   "metadata": {},
   "outputs": [
    {
     "data": {
      "image/png": "[encoded data removed]",
      "text/plain": [
       "<Figure size 936x360 with 1 Axes>"
      ]
     },
     "metadata": {
      "needs_background": "light"
     },
     "output_type": "display_data"
    }
   ],
   "source": [
    "df.pivot_table(\n",
    "    index='genre', values='jp_sales', aggfunc='sum').sort_values(\n",
    "    ascending=False, by = 'jp_sales').plot(kind = 'bar', figsize=(13,5));\n",
    "\n",
    "plt.title('Продажи игр в JP в зависимости от жанра', fontsize = 16)\n",
    "plt.ylabel('Сумма продаж в JP', fontsize = 14) \n",
    "plt.xlabel('Жанр', fontsize = 14) \n",
    "plt.show()"
   ]
  },
  {
   "cell_type": "markdown",
   "metadata": {},
   "source": [
    "Ожидаемо японские игроки предпочли несколько другие жанры. С заметным преимуществом идут ролевые игры и экшн. В других регионах экшн на первом месте. Следом идут разное. Платформеры и приключения заняли 4 и 5 место, примерно с одинаковым количеством продаж."
   ]
  },
  {
   "cell_type": "markdown",
   "metadata": {},
   "source": [
    "Рассмотрим как повлиял возрастной рейтинг на продажи в разных регионах."
   ]
  },
  {
   "cell_type": "code",
   "execution_count": 51,
   "metadata": {},
   "outputs": [
    {
     "name": "stderr",
     "output_type": "stream",
     "text": [
      "/tmp/ipykernel_349/135412817.py:3: SettingWithCopyWarning: \n",
      "A value is trying to be set on a copy of a slice from a DataFrame.\n",
      "Try using .loc[row_indexer,col_indexer] = value instead\n",
      "\n",
      "See the caveats in the documentation: https://pandas.pydata.org/pandas-docs/stable/user_guide/indexing.html#returning-a-view-versus-a-copy\n",
      "  dffil['rating'] = dffil['rating'].fillna('unknown')\n"
     ]
    },
    {
     "data": {
      "text/plain": [
       "unknown    749\n",
       "T          271\n",
       "M          265\n",
       "E          219\n",
       "E10+       185\n",
       "Name: rating, dtype: int64"
      ]
     },
     "execution_count": 51,
     "metadata": {},
     "output_type": "execute_result"
    }
   ],
   "source": [
    "#заменим пропуски в рейтинге на unknown и сохраним в новом датафрейме\n",
    "dffil = df\n",
    "dffil['rating'] = dffil['rating'].fillna('unknown')\n",
    "dffil['rating'].value_counts()"
   ]
  },
  {
   "cell_type": "markdown",
   "metadata": {},
   "source": [
    "В целом по датафрейму большинство игр без возрастного рейтинга. Посмотрим на продажи игр по рейтингу в разных регионах."
   ]
  },
  {
   "cell_type": "code",
   "execution_count": 52,
   "metadata": {},
   "outputs": [
    {
     "data": {
      "image/png": "[encoded data removed]",
      "text/plain": [
       "<Figure size 432x288 with 1 Axes>"
      ]
     },
     "metadata": {
      "needs_background": "light"
     },
     "output_type": "display_data"
    },
    {
     "data": {
      "image/png": "[encoded data removed]",
      "text/plain": [
       "<Figure size 432x288 with 1 Axes>"
      ]
     },
     "metadata": {
      "needs_background": "light"
     },
     "output_type": "display_data"
    },
    {
     "data": {
      "image/png": "[encoded data removed]",
      "text/plain": [
       "<Figure size 432x288 with 1 Axes>"
      ]
     },
     "metadata": {
      "needs_background": "light"
     },
     "output_type": "display_data"
    }
   ],
   "source": [
    "dffil.pivot_table(\n",
    "    index='rating', values='na_sales', aggfunc='sum').sort_values(\n",
    "    ascending=False, by = 'na_sales').plot(kind = 'bar')\n",
    "\n",
    "plt.title('Продажи игр в NA в зависимости от рейтинга', fontsize = 16)\n",
    "plt.ylabel('Сумма продаж в NA', fontsize = 14) \n",
    "plt.xlabel('Рейтинг', fontsize = 14) \n",
    "plt.show()\n",
    "\n",
    "dffil.pivot_table(\n",
    "    index='rating', values='eu_sales', aggfunc='sum').sort_values(\n",
    "    ascending=False, by = 'eu_sales').plot(kind = 'bar');\n",
    "\n",
    "plt.title('Продажи игр в EU в зависимости от рейтинга', fontsize = 16)\n",
    "plt.ylabel('Сумма продаж в EU', fontsize = 14) \n",
    "plt.xlabel('Рейтинг', fontsize = 14) \n",
    "plt.show()\n",
    "\n",
    "dffil.pivot_table(\n",
    "    index='rating', values='jp_sales', aggfunc='sum').sort_values(\n",
    "    ascending=False, by = 'jp_sales').plot(kind = 'bar');\n",
    "\n",
    "plt.title('Продажи игр в JP в зависимости от рейтинга', fontsize = 16)\n",
    "plt.ylabel('Сумма продаж в JP', fontsize = 14) \n",
    "plt.xlabel('Рейтинг', fontsize = 14) \n",
    "plt.show()"
   ]
  },
  {
   "cell_type": "markdown",
   "metadata": {},
   "source": [
    "Северная Америка и Европа ожидаемо схожи в возрастных рейтингах. Удивительно, что игры без рейтинга занимают второе место, не смотря на то, что рейтинг выставляет американская компания. Видимо многие игры проходят мимо нее. В Японии же первое место со значительным отрывом занимают игры без рейтинга. Это объясняется тем, что, как уже говорилось выше, рейтинг выставляет американская компания. Скорее всего японский рынок слишком аутентичен, много игр выходят и пользуются огромным спросом только в этом регионе. Следом идет рейтинг Т, который в Европе и Америке на 4 месте. Рейтинг Е, во всех трех ригионах на 3 месте. "
   ]
  },
  {
   "cell_type": "markdown",
   "metadata": {},
   "source": [
    "### Проверка гипотез<a id='id5'></a>"
   ]
  },
  {
   "cell_type": "markdown",
   "metadata": {},
   "source": [
    "Проверим средние пользовательские рейтинги платформ Xbox One и PC.\n",
    "\n",
    "Н0 средние пользовательские рейтинги платформ Xbox One и PC одинаковые\n",
    "\n",
    "Н1 средние пользовательские рейтинги платформ Xbox One и PC разные\n"
   ]
  },
  {
   "cell_type": "code",
   "execution_count": 53,
   "metadata": {
    "scrolled": true
   },
   "outputs": [
    {
     "name": "stdout",
     "output_type": "stream",
     "text": [
      "p-значение: 0.13130164268727834\n",
      "Не получилось отвергнуть нулевую гипотезу\n"
     ]
    }
   ],
   "source": [
    "xbox_one = df.loc[(df['platform'] == 'XOne') & (df['user_score']> 0)]['user_score']\n",
    "pc = df.loc[(df['platform'] == 'PC') & (df['user_score']> 0)]['user_score']\n",
    "\n",
    "alpha = 0.05 \n",
    "\n",
    "results = st.ttest_ind(xbox_one, pc, equal_var=False) \n",
    "\n",
    "print('p-значение:', results.pvalue)\n",
    "\n",
    "if results.pvalue < alpha:\n",
    "    print(\"Отвергаем нулевую гипотезу\")\n",
    "else:\n",
    "    print(\"Не получилось отвергнуть нулевую гипотезу\")"
   ]
  },
  {
   "cell_type": "markdown",
   "metadata": {},
   "source": [
    "Значение p-значение значительно больше 0,05, следовательно мы отвергаем альтернативную гипотезу.\n",
    "\n",
    "Теперь проверим следующие гипотезы:\n",
    "\n",
    "Н0: Средние пользовательские рейтинги жанров Action и Sports одинаковые.\n",
    "\n",
    "Н1: Средние пользовательские рейтинги жанров Action и Sports отличаются."
   ]
  },
  {
   "cell_type": "code",
   "execution_count": 54,
   "metadata": {
    "scrolled": true
   },
   "outputs": [
    {
     "name": "stdout",
     "output_type": "stream",
     "text": [
      "p-значение: 1.4443510236261815e-13\n",
      "Отвергаем нулевую гипотезу\n"
     ]
    }
   ],
   "source": [
    "action_score = df.loc[(df['genre'] == 'Action') & (df['user_score']> 0)]['user_score']\n",
    "sports_score = df.loc[(df['genre'] == 'Sports') & (df['user_score']> 0)]['user_score']\n",
    "\n",
    "alpha = 0.05 \n",
    "\n",
    "results = st.ttest_ind(action_score, sports_score, equal_var=False) \n",
    "\n",
    "print('p-значение:', results.pvalue)\n",
    "\n",
    "if results.pvalue < alpha:\n",
    "    print(\"Отвергаем нулевую гипотезу\")\n",
    "else:\n",
    "    print(\"Не получилось отвергнуть нулевую гипотезу\")"
   ]
  },
  {
   "cell_type": "markdown",
   "metadata": {},
   "source": [
    "Р-значение меньше альфы, отвергаем нулевую гипотезу, следовательно средние пользовательские рейтинги жанров Action и Sports отличаются"
   ]
  },
  {
   "cell_type": "markdown",
   "metadata": {},
   "source": [
    "### Вывод <a id='id6'></a>"
   ]
  },
  {
   "cell_type": "markdown",
   "metadata": {},
   "source": [
    "Наш датасет содержит данные с 1980 по 2016 года. В целом по рынку игр, мы можем сказать что был пик в 2010 году, потом настал спад. Предположиельно это вызвано кризисом 2008 года.\n",
    "\n",
    "Много пропусков в данных с оценками как критиков, так и обычных игроков, так же пропуски есть в возрастном рейтинге. В некоторых играх были пропущены года выпуска. Это несколько затруднило исследование.\n",
    "\n",
    "Мы выявили что платформы живут в среднем в районе 10 лет. Самая прибыльная за последние 36 лет стала PS2. Много платформ потеряли свою актуальность к 2016 году. Мы отфильтровали данные, оставив лишь актуальные. PS4 и XOne набирают свою популярность, на эти две платформы однозначно нужно сделать упор в продажах на 2017 год. Не очень популярна WiiU, если и продавать игры на нее, то следует делать это весьма ограниченно и только популярные жанры. Стабильно постоянны продажи игр на PC, но не приносят огромных продаж. На Японском рынке популярны 3DS вместе с PS4, XOne же вообще не популярны. Определили, что оценка критиков средне коррелирует с продажами, в отличии от оценок игроков. Поэтому следует просматривать оценки критиков в планировании продаж. По жанрам в Америке и Европе популярны шутеры, экшены и спорт. Япония и тут выделяется и предпочитает ролевые игры, экшены и файтинги. Абсолютными аутсайдерами во всех регионах оказались стратегии, приключения и пазлы. В зависимости от возрастного рейтинга Европа и Америка абсолютно похожи, вначале идет М, потом unknow, Е, Т и Е10+. В Японии, скорее всего, изза того, что компания по присваиванию рейтинга из Америки, лидирует с сильным отрывом unknow, следом идет Т, Е, М и Е10+."
   ]
  }
 ],
 "metadata": {
  "ExecuteTimeLog": [
   {
    "duration": 5,
    "start_time": "2022-11-16T08:05:59.896Z"
   },
   {
    "duration": 58,
    "start_time": "2022-11-16T08:06:55.425Z"
   },
   {
    "duration": 58,
    "start_time": "2022-11-16T08:07:07.726Z"
   },
   {
    "duration": 3,
    "start_time": "2022-11-16T08:37:51.111Z"
   },
   {
    "duration": 3,
    "start_time": "2022-11-16T08:37:54.290Z"
   },
   {
    "duration": 15,
    "start_time": "2022-11-16T10:09:53.452Z"
   },
   {
    "duration": 59,
    "start_time": "2022-11-16T10:10:40.522Z"
   },
   {
    "duration": 17,
    "start_time": "2022-11-16T10:10:43.391Z"
   },
   {
    "duration": 695,
    "start_time": "2022-11-16T10:11:11.311Z"
   },
   {
    "duration": 795,
    "start_time": "2022-11-16T10:11:34.054Z"
   },
   {
    "duration": 31,
    "start_time": "2022-11-16T10:12:26.691Z"
   },
   {
    "duration": 16,
    "start_time": "2022-11-16T10:13:36.461Z"
   },
   {
    "duration": 16,
    "start_time": "2022-11-16T10:13:43.522Z"
   },
   {
    "duration": 27,
    "start_time": "2022-11-16T10:13:56.521Z"
   },
   {
    "duration": 29,
    "start_time": "2022-11-16T10:14:03.331Z"
   },
   {
    "duration": 26,
    "start_time": "2022-11-16T10:14:08.011Z"
   },
   {
    "duration": 79,
    "start_time": "2022-11-16T10:17:44.031Z"
   },
   {
    "duration": 9,
    "start_time": "2022-11-16T10:18:02.620Z"
   },
   {
    "duration": 33,
    "start_time": "2022-11-16T10:20:49.069Z"
   },
   {
    "duration": 14,
    "start_time": "2022-11-16T11:42:54.883Z"
   },
   {
    "duration": 12,
    "start_time": "2022-11-16T11:43:04.133Z"
   },
   {
    "duration": 15,
    "start_time": "2022-11-16T11:44:31.702Z"
   },
   {
    "duration": 12,
    "start_time": "2022-11-16T11:47:38.623Z"
   },
   {
    "duration": 24,
    "start_time": "2022-11-16T11:49:24.154Z"
   },
   {
    "duration": 7,
    "start_time": "2022-11-16T11:49:39.121Z"
   },
   {
    "duration": 15,
    "start_time": "2022-11-16T11:50:03.211Z"
   },
   {
    "duration": 7,
    "start_time": "2022-11-16T12:16:08.261Z"
   },
   {
    "duration": 20,
    "start_time": "2022-11-16T12:16:15.271Z"
   },
   {
    "duration": 18,
    "start_time": "2022-11-16T12:16:35.281Z"
   },
   {
    "duration": 8,
    "start_time": "2022-11-16T12:16:41.661Z"
   },
   {
    "duration": 13,
    "start_time": "2022-11-16T12:16:51.980Z"
   },
   {
    "duration": 8,
    "start_time": "2022-11-16T12:16:54.650Z"
   },
   {
    "duration": 15,
    "start_time": "2022-11-16T12:17:09.110Z"
   },
   {
    "duration": 7,
    "start_time": "2022-11-16T12:19:07.929Z"
   },
   {
    "duration": 6,
    "start_time": "2022-11-16T12:22:08.757Z"
   },
   {
    "duration": 90,
    "start_time": "2022-11-16T12:22:21.956Z"
   },
   {
    "duration": 6,
    "start_time": "2022-11-16T12:22:26.628Z"
   },
   {
    "duration": 22,
    "start_time": "2022-11-16T12:26:04.766Z"
   },
   {
    "duration": 15,
    "start_time": "2022-11-16T12:27:07.615Z"
   },
   {
    "duration": 10,
    "start_time": "2022-11-16T12:50:38.029Z"
   },
   {
    "duration": 32564,
    "start_time": "2022-11-16T12:50:45.029Z"
   },
   {
    "duration": 16,
    "start_time": "2022-11-16T12:51:39.661Z"
   },
   {
    "duration": 8,
    "start_time": "2022-11-16T12:52:05.869Z"
   },
   {
    "duration": 18,
    "start_time": "2022-11-16T12:52:58.478Z"
   },
   {
    "duration": 55,
    "start_time": "2022-11-16T12:53:18.218Z"
   },
   {
    "duration": 16,
    "start_time": "2022-11-16T12:53:19.268Z"
   },
   {
    "duration": 12,
    "start_time": "2022-11-16T12:53:20.089Z"
   },
   {
    "duration": 701,
    "start_time": "2022-11-16T12:53:20.859Z"
   },
   {
    "duration": 38,
    "start_time": "2022-11-16T12:53:21.561Z"
   },
   {
    "duration": 15,
    "start_time": "2022-11-16T12:53:22.428Z"
   },
   {
    "duration": 14,
    "start_time": "2022-11-16T12:53:22.989Z"
   },
   {
    "duration": 22,
    "start_time": "2022-11-16T12:53:25.179Z"
   },
   {
    "duration": 18,
    "start_time": "2022-11-16T12:53:26.379Z"
   },
   {
    "duration": 9,
    "start_time": "2022-11-16T12:53:27.759Z"
   },
   {
    "duration": 6,
    "start_time": "2022-11-16T12:53:28.778Z"
   },
   {
    "duration": 30,
    "start_time": "2022-11-16T12:53:29.849Z"
   },
   {
    "duration": 16,
    "start_time": "2022-11-16T12:53:33.768Z"
   },
   {
    "duration": 20,
    "start_time": "2022-11-16T12:53:34.809Z"
   },
   {
    "duration": 21,
    "start_time": "2022-11-16T12:53:38.389Z"
   },
   {
    "duration": 70,
    "start_time": "2022-11-16T12:55:56.388Z"
   },
   {
    "duration": 58,
    "start_time": "2022-11-16T12:56:05.828Z"
   },
   {
    "duration": 15,
    "start_time": "2022-11-16T12:56:07.018Z"
   },
   {
    "duration": 13,
    "start_time": "2022-11-16T12:56:07.949Z"
   },
   {
    "duration": 714,
    "start_time": "2022-11-16T12:56:08.738Z"
   },
   {
    "duration": 39,
    "start_time": "2022-11-16T12:56:09.454Z"
   },
   {
    "duration": 16,
    "start_time": "2022-11-16T12:56:10.057Z"
   },
   {
    "duration": 12,
    "start_time": "2022-11-16T12:56:10.529Z"
   },
   {
    "duration": 17,
    "start_time": "2022-11-16T12:56:12.398Z"
   },
   {
    "duration": 13,
    "start_time": "2022-11-16T12:56:13.258Z"
   },
   {
    "duration": 8,
    "start_time": "2022-11-16T12:56:14.178Z"
   },
   {
    "duration": 7,
    "start_time": "2022-11-16T12:56:14.919Z"
   },
   {
    "duration": 21,
    "start_time": "2022-11-16T12:56:16.731Z"
   },
   {
    "duration": 23,
    "start_time": "2022-11-16T12:56:22.749Z"
   },
   {
    "duration": 101,
    "start_time": "2022-11-16T12:56:26.099Z"
   },
   {
    "duration": 33997,
    "start_time": "2022-11-16T12:57:26.108Z"
   },
   {
    "duration": 15,
    "start_time": "2022-11-16T12:58:00.107Z"
   },
   {
    "duration": 21,
    "start_time": "2022-11-16T12:58:08.038Z"
   },
   {
    "duration": 73514,
    "start_time": "2022-11-16T12:59:32.117Z"
   },
   {
    "duration": 27,
    "start_time": "2022-11-16T13:01:02.148Z"
   },
   {
    "duration": 41009,
    "start_time": "2022-11-16T13:01:34.708Z"
   },
   {
    "duration": 14,
    "start_time": "2022-11-16T13:02:20.987Z"
   },
   {
    "duration": 10,
    "start_time": "2022-11-16T13:16:55.103Z"
   },
   {
    "duration": 10,
    "start_time": "2022-11-16T13:17:02.993Z"
   },
   {
    "duration": 13,
    "start_time": "2022-11-16T13:17:41.383Z"
   },
   {
    "duration": 59,
    "start_time": "2022-11-16T13:18:03.564Z"
   },
   {
    "duration": 16,
    "start_time": "2022-11-16T13:18:04.583Z"
   },
   {
    "duration": 19,
    "start_time": "2022-11-16T13:18:05.563Z"
   },
   {
    "duration": 727,
    "start_time": "2022-11-16T13:18:06.463Z"
   },
   {
    "duration": 28,
    "start_time": "2022-11-16T13:18:07.192Z"
   },
   {
    "duration": 15,
    "start_time": "2022-11-16T13:18:07.613Z"
   },
   {
    "duration": 13,
    "start_time": "2022-11-16T13:18:08.324Z"
   },
   {
    "duration": 14,
    "start_time": "2022-11-16T13:18:10.013Z"
   },
   {
    "duration": 16,
    "start_time": "2022-11-16T13:18:10.933Z"
   },
   {
    "duration": 12,
    "start_time": "2022-11-16T13:18:11.753Z"
   },
   {
    "duration": 7,
    "start_time": "2022-11-16T13:18:12.594Z"
   },
   {
    "duration": 20,
    "start_time": "2022-11-16T13:18:13.484Z"
   },
   {
    "duration": 17,
    "start_time": "2022-11-16T13:18:14.523Z"
   },
   {
    "duration": 33791,
    "start_time": "2022-11-16T13:18:15.023Z"
   },
   {
    "duration": 15,
    "start_time": "2022-11-16T13:18:48.816Z"
   },
   {
    "duration": 16,
    "start_time": "2022-11-16T13:18:48.832Z"
   },
   {
    "duration": 9,
    "start_time": "2022-11-16T13:18:56.004Z"
   },
   {
    "duration": 15,
    "start_time": "2022-11-16T13:19:00.684Z"
   },
   {
    "duration": 18,
    "start_time": "2022-11-16T13:19:23.763Z"
   },
   {
    "duration": 20,
    "start_time": "2022-11-16T13:19:45.974Z"
   },
   {
    "duration": 15,
    "start_time": "2022-11-16T13:20:11.833Z"
   },
   {
    "duration": 14,
    "start_time": "2022-11-16T14:05:08.356Z"
   },
   {
    "duration": 14,
    "start_time": "2022-11-16T14:05:14.855Z"
   },
   {
    "duration": 14,
    "start_time": "2022-11-16T14:05:26.325Z"
   },
   {
    "duration": 5,
    "start_time": "2022-11-16T14:26:23.101Z"
   },
   {
    "duration": 136,
    "start_time": "2022-11-16T14:27:56.191Z"
   },
   {
    "duration": 431,
    "start_time": "2022-11-16T14:28:28.191Z"
   },
   {
    "duration": 105,
    "start_time": "2022-11-16T14:29:18.251Z"
   },
   {
    "duration": 140,
    "start_time": "2022-11-16T14:29:33.683Z"
   },
   {
    "duration": 147,
    "start_time": "2022-11-16T14:29:40.921Z"
   },
   {
    "duration": 206,
    "start_time": "2022-11-16T14:29:57.552Z"
   },
   {
    "duration": 23,
    "start_time": "2022-11-16T14:34:45.051Z"
   },
   {
    "duration": 5,
    "start_time": "2022-11-16T14:38:29.382Z"
   },
   {
    "duration": 6,
    "start_time": "2022-11-16T14:51:21.576Z"
   },
   {
    "duration": 5,
    "start_time": "2022-11-16T14:51:29.828Z"
   },
   {
    "duration": 5,
    "start_time": "2022-11-16T14:51:36.237Z"
   },
   {
    "duration": 5,
    "start_time": "2022-11-16T14:51:40.027Z"
   },
   {
    "duration": 5,
    "start_time": "2022-11-16T15:04:18.283Z"
   },
   {
    "duration": 4,
    "start_time": "2022-11-16T15:04:28.105Z"
   },
   {
    "duration": 4,
    "start_time": "2022-11-16T15:04:36.425Z"
   },
   {
    "duration": 5,
    "start_time": "2022-11-16T15:04:38.905Z"
   },
   {
    "duration": 342,
    "start_time": "2022-11-16T15:05:39.835Z"
   },
   {
    "duration": 5,
    "start_time": "2022-11-16T15:08:33.294Z"
   },
   {
    "duration": 5,
    "start_time": "2022-11-16T15:08:38.313Z"
   },
   {
    "duration": 13,
    "start_time": "2022-11-16T15:08:49.804Z"
   },
   {
    "duration": 16,
    "start_time": "2022-11-16T15:12:24.804Z"
   },
   {
    "duration": 35,
    "start_time": "2022-11-16T15:18:08.748Z"
   },
   {
    "duration": 124,
    "start_time": "2022-11-16T15:20:57.941Z"
   },
   {
    "duration": 184,
    "start_time": "2022-11-16T15:21:04.483Z"
   },
   {
    "duration": 174,
    "start_time": "2022-11-16T15:21:40.431Z"
   },
   {
    "duration": 9,
    "start_time": "2022-11-16T15:28:06.211Z"
   },
   {
    "duration": 8,
    "start_time": "2022-11-16T15:28:51.783Z"
   },
   {
    "duration": 8,
    "start_time": "2022-11-16T15:29:31.687Z"
   },
   {
    "duration": 8,
    "start_time": "2022-11-16T15:29:39.061Z"
   },
   {
    "duration": 39,
    "start_time": "2022-11-16T15:33:55.508Z"
   },
   {
    "duration": 1049,
    "start_time": "2022-11-16T15:34:18.849Z"
   },
   {
    "duration": 1090,
    "start_time": "2022-11-16T15:34:25.371Z"
   },
   {
    "duration": 39,
    "start_time": "2022-11-16T15:34:39.670Z"
   },
   {
    "duration": 254,
    "start_time": "2022-11-16T15:35:07.699Z"
   },
   {
    "duration": 38,
    "start_time": "2022-11-16T16:15:17.402Z"
   },
   {
    "duration": 20,
    "start_time": "2022-11-16T16:20:23.751Z"
   },
   {
    "duration": 71,
    "start_time": "2022-11-16T16:21:20.321Z"
   },
   {
    "duration": 2,
    "start_time": "2022-11-16T16:21:24.703Z"
   },
   {
    "duration": 22,
    "start_time": "2022-11-16T16:21:29.990Z"
   },
   {
    "duration": 23,
    "start_time": "2022-11-16T16:22:13.950Z"
   },
   {
    "duration": 494,
    "start_time": "2022-11-16T16:23:10.320Z"
   },
   {
    "duration": 45,
    "start_time": "2022-11-16T16:23:18.464Z"
   },
   {
    "duration": 21,
    "start_time": "2022-11-16T16:23:44.731Z"
   },
   {
    "duration": 477,
    "start_time": "2022-11-16T16:24:16.550Z"
   },
   {
    "duration": 402,
    "start_time": "2022-11-16T16:25:49.686Z"
   },
   {
    "duration": 452,
    "start_time": "2022-11-16T16:28:32.569Z"
   },
   {
    "duration": 10,
    "start_time": "2022-11-16T16:29:14.763Z"
   },
   {
    "duration": 437,
    "start_time": "2022-11-16T16:58:38.644Z"
   },
   {
    "duration": 451,
    "start_time": "2022-11-16T17:00:21.055Z"
   },
   {
    "duration": 531,
    "start_time": "2022-11-16T17:03:24.180Z"
   },
   {
    "duration": 332,
    "start_time": "2022-11-16T17:11:02.401Z"
   },
   {
    "duration": 380,
    "start_time": "2022-11-16T17:26:36.439Z"
   },
   {
    "duration": 398,
    "start_time": "2022-11-16T17:27:07.828Z"
   },
   {
    "duration": 5,
    "start_time": "2022-11-16T17:27:53.429Z"
   },
   {
    "duration": 12,
    "start_time": "2022-11-16T17:28:15.829Z"
   },
   {
    "duration": 5,
    "start_time": "2022-11-16T17:28:48.949Z"
   },
   {
    "duration": 5,
    "start_time": "2022-11-16T17:31:07.618Z"
   },
   {
    "duration": 8,
    "start_time": "2022-11-16T17:32:25.427Z"
   },
   {
    "duration": 402,
    "start_time": "2022-11-16T17:33:01.948Z"
   },
   {
    "duration": 440,
    "start_time": "2022-11-16T17:33:49.375Z"
   },
   {
    "duration": 152,
    "start_time": "2022-11-16T17:36:02.938Z"
   },
   {
    "duration": 911,
    "start_time": "2022-11-16T17:37:49.777Z"
   },
   {
    "duration": 887,
    "start_time": "2022-11-16T17:38:16.777Z"
   },
   {
    "duration": 290,
    "start_time": "2022-11-16T17:53:54.924Z"
   },
   {
    "duration": 15,
    "start_time": "2022-11-16T17:55:19.644Z"
   },
   {
    "duration": 224,
    "start_time": "2022-11-16T17:56:09.703Z"
   },
   {
    "duration": 20,
    "start_time": "2022-11-16T17:56:21.373Z"
   },
   {
    "duration": 73,
    "start_time": "2022-11-16T17:56:54.734Z"
   },
   {
    "duration": 41,
    "start_time": "2022-11-16T17:56:58.844Z"
   },
   {
    "duration": 229,
    "start_time": "2022-11-16T17:57:05.173Z"
   },
   {
    "duration": 45,
    "start_time": "2022-11-16T17:57:23.224Z"
   },
   {
    "duration": 30,
    "start_time": "2022-11-16T17:58:14.462Z"
   },
   {
    "duration": 267,
    "start_time": "2022-11-16T17:58:19.122Z"
   },
   {
    "duration": 6,
    "start_time": "2022-11-16T17:58:52.692Z"
   },
   {
    "duration": 384,
    "start_time": "2022-11-16T17:58:54.533Z"
   },
   {
    "duration": 15,
    "start_time": "2022-11-16T17:59:04.702Z"
   },
   {
    "duration": 233,
    "start_time": "2022-11-16T17:59:08.932Z"
   },
   {
    "duration": 6,
    "start_time": "2022-11-16T17:59:36.772Z"
   },
   {
    "duration": 413,
    "start_time": "2022-11-16T17:59:38.553Z"
   },
   {
    "duration": 6,
    "start_time": "2022-11-16T18:01:01.063Z"
   },
   {
    "duration": 444,
    "start_time": "2022-11-16T18:01:03.682Z"
   },
   {
    "duration": 246,
    "start_time": "2022-11-16T18:01:54.512Z"
   },
   {
    "duration": 251,
    "start_time": "2022-11-16T19:42:25.795Z"
   },
   {
    "duration": 150,
    "start_time": "2022-11-16T19:42:45.589Z"
   },
   {
    "duration": 112,
    "start_time": "2022-11-16T19:43:12.101Z"
   },
   {
    "duration": 115,
    "start_time": "2022-11-16T19:43:28.792Z"
   },
   {
    "duration": 114,
    "start_time": "2022-11-16T19:43:32.291Z"
   },
   {
    "duration": 116,
    "start_time": "2022-11-16T19:47:25.470Z"
   },
   {
    "duration": 130,
    "start_time": "2022-11-16T19:47:36.731Z"
   },
   {
    "duration": 128,
    "start_time": "2022-11-16T19:47:48.950Z"
   },
   {
    "duration": 142,
    "start_time": "2022-11-16T19:48:14.071Z"
   },
   {
    "duration": 10,
    "start_time": "2022-11-16T19:49:56.692Z"
   },
   {
    "duration": 162,
    "start_time": "2022-11-16T19:50:03.561Z"
   },
   {
    "duration": 145,
    "start_time": "2022-11-16T19:50:22.790Z"
   },
   {
    "duration": 206,
    "start_time": "2022-11-16T19:50:45.689Z"
   },
   {
    "duration": 140,
    "start_time": "2022-11-16T19:51:00.960Z"
   },
   {
    "duration": 219,
    "start_time": "2022-11-16T19:52:21.589Z"
   },
   {
    "duration": 16,
    "start_time": "2022-11-16T19:52:29.892Z"
   },
   {
    "duration": 209,
    "start_time": "2022-11-16T19:52:41.229Z"
   },
   {
    "duration": 40,
    "start_time": "2022-11-16T19:53:24.983Z"
   },
   {
    "duration": 1231,
    "start_time": "2022-11-16T19:54:01.539Z"
   },
   {
    "duration": 139,
    "start_time": "2022-11-16T19:54:16.349Z"
   },
   {
    "duration": 353,
    "start_time": "2022-11-16T19:55:04.750Z"
   },
   {
    "duration": 180,
    "start_time": "2022-11-16T19:55:22.338Z"
   },
   {
    "duration": 150,
    "start_time": "2022-11-16T19:55:32.051Z"
   },
   {
    "duration": 168,
    "start_time": "2022-11-16T19:55:39.749Z"
   },
   {
    "duration": 112,
    "start_time": "2022-11-16T19:58:14.428Z"
   },
   {
    "duration": 267,
    "start_time": "2022-11-16T19:58:54.068Z"
   },
   {
    "duration": 215,
    "start_time": "2022-11-16T20:00:59.928Z"
   },
   {
    "duration": 165,
    "start_time": "2022-11-16T20:01:32.691Z"
   },
   {
    "duration": 169,
    "start_time": "2022-11-16T20:09:12.517Z"
   },
   {
    "duration": 164,
    "start_time": "2022-11-16T20:09:22.016Z"
   },
   {
    "duration": 191,
    "start_time": "2022-11-16T20:09:50.926Z"
   },
   {
    "duration": 162,
    "start_time": "2022-11-16T20:10:02.116Z"
   },
   {
    "duration": 167,
    "start_time": "2022-11-16T20:10:14.736Z"
   },
   {
    "duration": 191,
    "start_time": "2022-11-16T20:10:44.496Z"
   },
   {
    "duration": 143,
    "start_time": "2022-11-16T20:17:13.204Z"
   },
   {
    "duration": 153,
    "start_time": "2022-11-16T20:17:45.945Z"
   },
   {
    "duration": 144,
    "start_time": "2022-11-16T20:18:16.314Z"
   },
   {
    "duration": 145,
    "start_time": "2022-11-16T20:18:34.865Z"
   },
   {
    "duration": 43,
    "start_time": "2022-11-17T08:48:57.968Z"
   },
   {
    "duration": 629,
    "start_time": "2022-11-17T08:49:11.517Z"
   },
   {
    "duration": 14,
    "start_time": "2022-11-17T08:49:18.947Z"
   },
   {
    "duration": 14,
    "start_time": "2022-11-17T08:49:20.670Z"
   },
   {
    "duration": 1120,
    "start_time": "2022-11-17T08:49:22.037Z"
   },
   {
    "duration": 34,
    "start_time": "2022-11-17T08:49:23.159Z"
   },
   {
    "duration": 98,
    "start_time": "2022-11-17T08:49:24.377Z"
   },
   {
    "duration": 9,
    "start_time": "2022-11-17T08:49:25.087Z"
   },
   {
    "duration": 15,
    "start_time": "2022-11-17T08:49:26.917Z"
   },
   {
    "duration": 18,
    "start_time": "2022-11-17T08:49:27.928Z"
   },
   {
    "duration": 7,
    "start_time": "2022-11-17T08:49:28.887Z"
   },
   {
    "duration": 5,
    "start_time": "2022-11-17T08:49:29.737Z"
   },
   {
    "duration": 20,
    "start_time": "2022-11-17T08:49:30.797Z"
   },
   {
    "duration": 20,
    "start_time": "2022-11-17T08:49:32.047Z"
   },
   {
    "duration": 31270,
    "start_time": "2022-11-17T08:49:32.617Z"
   },
   {
    "duration": 15,
    "start_time": "2022-11-17T08:50:03.889Z"
   },
   {
    "duration": 9,
    "start_time": "2022-11-17T08:50:09.058Z"
   },
   {
    "duration": 13,
    "start_time": "2022-11-17T08:50:10.328Z"
   },
   {
    "duration": 4,
    "start_time": "2022-11-17T08:50:11.237Z"
   },
   {
    "duration": 5,
    "start_time": "2022-11-17T08:50:12.107Z"
   },
   {
    "duration": 18,
    "start_time": "2022-11-17T08:50:13.187Z"
   },
   {
    "duration": 5,
    "start_time": "2022-11-17T08:50:14.517Z"
   },
   {
    "duration": 5,
    "start_time": "2022-11-17T08:50:15.038Z"
   },
   {
    "duration": 7,
    "start_time": "2022-11-17T08:50:15.588Z"
   },
   {
    "duration": 4,
    "start_time": "2022-11-17T08:50:16.677Z"
   },
   {
    "duration": 5,
    "start_time": "2022-11-17T08:50:17.197Z"
   },
   {
    "duration": 16,
    "start_time": "2022-11-17T08:50:18.227Z"
   },
   {
    "duration": 409,
    "start_time": "2022-11-17T08:50:19.957Z"
   },
   {
    "duration": 155,
    "start_time": "2022-11-17T08:50:20.897Z"
   },
   {
    "duration": 12,
    "start_time": "2022-11-17T08:50:22.257Z"
   },
   {
    "duration": 879,
    "start_time": "2022-11-17T08:50:23.898Z"
   },
   {
    "duration": 5,
    "start_time": "2022-11-17T08:50:24.937Z"
   },
   {
    "duration": 406,
    "start_time": "2022-11-17T08:50:26.207Z"
   },
   {
    "duration": 214,
    "start_time": "2022-11-17T08:50:28.148Z"
   },
   {
    "duration": 128,
    "start_time": "2022-11-17T08:50:29.677Z"
   },
   {
    "duration": 134,
    "start_time": "2022-11-17T08:50:30.989Z"
   },
   {
    "duration": 109,
    "start_time": "2022-11-17T08:50:32.057Z"
   },
   {
    "duration": 115,
    "start_time": "2022-11-17T08:50:33.287Z"
   },
   {
    "duration": 159,
    "start_time": "2022-11-17T08:50:34.618Z"
   },
   {
    "duration": 11,
    "start_time": "2022-11-17T08:50:36.957Z"
   },
   {
    "duration": 16,
    "start_time": "2022-11-17T10:01:22.223Z"
   },
   {
    "duration": 10,
    "start_time": "2022-11-17T10:01:28.464Z"
   },
   {
    "duration": 47,
    "start_time": "2022-11-17T10:01:30.354Z"
   },
   {
    "duration": 120,
    "start_time": "2022-11-17T10:01:43.583Z"
   },
   {
    "duration": 203,
    "start_time": "2022-11-17T10:01:58.694Z"
   },
   {
    "duration": 14,
    "start_time": "2022-11-17T10:03:48.303Z"
   },
   {
    "duration": 143,
    "start_time": "2022-11-17T10:04:14.922Z"
   },
   {
    "duration": 218,
    "start_time": "2022-11-17T10:04:26.303Z"
   },
   {
    "duration": 14,
    "start_time": "2022-11-17T10:04:33.855Z"
   },
   {
    "duration": 52,
    "start_time": "2022-11-17T10:04:54.476Z"
   },
   {
    "duration": 179,
    "start_time": "2022-11-17T10:05:04.055Z"
   },
   {
    "duration": 174,
    "start_time": "2022-11-17T10:05:15.083Z"
   },
   {
    "duration": 17,
    "start_time": "2022-11-17T10:05:51.973Z"
   },
   {
    "duration": 189,
    "start_time": "2022-11-17T10:05:59.962Z"
   },
   {
    "duration": 175,
    "start_time": "2022-11-17T10:06:14.443Z"
   },
   {
    "duration": 27,
    "start_time": "2022-11-17T10:16:21.381Z"
   },
   {
    "duration": 166,
    "start_time": "2022-11-17T10:16:29.421Z"
   },
   {
    "duration": 157,
    "start_time": "2022-11-17T10:21:16.769Z"
   },
   {
    "duration": 174,
    "start_time": "2022-11-17T10:30:52.151Z"
   },
   {
    "duration": 163,
    "start_time": "2022-11-17T10:42:12.350Z"
   },
   {
    "duration": 173,
    "start_time": "2022-11-17T10:45:11.215Z"
   },
   {
    "duration": 142,
    "start_time": "2022-11-17T10:51:47.884Z"
   },
   {
    "duration": 445,
    "start_time": "2022-11-17T10:55:02.634Z"
   },
   {
    "duration": 164,
    "start_time": "2022-11-17T10:55:14.163Z"
   },
   {
    "duration": 126,
    "start_time": "2022-11-17T11:01:39.832Z"
   },
   {
    "duration": 366,
    "start_time": "2022-11-17T11:02:22.902Z"
   },
   {
    "duration": 13,
    "start_time": "2022-11-17T11:13:49.059Z"
   },
   {
    "duration": 856,
    "start_time": "2022-11-17T11:15:16.499Z"
   },
   {
    "duration": 1018,
    "start_time": "2022-11-17T11:15:23.439Z"
   },
   {
    "duration": 6,
    "start_time": "2022-11-17T11:15:31.929Z"
   },
   {
    "duration": 9,
    "start_time": "2022-11-17T11:15:55.399Z"
   },
   {
    "duration": 12,
    "start_time": "2022-11-17T11:18:37.068Z"
   },
   {
    "duration": 8,
    "start_time": "2022-11-17T11:19:20.374Z"
   },
   {
    "duration": 5,
    "start_time": "2022-11-17T11:20:47.048Z"
   },
   {
    "duration": 11,
    "start_time": "2022-11-17T11:21:03.819Z"
   },
   {
    "duration": 917,
    "start_time": "2022-11-17T11:25:14.538Z"
   },
   {
    "duration": 10,
    "start_time": "2022-11-17T11:25:26.317Z"
   },
   {
    "duration": 11,
    "start_time": "2022-11-17T14:04:59.474Z"
   },
   {
    "duration": 512,
    "start_time": "2022-11-17T17:56:12.336Z"
   },
   {
    "duration": 16,
    "start_time": "2022-11-17T17:56:12.849Z"
   },
   {
    "duration": 18,
    "start_time": "2022-11-17T17:56:12.866Z"
   },
   {
    "duration": 1117,
    "start_time": "2022-11-17T17:56:12.886Z"
   },
   {
    "duration": 120,
    "start_time": "2022-11-17T17:56:14.005Z"
   },
   {
    "duration": 67,
    "start_time": "2022-11-17T17:56:14.127Z"
   },
   {
    "duration": 27,
    "start_time": "2022-11-17T17:56:14.196Z"
   },
   {
    "duration": 17,
    "start_time": "2022-11-17T17:56:14.226Z"
   },
   {
    "duration": 34,
    "start_time": "2022-11-17T17:56:14.245Z"
   },
   {
    "duration": 10,
    "start_time": "2022-11-17T17:56:14.282Z"
   },
   {
    "duration": 8,
    "start_time": "2022-11-17T17:56:14.294Z"
   },
   {
    "duration": 32,
    "start_time": "2022-11-17T17:56:14.304Z"
   },
   {
    "duration": 19,
    "start_time": "2022-11-17T17:56:14.337Z"
   },
   {
    "duration": 32760,
    "start_time": "2022-11-17T17:56:14.357Z"
   },
   {
    "duration": 16,
    "start_time": "2022-11-17T17:56:47.121Z"
   },
   {
    "duration": 11,
    "start_time": "2022-11-17T17:56:47.139Z"
   },
   {
    "duration": 16,
    "start_time": "2022-11-17T17:56:47.151Z"
   },
   {
    "duration": 3,
    "start_time": "2022-11-17T17:56:47.169Z"
   },
   {
    "duration": 6,
    "start_time": "2022-11-17T17:56:47.174Z"
   },
   {
    "duration": 43,
    "start_time": "2022-11-17T17:56:47.182Z"
   },
   {
    "duration": 5,
    "start_time": "2022-11-17T17:56:47.228Z"
   },
   {
    "duration": 8,
    "start_time": "2022-11-17T17:56:47.234Z"
   },
   {
    "duration": 8,
    "start_time": "2022-11-17T17:56:47.243Z"
   },
   {
    "duration": 9,
    "start_time": "2022-11-17T17:56:47.252Z"
   },
   {
    "duration": 9,
    "start_time": "2022-11-17T17:56:47.262Z"
   },
   {
    "duration": 23,
    "start_time": "2022-11-17T17:56:47.273Z"
   },
   {
    "duration": 474,
    "start_time": "2022-11-17T17:56:47.297Z"
   },
   {
    "duration": 171,
    "start_time": "2022-11-17T17:56:47.774Z"
   },
   {
    "duration": 10,
    "start_time": "2022-11-17T17:56:47.947Z"
   },
   {
    "duration": 975,
    "start_time": "2022-11-17T17:56:47.959Z"
   },
   {
    "duration": 5,
    "start_time": "2022-11-17T17:56:48.936Z"
   },
   {
    "duration": 389,
    "start_time": "2022-11-17T17:56:48.943Z"
   },
   {
    "duration": 234,
    "start_time": "2022-11-17T17:56:49.333Z"
   },
   {
    "duration": 145,
    "start_time": "2022-11-17T17:56:49.569Z"
   },
   {
    "duration": 145,
    "start_time": "2022-11-17T17:56:49.722Z"
   },
   {
    "duration": 129,
    "start_time": "2022-11-17T17:56:49.869Z"
   },
   {
    "duration": 137,
    "start_time": "2022-11-17T17:56:50.000Z"
   },
   {
    "duration": 186,
    "start_time": "2022-11-17T17:56:50.139Z"
   },
   {
    "duration": 198,
    "start_time": "2022-11-17T17:56:50.327Z"
   },
   {
    "duration": 198,
    "start_time": "2022-11-17T17:56:50.527Z"
   },
   {
    "duration": 540,
    "start_time": "2022-11-17T17:56:50.727Z"
   },
   {
    "duration": 404,
    "start_time": "2022-11-17T17:56:51.322Z"
   },
   {
    "duration": 395,
    "start_time": "2022-11-17T17:56:51.727Z"
   },
   {
    "duration": 333,
    "start_time": "2022-11-17T17:56:52.124Z"
   },
   {
    "duration": 483,
    "start_time": "2022-11-17T17:56:52.458Z"
   },
   {
    "duration": 9,
    "start_time": "2022-11-17T17:56:52.943Z"
   },
   {
    "duration": 11,
    "start_time": "2022-11-17T17:56:52.954Z"
   },
   {
    "duration": 510,
    "start_time": "2022-11-17T17:59:03.808Z"
   },
   {
    "duration": 14,
    "start_time": "2022-11-17T17:59:04.320Z"
   },
   {
    "duration": 21,
    "start_time": "2022-11-17T17:59:04.335Z"
   },
   {
    "duration": 1015,
    "start_time": "2022-11-17T17:59:04.358Z"
   },
   {
    "duration": 29,
    "start_time": "2022-11-17T17:59:05.375Z"
   },
   {
    "duration": 63,
    "start_time": "2022-11-17T17:59:05.406Z"
   },
   {
    "duration": 9,
    "start_time": "2022-11-17T17:59:05.471Z"
   },
   {
    "duration": 18,
    "start_time": "2022-11-17T17:59:05.482Z"
   },
   {
    "duration": 32,
    "start_time": "2022-11-17T17:59:05.501Z"
   },
   {
    "duration": 7,
    "start_time": "2022-11-17T17:59:05.537Z"
   },
   {
    "duration": 6,
    "start_time": "2022-11-17T17:59:05.546Z"
   },
   {
    "duration": 20,
    "start_time": "2022-11-17T17:59:05.554Z"
   },
   {
    "duration": 51,
    "start_time": "2022-11-17T17:59:05.576Z"
   },
   {
    "duration": 31553,
    "start_time": "2022-11-17T17:59:05.629Z"
   },
   {
    "duration": 15,
    "start_time": "2022-11-17T17:59:37.183Z"
   },
   {
    "duration": 13,
    "start_time": "2022-11-17T17:59:37.200Z"
   },
   {
    "duration": 17,
    "start_time": "2022-11-17T17:59:37.214Z"
   },
   {
    "duration": 15,
    "start_time": "2022-11-17T17:59:37.232Z"
   },
   {
    "duration": 12,
    "start_time": "2022-11-17T17:59:37.248Z"
   },
   {
    "duration": 20,
    "start_time": "2022-11-17T17:59:37.262Z"
   },
   {
    "duration": 5,
    "start_time": "2022-11-17T17:59:37.284Z"
   },
   {
    "duration": 6,
    "start_time": "2022-11-17T17:59:37.291Z"
   },
   {
    "duration": 26,
    "start_time": "2022-11-17T17:59:37.299Z"
   },
   {
    "duration": 6,
    "start_time": "2022-11-17T17:59:37.327Z"
   },
   {
    "duration": 6,
    "start_time": "2022-11-17T17:59:37.335Z"
   },
   {
    "duration": 19,
    "start_time": "2022-11-17T17:59:37.342Z"
   },
   {
    "duration": 431,
    "start_time": "2022-11-17T17:59:37.362Z"
   },
   {
    "duration": 162,
    "start_time": "2022-11-17T17:59:37.796Z"
   },
   {
    "duration": 8,
    "start_time": "2022-11-17T17:59:37.959Z"
   },
   {
    "duration": 890,
    "start_time": "2022-11-17T17:59:37.968Z"
   },
   {
    "duration": 6,
    "start_time": "2022-11-17T17:59:38.860Z"
   },
   {
    "duration": 398,
    "start_time": "2022-11-17T17:59:38.867Z"
   },
   {
    "duration": 224,
    "start_time": "2022-11-17T17:59:39.266Z"
   },
   {
    "duration": 146,
    "start_time": "2022-11-17T17:59:39.492Z"
   },
   {
    "duration": 138,
    "start_time": "2022-11-17T17:59:39.640Z"
   },
   {
    "duration": 142,
    "start_time": "2022-11-17T17:59:39.779Z"
   },
   {
    "duration": 126,
    "start_time": "2022-11-17T17:59:39.923Z"
   },
   {
    "duration": 187,
    "start_time": "2022-11-17T17:59:40.051Z"
   },
   {
    "duration": 211,
    "start_time": "2022-11-17T17:59:40.240Z"
   },
   {
    "duration": 191,
    "start_time": "2022-11-17T17:59:40.453Z"
   },
   {
    "duration": 202,
    "start_time": "2022-11-17T17:59:40.646Z"
   },
   {
    "duration": 288,
    "start_time": "2022-11-17T17:59:40.850Z"
   },
   {
    "duration": 189,
    "start_time": "2022-11-17T17:59:41.140Z"
   },
   {
    "duration": 190,
    "start_time": "2022-11-17T17:59:41.332Z"
   },
   {
    "duration": 425,
    "start_time": "2022-11-17T17:59:41.523Z"
   },
   {
    "duration": 10,
    "start_time": "2022-11-17T17:59:41.949Z"
   },
   {
    "duration": 13,
    "start_time": "2022-11-17T17:59:41.961Z"
   },
   {
    "duration": 533,
    "start_time": "2022-11-18T10:02:16.225Z"
   },
   {
    "duration": 17,
    "start_time": "2022-11-18T10:02:16.760Z"
   },
   {
    "duration": 27,
    "start_time": "2022-11-18T10:02:16.779Z"
   },
   {
    "duration": 1244,
    "start_time": "2022-11-18T10:02:16.808Z"
   },
   {
    "duration": 108,
    "start_time": "2022-11-18T10:02:18.055Z"
   },
   {
    "duration": 92,
    "start_time": "2022-11-18T10:02:18.165Z"
   },
   {
    "duration": 24,
    "start_time": "2022-11-18T10:02:18.260Z"
   },
   {
    "duration": 26,
    "start_time": "2022-11-18T10:02:18.286Z"
   },
   {
    "duration": 29,
    "start_time": "2022-11-18T10:02:18.314Z"
   },
   {
    "duration": 9,
    "start_time": "2022-11-18T10:02:18.345Z"
   },
   {
    "duration": 6,
    "start_time": "2022-11-18T10:02:18.377Z"
   },
   {
    "duration": 30,
    "start_time": "2022-11-18T10:02:18.385Z"
   },
   {
    "duration": 22,
    "start_time": "2022-11-18T10:02:18.417Z"
   },
   {
    "duration": 38226,
    "start_time": "2022-11-18T10:02:18.445Z"
   },
   {
    "duration": 19,
    "start_time": "2022-11-18T10:02:56.673Z"
   },
   {
    "duration": 18,
    "start_time": "2022-11-18T10:02:56.694Z"
   },
   {
    "duration": 15,
    "start_time": "2022-11-18T10:02:56.714Z"
   },
   {
    "duration": 5,
    "start_time": "2022-11-18T10:02:56.730Z"
   },
   {
    "duration": 8,
    "start_time": "2022-11-18T10:02:56.737Z"
   },
   {
    "duration": 49,
    "start_time": "2022-11-18T10:02:56.747Z"
   },
   {
    "duration": 6,
    "start_time": "2022-11-18T10:02:56.798Z"
   },
   {
    "duration": 9,
    "start_time": "2022-11-18T10:02:56.806Z"
   },
   {
    "duration": 17,
    "start_time": "2022-11-18T10:02:56.817Z"
   },
   {
    "duration": 8,
    "start_time": "2022-11-18T10:02:56.836Z"
   },
   {
    "duration": 9,
    "start_time": "2022-11-18T10:02:56.846Z"
   },
   {
    "duration": 39,
    "start_time": "2022-11-18T10:02:56.857Z"
   },
   {
    "duration": 526,
    "start_time": "2022-11-18T10:02:56.898Z"
   },
   {
    "duration": 170,
    "start_time": "2022-11-18T10:02:57.426Z"
   },
   {
    "duration": 10,
    "start_time": "2022-11-18T10:02:57.598Z"
   },
   {
    "duration": 1076,
    "start_time": "2022-11-18T10:02:57.610Z"
   },
   {
    "duration": 5,
    "start_time": "2022-11-18T10:02:58.688Z"
   },
   {
    "duration": 368,
    "start_time": "2022-11-18T10:02:58.695Z"
   },
   {
    "duration": 296,
    "start_time": "2022-11-18T10:02:59.066Z"
   },
   {
    "duration": 166,
    "start_time": "2022-11-18T10:02:59.365Z"
   },
   {
    "duration": 175,
    "start_time": "2022-11-18T10:02:59.533Z"
   },
   {
    "duration": 151,
    "start_time": "2022-11-18T10:02:59.711Z"
   },
   {
    "duration": 154,
    "start_time": "2022-11-18T10:02:59.865Z"
   },
   {
    "duration": 209,
    "start_time": "2022-11-18T10:03:00.022Z"
   },
   {
    "duration": 217,
    "start_time": "2022-11-18T10:03:00.234Z"
   },
   {
    "duration": 231,
    "start_time": "2022-11-18T10:03:00.453Z"
   },
   {
    "duration": 308,
    "start_time": "2022-11-18T10:03:00.689Z"
   },
   {
    "duration": 253,
    "start_time": "2022-11-18T10:03:00.999Z"
   },
   {
    "duration": 211,
    "start_time": "2022-11-18T10:03:01.254Z"
   },
   {
    "duration": 219,
    "start_time": "2022-11-18T10:03:01.467Z"
   },
   {
    "duration": 470,
    "start_time": "2022-11-18T10:03:01.689Z"
   },
   {
    "duration": 18,
    "start_time": "2022-11-18T10:03:02.161Z"
   },
   {
    "duration": 25,
    "start_time": "2022-11-18T10:03:02.181Z"
   },
   {
    "duration": 68,
    "start_time": "2022-11-18T10:12:29.472Z"
   },
   {
    "duration": 23,
    "start_time": "2022-11-18T10:12:29.543Z"
   },
   {
    "duration": 25,
    "start_time": "2022-11-18T10:12:29.568Z"
   },
   {
    "duration": 824,
    "start_time": "2022-11-18T10:12:29.595Z"
   },
   {
    "duration": 38,
    "start_time": "2022-11-18T10:12:30.421Z"
   },
   {
    "duration": 32,
    "start_time": "2022-11-18T10:12:30.460Z"
   },
   {
    "duration": 11,
    "start_time": "2022-11-18T10:12:30.494Z"
   },
   {
    "duration": 58,
    "start_time": "2022-11-18T10:12:30.507Z"
   },
   {
    "duration": 35,
    "start_time": "2022-11-18T10:12:30.568Z"
   },
   {
    "duration": 13,
    "start_time": "2022-11-18T10:12:30.606Z"
   },
   {
    "duration": 21,
    "start_time": "2022-11-18T10:12:30.621Z"
   },
   {
    "duration": 39,
    "start_time": "2022-11-18T10:12:30.644Z"
   },
   {
    "duration": 37,
    "start_time": "2022-11-18T10:12:30.685Z"
   },
   {
    "duration": 39,
    "start_time": "2022-11-18T10:12:30.724Z"
   },
   {
    "duration": 17,
    "start_time": "2022-11-18T10:12:37.636Z"
   },
   {
    "duration": 15,
    "start_time": "2022-11-18T10:12:39.156Z"
   },
   {
    "duration": 5,
    "start_time": "2022-11-18T10:13:09.114Z"
   },
   {
    "duration": 58,
    "start_time": "2022-11-18T10:13:20.073Z"
   },
   {
    "duration": 16,
    "start_time": "2022-11-18T10:13:20.133Z"
   },
   {
    "duration": 22,
    "start_time": "2022-11-18T10:13:20.151Z"
   },
   {
    "duration": 897,
    "start_time": "2022-11-18T10:13:20.178Z"
   },
   {
    "duration": 35,
    "start_time": "2022-11-18T10:13:21.077Z"
   },
   {
    "duration": 17,
    "start_time": "2022-11-18T10:13:21.114Z"
   },
   {
    "duration": 10,
    "start_time": "2022-11-18T10:13:21.132Z"
   },
   {
    "duration": 44,
    "start_time": "2022-11-18T10:13:21.144Z"
   },
   {
    "duration": 15,
    "start_time": "2022-11-18T10:13:21.190Z"
   },
   {
    "duration": 11,
    "start_time": "2022-11-18T10:13:21.207Z"
   },
   {
    "duration": 7,
    "start_time": "2022-11-18T10:13:21.220Z"
   },
   {
    "duration": 50,
    "start_time": "2022-11-18T10:13:21.229Z"
   },
   {
    "duration": 18,
    "start_time": "2022-11-18T10:13:21.281Z"
   },
   {
    "duration": 7,
    "start_time": "2022-11-18T10:13:21.301Z"
   },
   {
    "duration": 23,
    "start_time": "2022-11-18T10:13:21.309Z"
   },
   {
    "duration": 4,
    "start_time": "2022-11-18T10:13:21.334Z"
   },
   {
    "duration": 482,
    "start_time": "2022-11-18T10:13:32.717Z"
   },
   {
    "duration": 16,
    "start_time": "2022-11-18T10:13:33.202Z"
   },
   {
    "duration": 20,
    "start_time": "2022-11-18T10:13:33.220Z"
   },
   {
    "duration": 1096,
    "start_time": "2022-11-18T10:13:33.242Z"
   },
   {
    "duration": 30,
    "start_time": "2022-11-18T10:13:34.340Z"
   },
   {
    "duration": 101,
    "start_time": "2022-11-18T10:13:34.377Z"
   },
   {
    "duration": 14,
    "start_time": "2022-11-18T10:13:34.480Z"
   },
   {
    "duration": 36,
    "start_time": "2022-11-18T10:13:34.496Z"
   },
   {
    "duration": 23,
    "start_time": "2022-11-18T10:13:34.534Z"
   },
   {
    "duration": 18,
    "start_time": "2022-11-18T10:13:34.559Z"
   },
   {
    "duration": 15,
    "start_time": "2022-11-18T10:13:34.579Z"
   },
   {
    "duration": 36,
    "start_time": "2022-11-18T10:13:34.596Z"
   },
   {
    "duration": 40,
    "start_time": "2022-11-18T10:13:34.634Z"
   },
   {
    "duration": 25,
    "start_time": "2022-11-18T10:13:34.676Z"
   },
   {
    "duration": 36,
    "start_time": "2022-11-18T10:13:34.703Z"
   },
   {
    "duration": 4,
    "start_time": "2022-11-18T10:13:34.740Z"
   },
   {
    "duration": 36667,
    "start_time": "2022-11-18T10:13:34.746Z"
   },
   {
    "duration": 16,
    "start_time": "2022-11-18T10:14:11.415Z"
   },
   {
    "duration": 12,
    "start_time": "2022-11-18T10:14:11.433Z"
   },
   {
    "duration": 32,
    "start_time": "2022-11-18T10:14:11.447Z"
   },
   {
    "duration": 5,
    "start_time": "2022-11-18T10:14:11.481Z"
   },
   {
    "duration": 14,
    "start_time": "2022-11-18T10:14:11.487Z"
   },
   {
    "duration": 21,
    "start_time": "2022-11-18T10:14:11.503Z"
   },
   {
    "duration": 6,
    "start_time": "2022-11-18T10:14:11.526Z"
   },
   {
    "duration": 10,
    "start_time": "2022-11-18T10:14:11.533Z"
   },
   {
    "duration": 34,
    "start_time": "2022-11-18T10:14:11.545Z"
   },
   {
    "duration": 12,
    "start_time": "2022-11-18T10:14:11.581Z"
   },
   {
    "duration": 7,
    "start_time": "2022-11-18T10:14:11.597Z"
   },
   {
    "duration": 23,
    "start_time": "2022-11-18T10:14:11.606Z"
   },
   {
    "duration": 523,
    "start_time": "2022-11-18T10:14:11.631Z"
   },
   {
    "duration": 159,
    "start_time": "2022-11-18T10:14:12.155Z"
   },
   {
    "duration": 10,
    "start_time": "2022-11-18T10:14:12.316Z"
   },
   {
    "duration": 988,
    "start_time": "2022-11-18T10:14:12.327Z"
   },
   {
    "duration": 5,
    "start_time": "2022-11-18T10:14:13.316Z"
   },
   {
    "duration": 425,
    "start_time": "2022-11-18T10:14:13.323Z"
   },
   {
    "duration": 276,
    "start_time": "2022-11-18T10:14:13.750Z"
   },
   {
    "duration": 214,
    "start_time": "2022-11-18T10:14:14.028Z"
   },
   {
    "duration": 167,
    "start_time": "2022-11-18T10:14:14.244Z"
   },
   {
    "duration": 141,
    "start_time": "2022-11-18T10:14:14.413Z"
   },
   {
    "duration": 144,
    "start_time": "2022-11-18T10:14:14.556Z"
   },
   {
    "duration": 200,
    "start_time": "2022-11-18T10:14:14.702Z"
   },
   {
    "duration": 223,
    "start_time": "2022-11-18T10:14:14.904Z"
   },
   {
    "duration": 189,
    "start_time": "2022-11-18T10:14:15.128Z"
   },
   {
    "duration": 194,
    "start_time": "2022-11-18T10:14:15.319Z"
   },
   {
    "duration": 296,
    "start_time": "2022-11-18T10:14:15.515Z"
   },
   {
    "duration": 198,
    "start_time": "2022-11-18T10:14:15.812Z"
   },
   {
    "duration": 203,
    "start_time": "2022-11-18T10:14:16.012Z"
   },
   {
    "duration": 425,
    "start_time": "2022-11-18T10:14:16.217Z"
   },
   {
    "duration": 10,
    "start_time": "2022-11-18T10:14:16.644Z"
   },
   {
    "duration": 25,
    "start_time": "2022-11-18T10:14:16.655Z"
   },
   {
    "duration": 480,
    "start_time": "2022-11-18T10:14:44.200Z"
   },
   {
    "duration": 16,
    "start_time": "2022-11-18T10:14:44.682Z"
   },
   {
    "duration": 17,
    "start_time": "2022-11-18T10:14:44.699Z"
   },
   {
    "duration": 1066,
    "start_time": "2022-11-18T10:14:44.717Z"
   },
   {
    "duration": 33,
    "start_time": "2022-11-18T10:14:45.786Z"
   },
   {
    "duration": 67,
    "start_time": "2022-11-18T10:14:45.821Z"
   },
   {
    "duration": 10,
    "start_time": "2022-11-18T10:14:45.890Z"
   },
   {
    "duration": 21,
    "start_time": "2022-11-18T10:14:45.901Z"
   },
   {
    "duration": 14,
    "start_time": "2022-11-18T10:14:45.923Z"
   },
   {
    "duration": 8,
    "start_time": "2022-11-18T10:14:45.939Z"
   },
   {
    "duration": 31,
    "start_time": "2022-11-18T10:14:45.948Z"
   },
   {
    "duration": 21,
    "start_time": "2022-11-18T10:14:45.981Z"
   },
   {
    "duration": 75,
    "start_time": "2022-11-18T10:14:46.003Z"
   },
   {
    "duration": 8,
    "start_time": "2022-11-18T10:14:46.081Z"
   },
   {
    "duration": 19,
    "start_time": "2022-11-18T10:14:46.091Z"
   },
   {
    "duration": 5,
    "start_time": "2022-11-18T10:14:46.112Z"
   },
   {
    "duration": 37275,
    "start_time": "2022-11-18T10:14:46.119Z"
   },
   {
    "duration": 17,
    "start_time": "2022-11-18T10:15:23.395Z"
   },
   {
    "duration": 19,
    "start_time": "2022-11-18T10:15:23.413Z"
   },
   {
    "duration": 16,
    "start_time": "2022-11-18T10:15:23.434Z"
   },
   {
    "duration": 4,
    "start_time": "2022-11-18T10:15:23.452Z"
   },
   {
    "duration": 22,
    "start_time": "2022-11-18T10:15:23.457Z"
   },
   {
    "duration": 21,
    "start_time": "2022-11-18T10:15:23.480Z"
   },
   {
    "duration": 6,
    "start_time": "2022-11-18T10:15:23.503Z"
   },
   {
    "duration": 8,
    "start_time": "2022-11-18T10:15:23.511Z"
   },
   {
    "duration": 12,
    "start_time": "2022-11-18T10:15:23.521Z"
   },
   {
    "duration": 9,
    "start_time": "2022-11-18T10:15:23.535Z"
   },
   {
    "duration": 34,
    "start_time": "2022-11-18T10:15:23.546Z"
   },
   {
    "duration": 33,
    "start_time": "2022-11-18T10:15:23.582Z"
   },
   {
    "duration": 591,
    "start_time": "2022-11-18T10:15:23.618Z"
   },
   {
    "duration": 160,
    "start_time": "2022-11-18T10:15:24.211Z"
   },
   {
    "duration": 9,
    "start_time": "2022-11-18T10:15:24.373Z"
   },
   {
    "duration": 913,
    "start_time": "2022-11-18T10:15:24.384Z"
   },
   {
    "duration": 4,
    "start_time": "2022-11-18T10:15:25.299Z"
   },
   {
    "duration": 428,
    "start_time": "2022-11-18T10:15:25.304Z"
   },
   {
    "duration": 241,
    "start_time": "2022-11-18T10:15:25.734Z"
   },
   {
    "duration": 163,
    "start_time": "2022-11-18T10:15:25.978Z"
   },
   {
    "duration": 158,
    "start_time": "2022-11-18T10:15:26.143Z"
   },
   {
    "duration": 139,
    "start_time": "2022-11-18T10:15:26.302Z"
   },
   {
    "duration": 156,
    "start_time": "2022-11-18T10:15:26.443Z"
   },
   {
    "duration": 210,
    "start_time": "2022-11-18T10:15:26.603Z"
   },
   {
    "duration": 205,
    "start_time": "2022-11-18T10:15:26.814Z"
   },
   {
    "duration": 197,
    "start_time": "2022-11-18T10:15:27.021Z"
   },
   {
    "duration": 204,
    "start_time": "2022-11-18T10:15:27.220Z"
   },
   {
    "duration": 295,
    "start_time": "2022-11-18T10:15:27.426Z"
   },
   {
    "duration": 207,
    "start_time": "2022-11-18T10:15:27.723Z"
   },
   {
    "duration": 202,
    "start_time": "2022-11-18T10:15:27.932Z"
   },
   {
    "duration": 426,
    "start_time": "2022-11-18T10:15:28.135Z"
   },
   {
    "duration": 17,
    "start_time": "2022-11-18T10:15:28.562Z"
   },
   {
    "duration": 10,
    "start_time": "2022-11-18T10:15:28.581Z"
   },
   {
    "duration": 61,
    "start_time": "2022-11-18T10:15:56.052Z"
   },
   {
    "duration": 16,
    "start_time": "2022-11-18T10:15:56.116Z"
   },
   {
    "duration": 19,
    "start_time": "2022-11-18T10:15:56.135Z"
   },
   {
    "duration": 810,
    "start_time": "2022-11-18T10:15:56.156Z"
   },
   {
    "duration": 34,
    "start_time": "2022-11-18T10:15:56.967Z"
   },
   {
    "duration": 17,
    "start_time": "2022-11-18T10:15:57.003Z"
   },
   {
    "duration": 10,
    "start_time": "2022-11-18T10:15:57.022Z"
   },
   {
    "duration": 45,
    "start_time": "2022-11-18T10:15:57.034Z"
   },
   {
    "duration": 15,
    "start_time": "2022-11-18T10:15:57.080Z"
   },
   {
    "duration": 8,
    "start_time": "2022-11-18T10:15:57.098Z"
   },
   {
    "duration": 5,
    "start_time": "2022-11-18T10:15:57.108Z"
   },
   {
    "duration": 23,
    "start_time": "2022-11-18T10:15:57.115Z"
   },
   {
    "duration": 46,
    "start_time": "2022-11-18T10:15:57.140Z"
   },
   {
    "duration": 7,
    "start_time": "2022-11-18T10:15:57.187Z"
   },
   {
    "duration": 20,
    "start_time": "2022-11-18T10:15:57.195Z"
   },
   {
    "duration": 5,
    "start_time": "2022-11-18T10:15:57.217Z"
   },
   {
    "duration": 483,
    "start_time": "2022-11-18T10:17:13.134Z"
   },
   {
    "duration": 16,
    "start_time": "2022-11-18T10:17:13.619Z"
   },
   {
    "duration": 24,
    "start_time": "2022-11-18T10:17:13.637Z"
   },
   {
    "duration": 1164,
    "start_time": "2022-11-18T10:17:13.663Z"
   },
   {
    "duration": 35,
    "start_time": "2022-11-18T10:17:14.829Z"
   },
   {
    "duration": 93,
    "start_time": "2022-11-18T10:17:14.866Z"
   },
   {
    "duration": 29,
    "start_time": "2022-11-18T10:17:14.961Z"
   },
   {
    "duration": 47,
    "start_time": "2022-11-18T10:17:14.993Z"
   },
   {
    "duration": 19,
    "start_time": "2022-11-18T10:17:15.043Z"
   },
   {
    "duration": 15,
    "start_time": "2022-11-18T10:17:15.063Z"
   },
   {
    "duration": 13,
    "start_time": "2022-11-18T10:17:15.080Z"
   },
   {
    "duration": 26,
    "start_time": "2022-11-18T10:17:15.095Z"
   },
   {
    "duration": 33,
    "start_time": "2022-11-18T10:17:15.123Z"
   },
   {
    "duration": 37978,
    "start_time": "2022-11-18T10:17:15.159Z"
   },
   {
    "duration": 17,
    "start_time": "2022-11-18T10:17:53.139Z"
   },
   {
    "duration": 21,
    "start_time": "2022-11-18T10:17:53.158Z"
   },
   {
    "duration": 17,
    "start_time": "2022-11-18T10:17:53.180Z"
   },
   {
    "duration": 4,
    "start_time": "2022-11-18T10:17:53.199Z"
   },
   {
    "duration": 11,
    "start_time": "2022-11-18T10:17:53.205Z"
   },
   {
    "duration": 21,
    "start_time": "2022-11-18T10:17:53.217Z"
   },
   {
    "duration": 5,
    "start_time": "2022-11-18T10:17:53.240Z"
   },
   {
    "duration": 5,
    "start_time": "2022-11-18T10:17:53.279Z"
   },
   {
    "duration": 7,
    "start_time": "2022-11-18T10:17:53.286Z"
   },
   {
    "duration": 6,
    "start_time": "2022-11-18T10:17:53.295Z"
   },
   {
    "duration": 8,
    "start_time": "2022-11-18T10:17:53.303Z"
   },
   {
    "duration": 20,
    "start_time": "2022-11-18T10:17:53.313Z"
   },
   {
    "duration": 533,
    "start_time": "2022-11-18T10:17:53.335Z"
   },
   {
    "duration": 219,
    "start_time": "2022-11-18T10:17:53.870Z"
   },
   {
    "duration": 12,
    "start_time": "2022-11-18T10:17:54.091Z"
   },
   {
    "duration": 1014,
    "start_time": "2022-11-18T10:17:54.106Z"
   },
   {
    "duration": 5,
    "start_time": "2022-11-18T10:17:55.123Z"
   },
   {
    "duration": 487,
    "start_time": "2022-11-18T10:17:55.130Z"
   },
   {
    "duration": 272,
    "start_time": "2022-11-18T10:17:55.619Z"
   },
   {
    "duration": 185,
    "start_time": "2022-11-18T10:17:55.893Z"
   },
   {
    "duration": 167,
    "start_time": "2022-11-18T10:17:56.080Z"
   },
   {
    "duration": 155,
    "start_time": "2022-11-18T10:17:56.249Z"
   },
   {
    "duration": 178,
    "start_time": "2022-11-18T10:17:56.406Z"
   },
   {
    "duration": 215,
    "start_time": "2022-11-18T10:17:56.586Z"
   },
   {
    "duration": 236,
    "start_time": "2022-11-18T10:17:56.803Z"
   },
   {
    "duration": 205,
    "start_time": "2022-11-18T10:17:57.041Z"
   },
   {
    "duration": 221,
    "start_time": "2022-11-18T10:17:57.251Z"
   },
   {
    "duration": 335,
    "start_time": "2022-11-18T10:17:57.474Z"
   },
   {
    "duration": 215,
    "start_time": "2022-11-18T10:17:57.811Z"
   },
   {
    "duration": 276,
    "start_time": "2022-11-18T10:17:58.028Z"
   },
   {
    "duration": 458,
    "start_time": "2022-11-18T10:17:58.307Z"
   },
   {
    "duration": 18,
    "start_time": "2022-11-18T10:17:58.767Z"
   },
   {
    "duration": 12,
    "start_time": "2022-11-18T10:17:58.787Z"
   },
   {
    "duration": 1266,
    "start_time": "2022-11-18T13:28:19.450Z"
   },
   {
    "duration": 107,
    "start_time": "2022-11-18T13:28:21.791Z"
   },
   {
    "duration": 98,
    "start_time": "2022-11-18T13:28:44.300Z"
   },
   {
    "duration": 9,
    "start_time": "2022-11-18T13:28:50.820Z"
   },
   {
    "duration": 16,
    "start_time": "2022-11-18T13:29:00.520Z"
   },
   {
    "duration": 15,
    "start_time": "2022-11-18T13:29:08.550Z"
   },
   {
    "duration": 16,
    "start_time": "2022-11-18T13:40:26.237Z"
   },
   {
    "duration": 793,
    "start_time": "2022-11-18T13:40:29.398Z"
   },
   {
    "duration": 31,
    "start_time": "2022-11-18T13:40:35.607Z"
   },
   {
    "duration": 55,
    "start_time": "2022-11-18T13:40:38.388Z"
   },
   {
    "duration": 10,
    "start_time": "2022-11-18T13:40:42.517Z"
   },
   {
    "duration": 11,
    "start_time": "2022-11-18T13:43:26.746Z"
   },
   {
    "duration": 10,
    "start_time": "2022-11-18T13:43:35.127Z"
   },
   {
    "duration": 23,
    "start_time": "2022-11-18T13:48:32.855Z"
   },
   {
    "duration": 71,
    "start_time": "2022-11-18T13:50:06.205Z"
   },
   {
    "duration": 9,
    "start_time": "2022-11-18T13:50:11.325Z"
   },
   {
    "duration": 8,
    "start_time": "2022-11-18T13:52:40.184Z"
   },
   {
    "duration": 9,
    "start_time": "2022-11-18T13:52:48.264Z"
   },
   {
    "duration": 14,
    "start_time": "2022-11-18T13:53:39.034Z"
   },
   {
    "duration": 7,
    "start_time": "2022-11-18T14:06:59.491Z"
   },
   {
    "duration": 6,
    "start_time": "2022-11-18T14:07:21.461Z"
   },
   {
    "duration": 18,
    "start_time": "2022-11-18T14:07:24.561Z"
   },
   {
    "duration": 15,
    "start_time": "2022-11-18T14:07:37.821Z"
   },
   {
    "duration": 21,
    "start_time": "2022-11-18T14:15:34.219Z"
   },
   {
    "duration": 17,
    "start_time": "2022-11-18T14:23:33.107Z"
   },
   {
    "duration": 2,
    "start_time": "2022-11-18T14:23:40.578Z"
   },
   {
    "duration": 10,
    "start_time": "2022-11-18T14:23:49.167Z"
   },
   {
    "duration": 13,
    "start_time": "2022-11-18T14:24:02.977Z"
   },
   {
    "duration": 3,
    "start_time": "2022-11-18T14:24:48.337Z"
   },
   {
    "duration": 1331,
    "start_time": "2022-11-19T12:16:14.626Z"
   },
   {
    "duration": 111,
    "start_time": "2022-11-19T12:16:17.740Z"
   },
   {
    "duration": 16,
    "start_time": "2022-11-19T12:16:20.233Z"
   },
   {
    "duration": 16,
    "start_time": "2022-11-19T12:16:22.699Z"
   },
   {
    "duration": 750,
    "start_time": "2022-11-19T12:16:24.719Z"
   },
   {
    "duration": 29,
    "start_time": "2022-11-19T12:16:30.698Z"
   },
   {
    "duration": 58,
    "start_time": "2022-11-19T12:16:33.407Z"
   },
   {
    "duration": 10,
    "start_time": "2022-11-19T12:16:36.994Z"
   },
   {
    "duration": 10,
    "start_time": "2022-11-19T12:16:39.986Z"
   },
   {
    "duration": 9,
    "start_time": "2022-11-19T12:16:41.947Z"
   },
   {
    "duration": 14,
    "start_time": "2022-11-19T12:16:51.308Z"
   },
   {
    "duration": 9,
    "start_time": "2022-11-19T12:16:55.031Z"
   },
   {
    "duration": 6,
    "start_time": "2022-11-19T12:16:58.521Z"
   },
   {
    "duration": 23,
    "start_time": "2022-11-19T12:17:00.990Z"
   },
   {
    "duration": 17,
    "start_time": "2022-11-19T12:17:03.842Z"
   },
   {
    "duration": 11,
    "start_time": "2022-11-19T12:17:20.751Z"
   },
   {
    "duration": 13,
    "start_time": "2022-11-19T12:17:57.434Z"
   },
   {
    "duration": 6,
    "start_time": "2022-11-19T12:17:59.931Z"
   },
   {
    "duration": 4,
    "start_time": "2022-11-19T12:18:01.753Z"
   },
   {
    "duration": 20,
    "start_time": "2022-11-19T12:18:04.537Z"
   },
   {
    "duration": 5,
    "start_time": "2022-11-19T12:18:08.639Z"
   },
   {
    "duration": 5,
    "start_time": "2022-11-19T12:18:11.028Z"
   },
   {
    "duration": 5,
    "start_time": "2022-11-19T12:18:14.207Z"
   },
   {
    "duration": 6,
    "start_time": "2022-11-19T12:20:37.333Z"
   },
   {
    "duration": 5,
    "start_time": "2022-11-19T12:20:40.342Z"
   },
   {
    "duration": 18,
    "start_time": "2022-11-19T12:20:45.389Z"
   },
   {
    "duration": 100,
    "start_time": "2022-11-19T12:23:40.419Z"
   },
   {
    "duration": 154,
    "start_time": "2022-11-19T12:23:51.745Z"
   },
   {
    "duration": 154,
    "start_time": "2022-11-19T12:24:00.634Z"
   },
   {
    "duration": 12,
    "start_time": "2022-11-19T12:24:16.185Z"
   },
   {
    "duration": 4,
    "start_time": "2022-11-19T12:24:28.200Z"
   },
   {
    "duration": 152,
    "start_time": "2022-11-19T12:24:34.953Z"
   },
   {
    "duration": 272,
    "start_time": "2022-11-19T12:25:54.183Z"
   },
   {
    "duration": 169,
    "start_time": "2022-11-19T12:26:03.062Z"
   },
   {
    "duration": 183,
    "start_time": "2022-11-19T12:26:11.288Z"
   },
   {
    "duration": 184,
    "start_time": "2022-11-19T12:26:16.194Z"
   },
   {
    "duration": 177,
    "start_time": "2022-11-19T12:26:24.145Z"
   },
   {
    "duration": 173,
    "start_time": "2022-11-19T12:32:40.279Z"
   },
   {
    "duration": 6,
    "start_time": "2022-11-19T12:32:48.285Z"
   },
   {
    "duration": 148,
    "start_time": "2022-11-19T12:34:58.041Z"
   },
   {
    "duration": 832,
    "start_time": "2022-11-19T12:35:14.118Z"
   },
   {
    "duration": 13,
    "start_time": "2022-11-19T12:35:43.713Z"
   },
   {
    "duration": 7,
    "start_time": "2022-11-19T12:35:57.278Z"
   },
   {
    "duration": 11,
    "start_time": "2022-11-19T12:36:57.423Z"
   },
   {
    "duration": 12,
    "start_time": "2022-11-19T12:37:24.512Z"
   },
   {
    "duration": 10,
    "start_time": "2022-11-19T12:37:55.793Z"
   },
   {
    "duration": 6,
    "start_time": "2022-11-19T12:38:08.632Z"
   },
   {
    "duration": 10,
    "start_time": "2022-11-19T12:38:26.209Z"
   },
   {
    "duration": 10,
    "start_time": "2022-11-19T12:38:30.485Z"
   },
   {
    "duration": 8,
    "start_time": "2022-11-19T12:38:48.849Z"
   },
   {
    "duration": 7,
    "start_time": "2022-11-19T12:39:00.053Z"
   },
   {
    "duration": 10,
    "start_time": "2022-11-19T12:39:16.196Z"
   },
   {
    "duration": 12,
    "start_time": "2022-11-19T12:39:20.012Z"
   },
   {
    "duration": 20,
    "start_time": "2022-11-19T12:41:10.810Z"
   },
   {
    "duration": 30,
    "start_time": "2022-11-19T12:41:38.932Z"
   },
   {
    "duration": 10,
    "start_time": "2022-11-19T12:42:16.390Z"
   },
   {
    "duration": 7,
    "start_time": "2022-11-19T12:42:22.939Z"
   },
   {
    "duration": 12,
    "start_time": "2022-11-19T12:43:47.248Z"
   },
   {
    "duration": 12,
    "start_time": "2022-11-19T12:44:12.829Z"
   },
   {
    "duration": 9,
    "start_time": "2022-11-19T12:45:01.395Z"
   },
   {
    "duration": 157,
    "start_time": "2022-11-19T12:45:11.969Z"
   },
   {
    "duration": 10,
    "start_time": "2022-11-19T12:45:49.791Z"
   },
   {
    "duration": 143,
    "start_time": "2022-11-19T12:46:12.345Z"
   },
   {
    "duration": 171,
    "start_time": "2022-11-19T12:46:24.416Z"
   },
   {
    "duration": 166,
    "start_time": "2022-11-19T12:46:47.274Z"
   },
   {
    "duration": 24,
    "start_time": "2022-11-19T12:48:39.185Z"
   },
   {
    "duration": 21,
    "start_time": "2022-11-19T12:48:58.472Z"
   },
   {
    "duration": 20,
    "start_time": "2022-11-19T12:49:02.652Z"
   },
   {
    "duration": 18,
    "start_time": "2022-11-19T12:49:09.069Z"
   },
   {
    "duration": 264,
    "start_time": "2022-11-19T12:49:42.770Z"
   },
   {
    "duration": 169,
    "start_time": "2022-11-19T12:49:48.140Z"
   },
   {
    "duration": 238,
    "start_time": "2022-11-19T12:50:06.284Z"
   },
   {
    "duration": 1304,
    "start_time": "2022-11-20T10:47:00.212Z"
   },
   {
    "duration": 206,
    "start_time": "2022-11-20T10:47:03.192Z"
   },
   {
    "duration": 18,
    "start_time": "2022-11-20T10:47:07.327Z"
   },
   {
    "duration": 14,
    "start_time": "2022-11-20T10:47:10.702Z"
   },
   {
    "duration": 721,
    "start_time": "2022-11-20T10:47:13.849Z"
   },
   {
    "duration": 42,
    "start_time": "2022-11-20T10:47:14.572Z"
   },
   {
    "duration": 47,
    "start_time": "2022-11-20T10:47:18.077Z"
   },
   {
    "duration": 9,
    "start_time": "2022-11-20T10:47:19.517Z"
   },
   {
    "duration": 9,
    "start_time": "2022-11-20T10:47:23.255Z"
   },
   {
    "duration": 8,
    "start_time": "2022-11-20T10:47:24.299Z"
   },
   {
    "duration": 13,
    "start_time": "2022-11-20T10:47:26.376Z"
   },
   {
    "duration": 8,
    "start_time": "2022-11-20T10:47:28.616Z"
   },
   {
    "duration": 5,
    "start_time": "2022-11-20T10:47:29.932Z"
   },
   {
    "duration": 19,
    "start_time": "2022-11-20T10:47:34.216Z"
   },
   {
    "duration": 14,
    "start_time": "2022-11-20T10:47:35.707Z"
   },
   {
    "duration": 3,
    "start_time": "2022-11-20T10:47:36.898Z"
   },
   {
    "duration": 3,
    "start_time": "2022-11-20T10:47:38.482Z"
   },
   {
    "duration": 8,
    "start_time": "2022-11-20T10:47:39.903Z"
   },
   {
    "duration": 12,
    "start_time": "2022-11-20T10:47:43.342Z"
   },
   {
    "duration": 5,
    "start_time": "2022-11-20T10:47:45.057Z"
   },
   {
    "duration": 16,
    "start_time": "2022-11-20T10:47:46.168Z"
   },
   {
    "duration": 23,
    "start_time": "2022-11-20T10:47:47.350Z"
   },
   {
    "duration": 5,
    "start_time": "2022-11-20T10:47:48.883Z"
   },
   {
    "duration": 5,
    "start_time": "2022-11-20T10:47:49.445Z"
   },
   {
    "duration": 5,
    "start_time": "2022-11-20T10:47:49.891Z"
   },
   {
    "duration": 4,
    "start_time": "2022-11-20T10:47:51.286Z"
   },
   {
    "duration": 5,
    "start_time": "2022-11-20T10:47:51.937Z"
   },
   {
    "duration": 16,
    "start_time": "2022-11-20T10:47:52.887Z"
   },
   {
    "duration": 185,
    "start_time": "2022-11-20T10:48:01.143Z"
   },
   {
    "duration": 185,
    "start_time": "2022-11-20T10:49:02.208Z"
   },
   {
    "duration": 190,
    "start_time": "2022-11-20T10:49:08.194Z"
   },
   {
    "duration": 232,
    "start_time": "2022-11-20T10:50:23.174Z"
   },
   {
    "duration": 526,
    "start_time": "2022-11-20T11:03:07.616Z"
   },
   {
    "duration": 171,
    "start_time": "2022-11-20T11:08:56.207Z"
   },
   {
    "duration": 205,
    "start_time": "2022-11-20T11:09:10.037Z"
   },
   {
    "duration": 114,
    "start_time": "2022-11-20T11:13:16.118Z"
   },
   {
    "duration": 121,
    "start_time": "2022-11-20T11:15:08.691Z"
   },
   {
    "duration": 114,
    "start_time": "2022-11-20T11:15:31.882Z"
   },
   {
    "duration": 104,
    "start_time": "2022-11-20T11:15:39.750Z"
   },
   {
    "duration": 166,
    "start_time": "2022-11-20T11:18:04.417Z"
   },
   {
    "duration": 161,
    "start_time": "2022-11-20T11:18:11.730Z"
   },
   {
    "duration": 196,
    "start_time": "2022-11-20T11:21:15.440Z"
   },
   {
    "duration": 8,
    "start_time": "2022-11-20T11:21:21.726Z"
   },
   {
    "duration": 130,
    "start_time": "2022-11-20T11:22:48.185Z"
   },
   {
    "duration": 110,
    "start_time": "2022-11-20T11:24:42.590Z"
   },
   {
    "duration": 148,
    "start_time": "2022-11-20T11:25:01.310Z"
   },
   {
    "duration": 273,
    "start_time": "2022-11-20T11:25:24.207Z"
   },
   {
    "duration": 267,
    "start_time": "2022-11-20T11:25:42.767Z"
   },
   {
    "duration": 261,
    "start_time": "2022-11-20T11:25:55.289Z"
   },
   {
    "duration": 302,
    "start_time": "2022-11-20T11:26:07.279Z"
   },
   {
    "duration": 218,
    "start_time": "2022-11-20T11:26:20.603Z"
   },
   {
    "duration": 181,
    "start_time": "2022-11-20T11:26:31.463Z"
   },
   {
    "duration": 209,
    "start_time": "2022-11-20T11:28:56.546Z"
   },
   {
    "duration": 198,
    "start_time": "2022-11-20T11:30:11.612Z"
   },
   {
    "duration": 236,
    "start_time": "2022-11-20T11:30:32.982Z"
   },
   {
    "duration": 838,
    "start_time": "2022-11-20T11:32:26.109Z"
   },
   {
    "duration": 874,
    "start_time": "2022-11-20T11:33:27.420Z"
   },
   {
    "duration": 938,
    "start_time": "2022-11-20T11:33:34.507Z"
   },
   {
    "duration": 850,
    "start_time": "2022-11-20T11:34:24.741Z"
   },
   {
    "duration": 4,
    "start_time": "2022-11-20T11:41:27.739Z"
   },
   {
    "duration": 307,
    "start_time": "2022-11-20T11:41:30.257Z"
   },
   {
    "duration": 4,
    "start_time": "2022-11-20T11:41:40.204Z"
   },
   {
    "duration": 296,
    "start_time": "2022-11-20T11:41:43.332Z"
   },
   {
    "duration": 392,
    "start_time": "2022-11-20T11:42:49.263Z"
   },
   {
    "duration": 359,
    "start_time": "2022-11-20T11:42:56.456Z"
   },
   {
    "duration": 347,
    "start_time": "2022-11-20T11:43:02.582Z"
   },
   {
    "duration": 264,
    "start_time": "2022-11-20T11:43:45.310Z"
   },
   {
    "duration": 94,
    "start_time": "2022-11-20T11:43:57.079Z"
   },
   {
    "duration": 326,
    "start_time": "2022-11-20T11:44:03.139Z"
   },
   {
    "duration": 225,
    "start_time": "2022-11-20T11:44:13.819Z"
   },
   {
    "duration": 75,
    "start_time": "2022-11-20T11:45:53.784Z"
   },
   {
    "duration": 75,
    "start_time": "2022-11-20T11:45:58.398Z"
   },
   {
    "duration": 74,
    "start_time": "2022-11-20T11:46:41.562Z"
   },
   {
    "duration": 74,
    "start_time": "2022-11-20T11:46:44.688Z"
   },
   {
    "duration": 72,
    "start_time": "2022-11-20T11:46:47.908Z"
   },
   {
    "duration": 92,
    "start_time": "2022-11-20T11:47:01.174Z"
   },
   {
    "duration": 228,
    "start_time": "2022-11-20T11:47:44.931Z"
   },
   {
    "duration": 256,
    "start_time": "2022-11-20T11:47:49.621Z"
   },
   {
    "duration": 268,
    "start_time": "2022-11-20T11:48:12.607Z"
   },
   {
    "duration": 255,
    "start_time": "2022-11-20T11:48:16.578Z"
   },
   {
    "duration": 5,
    "start_time": "2022-11-20T11:48:50.757Z"
   },
   {
    "duration": 383,
    "start_time": "2022-11-20T11:48:53.724Z"
   },
   {
    "duration": 245,
    "start_time": "2022-11-20T11:49:03.612Z"
   },
   {
    "duration": 5,
    "start_time": "2022-11-20T11:49:20.916Z"
   },
   {
    "duration": 312,
    "start_time": "2022-11-20T11:49:22.758Z"
   },
   {
    "duration": 288,
    "start_time": "2022-11-20T11:49:27.511Z"
   },
   {
    "duration": 268,
    "start_time": "2022-11-20T11:50:41.729Z"
   },
   {
    "duration": 249,
    "start_time": "2022-11-20T11:50:54.724Z"
   },
   {
    "duration": 339,
    "start_time": "2022-11-20T11:51:12.334Z"
   },
   {
    "duration": 249,
    "start_time": "2022-11-20T11:51:25.157Z"
   },
   {
    "duration": 252,
    "start_time": "2022-11-20T11:51:50.206Z"
   },
   {
    "duration": 259,
    "start_time": "2022-11-20T11:52:56.358Z"
   },
   {
    "duration": 69,
    "start_time": "2022-11-20T11:57:24.927Z"
   },
   {
    "duration": 70,
    "start_time": "2022-11-20T11:57:31.298Z"
   },
   {
    "duration": 75,
    "start_time": "2022-11-20T11:58:05.564Z"
   },
   {
    "duration": 257,
    "start_time": "2022-11-20T11:58:13.030Z"
   },
   {
    "duration": 71,
    "start_time": "2022-11-20T11:58:20.478Z"
   },
   {
    "duration": 245,
    "start_time": "2022-11-20T11:58:29.062Z"
   },
   {
    "duration": 259,
    "start_time": "2022-11-20T11:58:37.505Z"
   },
   {
    "duration": 339,
    "start_time": "2022-11-20T11:58:52.393Z"
   },
   {
    "duration": 274,
    "start_time": "2022-11-20T11:59:01.146Z"
   },
   {
    "duration": 8,
    "start_time": "2022-11-20T12:01:10.470Z"
   },
   {
    "duration": 35,
    "start_time": "2022-11-20T12:01:16.624Z"
   },
   {
    "duration": 41,
    "start_time": "2022-11-20T12:01:39.417Z"
   },
   {
    "duration": 21,
    "start_time": "2022-11-20T12:01:58.674Z"
   },
   {
    "duration": 41,
    "start_time": "2022-11-20T12:02:06.520Z"
   },
   {
    "duration": 34,
    "start_time": "2022-11-20T12:02:21.380Z"
   },
   {
    "duration": 39,
    "start_time": "2022-11-20T12:02:26.365Z"
   },
   {
    "duration": 7,
    "start_time": "2022-11-20T12:02:42.044Z"
   },
   {
    "duration": 1106,
    "start_time": "2022-11-20T12:02:56.714Z"
   },
   {
    "duration": 39,
    "start_time": "2022-11-20T12:03:13.730Z"
   },
   {
    "duration": 264,
    "start_time": "2022-11-20T12:04:07.580Z"
   },
   {
    "duration": 259,
    "start_time": "2022-11-20T12:04:11.870Z"
   },
   {
    "duration": 246,
    "start_time": "2022-11-20T12:04:15.360Z"
   },
   {
    "duration": 383,
    "start_time": "2022-11-20T12:04:18.360Z"
   },
   {
    "duration": 258,
    "start_time": "2022-11-20T12:04:21.388Z"
   },
   {
    "duration": 250,
    "start_time": "2022-11-20T12:04:35.532Z"
   },
   {
    "duration": 147,
    "start_time": "2022-11-20T12:05:24.026Z"
   },
   {
    "duration": 136,
    "start_time": "2022-11-20T12:09:03.917Z"
   },
   {
    "duration": 134,
    "start_time": "2022-11-20T12:13:59.563Z"
   },
   {
    "duration": 129,
    "start_time": "2022-11-20T12:14:07.119Z"
   },
   {
    "duration": 147,
    "start_time": "2022-11-20T12:14:13.773Z"
   },
   {
    "duration": 143,
    "start_time": "2022-11-20T12:16:04.492Z"
   },
   {
    "duration": 155,
    "start_time": "2022-11-20T12:18:10.685Z"
   },
   {
    "duration": 168,
    "start_time": "2022-11-20T12:18:23.889Z"
   },
   {
    "duration": 202,
    "start_time": "2022-11-20T12:19:05.710Z"
   },
   {
    "duration": 181,
    "start_time": "2022-11-20T12:19:14.580Z"
   },
   {
    "duration": 161,
    "start_time": "2022-11-20T12:19:21.451Z"
   },
   {
    "duration": 305,
    "start_time": "2022-11-20T12:20:09.079Z"
   },
   {
    "duration": 169,
    "start_time": "2022-11-20T12:20:19.110Z"
   },
   {
    "duration": 169,
    "start_time": "2022-11-20T12:22:28.403Z"
   },
   {
    "duration": 161,
    "start_time": "2022-11-20T12:22:38.392Z"
   },
   {
    "duration": 157,
    "start_time": "2022-11-20T12:22:49.433Z"
   },
   {
    "duration": 158,
    "start_time": "2022-11-20T12:25:02.662Z"
   },
   {
    "duration": 153,
    "start_time": "2022-11-20T12:26:06.635Z"
   },
   {
    "duration": 143,
    "start_time": "2022-11-20T12:27:12.432Z"
   },
   {
    "duration": 162,
    "start_time": "2022-11-20T12:28:38.304Z"
   },
   {
    "duration": 16,
    "start_time": "2022-11-20T12:35:01.880Z"
   },
   {
    "duration": 128,
    "start_time": "2022-11-20T12:35:17.863Z"
   },
   {
    "duration": 217,
    "start_time": "2022-11-20T12:35:50.009Z"
   },
   {
    "duration": 25835,
    "start_time": "2022-11-20T12:37:14.495Z"
   },
   {
    "duration": 23352,
    "start_time": "2022-11-20T12:37:40.333Z"
   },
   {
    "duration": 23063,
    "start_time": "2022-11-20T12:38:25.334Z"
   },
   {
    "duration": 13,
    "start_time": "2022-11-20T12:41:30.699Z"
   },
   {
    "duration": 13,
    "start_time": "2022-11-20T12:41:55.912Z"
   },
   {
    "duration": 72,
    "start_time": "2022-11-20T12:42:03.810Z"
   },
   {
    "duration": 13,
    "start_time": "2022-11-20T12:42:06.724Z"
   },
   {
    "duration": 17,
    "start_time": "2022-11-20T12:42:29.006Z"
   },
   {
    "duration": 21,
    "start_time": "2022-11-20T12:42:39.457Z"
   },
   {
    "duration": 20,
    "start_time": "2022-11-20T12:42:44.596Z"
   },
   {
    "duration": 16,
    "start_time": "2022-11-20T12:42:51.249Z"
   },
   {
    "duration": 1570,
    "start_time": "2022-11-20T12:43:26.215Z"
   },
   {
    "duration": 19,
    "start_time": "2022-11-20T12:43:59.010Z"
   },
   {
    "duration": 13,
    "start_time": "2022-11-20T12:44:12.138Z"
   },
   {
    "duration": 168,
    "start_time": "2022-11-20T12:58:40.679Z"
   },
   {
    "duration": 174,
    "start_time": "2022-11-20T12:58:50.864Z"
   },
   {
    "duration": 178,
    "start_time": "2022-11-20T12:58:59.169Z"
   },
   {
    "duration": 74,
    "start_time": "2022-11-20T12:59:30.862Z"
   },
   {
    "duration": 66,
    "start_time": "2022-11-20T12:59:36.321Z"
   },
   {
    "duration": 75,
    "start_time": "2022-11-20T12:59:40.472Z"
   },
   {
    "duration": 177,
    "start_time": "2022-11-20T12:59:58.776Z"
   },
   {
    "duration": 204,
    "start_time": "2022-11-20T13:00:13.753Z"
   },
   {
    "duration": 174,
    "start_time": "2022-11-20T13:00:21.842Z"
   },
   {
    "duration": 183,
    "start_time": "2022-11-20T13:00:32.782Z"
   },
   {
    "duration": 178,
    "start_time": "2022-11-20T13:00:43.335Z"
   },
   {
    "duration": 181,
    "start_time": "2022-11-20T13:01:19.410Z"
   },
   {
    "duration": 219,
    "start_time": "2022-11-20T13:02:06.845Z"
   },
   {
    "duration": 76,
    "start_time": "2022-11-20T13:02:30.419Z"
   },
   {
    "duration": 206,
    "start_time": "2022-11-20T13:02:46.838Z"
   },
   {
    "duration": 196,
    "start_time": "2022-11-20T13:03:13.323Z"
   },
   {
    "duration": 531,
    "start_time": "2022-11-20T13:09:31.375Z"
   },
   {
    "duration": 13,
    "start_time": "2022-11-20T13:10:08.734Z"
   },
   {
    "duration": 368,
    "start_time": "2022-11-20T13:10:12.397Z"
   },
   {
    "duration": 358,
    "start_time": "2022-11-20T13:45:23.997Z"
   },
   {
    "duration": 7,
    "start_time": "2022-11-20T13:46:15.498Z"
   },
   {
    "duration": 7,
    "start_time": "2022-11-20T13:46:20.781Z"
   },
   {
    "duration": 8,
    "start_time": "2022-11-20T13:46:36.072Z"
   },
   {
    "duration": 405,
    "start_time": "2022-11-20T13:50:53.488Z"
   },
   {
    "duration": 10,
    "start_time": "2022-11-20T16:14:48.303Z"
   },
   {
    "duration": 168,
    "start_time": "2022-11-20T18:24:18.145Z"
   },
   {
    "duration": 155,
    "start_time": "2022-11-20T18:24:23.083Z"
   },
   {
    "duration": 160,
    "start_time": "2022-11-20T18:24:31.393Z"
   },
   {
    "duration": 172,
    "start_time": "2022-11-20T18:24:41.141Z"
   },
   {
    "duration": 4,
    "start_time": "2022-11-20T19:42:00.943Z"
   },
   {
    "duration": 21,
    "start_time": "2022-11-20T19:42:05.441Z"
   },
   {
    "duration": 14,
    "start_time": "2022-11-20T19:42:22.758Z"
   },
   {
    "duration": 75,
    "start_time": "2022-11-20T19:42:37.589Z"
   },
   {
    "duration": 73,
    "start_time": "2022-11-20T19:42:43.744Z"
   },
   {
    "duration": 23,
    "start_time": "2022-11-20T19:42:57.798Z"
   },
   {
    "duration": 21,
    "start_time": "2022-11-20T19:43:10.987Z"
   },
   {
    "duration": 23,
    "start_time": "2022-11-20T19:43:16.278Z"
   },
   {
    "duration": 20,
    "start_time": "2022-11-20T19:43:29.158Z"
   },
   {
    "duration": 12,
    "start_time": "2022-11-20T19:47:07.136Z"
   },
   {
    "duration": 20,
    "start_time": "2022-11-20T19:47:33.057Z"
   },
   {
    "duration": 19,
    "start_time": "2022-11-20T19:47:39.223Z"
   },
   {
    "duration": 19,
    "start_time": "2022-11-20T19:47:55.851Z"
   },
   {
    "duration": 24,
    "start_time": "2022-11-20T19:49:27.651Z"
   },
   {
    "duration": 25,
    "start_time": "2022-11-20T19:51:53.515Z"
   },
   {
    "duration": 24,
    "start_time": "2022-11-20T19:53:26.990Z"
   },
   {
    "duration": 61,
    "start_time": "2022-11-21T14:36:59.847Z"
   },
   {
    "duration": 53,
    "start_time": "2022-11-21T14:37:00.962Z"
   },
   {
    "duration": 1105,
    "start_time": "2022-11-21T14:46:57.268Z"
   },
   {
    "duration": 61,
    "start_time": "2022-11-21T14:46:58.374Z"
   },
   {
    "duration": 11,
    "start_time": "2022-11-21T14:46:58.437Z"
   },
   {
    "duration": 21,
    "start_time": "2022-11-21T14:46:58.451Z"
   },
   {
    "duration": 664,
    "start_time": "2022-11-21T14:46:58.474Z"
   },
   {
    "duration": 50,
    "start_time": "2022-11-21T14:46:59.140Z"
   },
   {
    "duration": 54,
    "start_time": "2022-11-21T14:46:59.192Z"
   },
   {
    "duration": 8,
    "start_time": "2022-11-21T14:46:59.248Z"
   },
   {
    "duration": 8,
    "start_time": "2022-11-21T14:46:59.277Z"
   },
   {
    "duration": 13,
    "start_time": "2022-11-21T14:46:59.288Z"
   },
   {
    "duration": 14,
    "start_time": "2022-11-21T14:46:59.302Z"
   },
   {
    "duration": 13,
    "start_time": "2022-11-21T14:46:59.317Z"
   },
   {
    "duration": 7,
    "start_time": "2022-11-21T14:46:59.332Z"
   },
   {
    "duration": 21,
    "start_time": "2022-11-21T14:46:59.340Z"
   },
   {
    "duration": 32,
    "start_time": "2022-11-21T14:46:59.362Z"
   },
   {
    "duration": 10,
    "start_time": "2022-11-21T14:46:59.396Z"
   },
   {
    "duration": 10,
    "start_time": "2022-11-21T14:46:59.407Z"
   },
   {
    "duration": 17,
    "start_time": "2022-11-21T14:46:59.418Z"
   },
   {
    "duration": 24,
    "start_time": "2022-11-21T14:46:59.437Z"
   },
   {
    "duration": 4,
    "start_time": "2022-11-21T14:46:59.462Z"
   },
   {
    "duration": 23,
    "start_time": "2022-11-21T14:46:59.468Z"
   },
   {
    "duration": 25,
    "start_time": "2022-11-21T14:46:59.493Z"
   },
   {
    "duration": 16,
    "start_time": "2022-11-21T14:46:59.520Z"
   },
   {
    "duration": 14,
    "start_time": "2022-11-21T14:46:59.538Z"
   },
   {
    "duration": 15,
    "start_time": "2022-11-21T14:46:59.554Z"
   },
   {
    "duration": 11,
    "start_time": "2022-11-21T14:46:59.571Z"
   },
   {
    "duration": 9,
    "start_time": "2022-11-21T14:46:59.583Z"
   },
   {
    "duration": 16,
    "start_time": "2022-11-21T14:46:59.595Z"
   },
   {
    "duration": 203,
    "start_time": "2022-11-21T14:46:59.613Z"
   },
   {
    "duration": 220,
    "start_time": "2022-11-21T14:46:59.817Z"
   },
   {
    "duration": 9,
    "start_time": "2022-11-21T14:47:00.038Z"
   },
   {
    "duration": 964,
    "start_time": "2022-11-21T14:47:00.048Z"
   },
   {
    "duration": 5,
    "start_time": "2022-11-21T14:47:01.013Z"
   },
   {
    "duration": 344,
    "start_time": "2022-11-21T14:47:01.019Z"
   },
   {
    "duration": 293,
    "start_time": "2022-11-21T14:47:01.365Z"
   },
   {
    "duration": 288,
    "start_time": "2022-11-21T14:47:01.660Z"
   },
   {
    "duration": 303,
    "start_time": "2022-11-21T14:47:01.950Z"
   },
   {
    "duration": 271,
    "start_time": "2022-11-21T14:47:21.020Z"
   },
   {
    "duration": 354,
    "start_time": "2022-11-21T14:48:18.112Z"
   },
   {
    "duration": 303,
    "start_time": "2022-11-21T14:48:37.358Z"
   },
   {
    "duration": 1192,
    "start_time": "2022-11-21T14:49:34.933Z"
   },
   {
    "duration": 96,
    "start_time": "2022-11-21T14:49:36.127Z"
   },
   {
    "duration": 20,
    "start_time": "2022-11-21T14:49:36.225Z"
   },
   {
    "duration": 37,
    "start_time": "2022-11-21T14:49:36.247Z"
   },
   {
    "duration": 794,
    "start_time": "2022-11-21T14:49:36.286Z"
   },
   {
    "duration": 27,
    "start_time": "2022-11-21T14:49:37.083Z"
   },
   {
    "duration": 65,
    "start_time": "2022-11-21T14:49:37.112Z"
   },
   {
    "duration": 8,
    "start_time": "2022-11-21T14:49:37.179Z"
   },
   {
    "duration": 30,
    "start_time": "2022-11-21T14:49:37.189Z"
   },
   {
    "duration": 12,
    "start_time": "2022-11-21T14:49:37.222Z"
   },
   {
    "duration": 14,
    "start_time": "2022-11-21T14:49:37.236Z"
   },
   {
    "duration": 19,
    "start_time": "2022-11-21T14:49:37.252Z"
   },
   {
    "duration": 7,
    "start_time": "2022-11-21T14:49:37.273Z"
   },
   {
    "duration": 22,
    "start_time": "2022-11-21T14:49:37.282Z"
   },
   {
    "duration": 31,
    "start_time": "2022-11-21T14:49:37.306Z"
   },
   {
    "duration": 23,
    "start_time": "2022-11-21T14:49:37.339Z"
   },
   {
    "duration": 5,
    "start_time": "2022-11-21T14:49:37.364Z"
   },
   {
    "duration": 11,
    "start_time": "2022-11-21T14:49:37.370Z"
   },
   {
    "duration": 13,
    "start_time": "2022-11-21T14:49:37.382Z"
   },
   {
    "duration": 3,
    "start_time": "2022-11-21T14:49:37.397Z"
   },
   {
    "duration": 7,
    "start_time": "2022-11-21T14:49:37.402Z"
   },
   {
    "duration": 20,
    "start_time": "2022-11-21T14:49:37.410Z"
   },
   {
    "duration": 4,
    "start_time": "2022-11-21T14:49:37.432Z"
   },
   {
    "duration": 40,
    "start_time": "2022-11-21T14:49:37.437Z"
   },
   {
    "duration": 4,
    "start_time": "2022-11-21T14:49:37.479Z"
   },
   {
    "duration": 6,
    "start_time": "2022-11-21T14:49:37.485Z"
   },
   {
    "duration": 6,
    "start_time": "2022-11-21T14:49:37.492Z"
   },
   {
    "duration": 20,
    "start_time": "2022-11-21T14:49:37.502Z"
   },
   {
    "duration": 233,
    "start_time": "2022-11-21T14:49:37.524Z"
   },
   {
    "duration": 220,
    "start_time": "2022-11-21T14:49:37.758Z"
   },
   {
    "duration": 8,
    "start_time": "2022-11-21T14:49:37.980Z"
   },
   {
    "duration": 889,
    "start_time": "2022-11-21T14:49:37.989Z"
   },
   {
    "duration": 4,
    "start_time": "2022-11-21T14:49:38.879Z"
   },
   {
    "duration": 313,
    "start_time": "2022-11-21T14:49:38.885Z"
   },
   {
    "duration": 271,
    "start_time": "2022-11-21T14:49:39.200Z"
   },
   {
    "duration": 283,
    "start_time": "2022-11-21T14:49:39.475Z"
   },
   {
    "duration": 270,
    "start_time": "2022-11-21T14:49:39.760Z"
   },
   {
    "duration": 47,
    "start_time": "2022-11-21T14:49:40.032Z"
   },
   {
    "duration": 171,
    "start_time": "2022-11-21T14:49:40.081Z"
   },
   {
    "duration": 147,
    "start_time": "2022-11-21T14:49:40.253Z"
   },
   {
    "duration": 154,
    "start_time": "2022-11-21T14:49:40.402Z"
   },
   {
    "duration": 255,
    "start_time": "2022-11-21T14:49:40.558Z"
   },
   {
    "duration": 155,
    "start_time": "2022-11-21T14:49:40.815Z"
   },
   {
    "duration": 156,
    "start_time": "2022-11-21T14:49:40.972Z"
   },
   {
    "duration": 24,
    "start_time": "2022-11-21T14:49:41.129Z"
   },
   {
    "duration": 201,
    "start_time": "2022-11-21T14:49:41.155Z"
   },
   {
    "duration": 178,
    "start_time": "2022-11-21T14:49:41.358Z"
   },
   {
    "duration": 189,
    "start_time": "2022-11-21T14:49:41.537Z"
   },
   {
    "duration": 220,
    "start_time": "2022-11-21T14:49:41.727Z"
   },
   {
    "duration": 213,
    "start_time": "2022-11-21T14:49:41.949Z"
   },
   {
    "duration": 195,
    "start_time": "2022-11-21T14:49:42.164Z"
   },
   {
    "duration": 6,
    "start_time": "2022-11-21T14:49:42.361Z"
   },
   {
    "duration": 473,
    "start_time": "2022-11-21T14:49:42.377Z"
   },
   {
    "duration": 7,
    "start_time": "2022-11-21T14:49:42.852Z"
   },
   {
    "duration": 42,
    "start_time": "2022-11-21T14:49:42.861Z"
   },
   {
    "duration": 22,
    "start_time": "2022-11-21T14:51:07.132Z"
   },
   {
    "duration": 14,
    "start_time": "2022-11-21T14:52:03.418Z"
   },
   {
    "duration": 105,
    "start_time": "2022-11-21T14:52:04.224Z"
   },
   {
    "duration": 1245,
    "start_time": "2022-11-21T14:53:14.151Z"
   },
   {
    "duration": 80,
    "start_time": "2022-11-21T14:53:15.399Z"
   },
   {
    "duration": 14,
    "start_time": "2022-11-21T14:53:15.481Z"
   },
   {
    "duration": 23,
    "start_time": "2022-11-21T14:53:15.496Z"
   },
   {
    "duration": 769,
    "start_time": "2022-11-21T14:53:15.522Z"
   },
   {
    "duration": 43,
    "start_time": "2022-11-21T14:53:16.294Z"
   },
   {
    "duration": 74,
    "start_time": "2022-11-21T14:53:16.340Z"
   },
   {
    "duration": 10,
    "start_time": "2022-11-21T14:53:16.416Z"
   },
   {
    "duration": 14,
    "start_time": "2022-11-21T14:53:16.428Z"
   },
   {
    "duration": 9,
    "start_time": "2022-11-21T14:53:16.443Z"
   },
   {
    "duration": 35,
    "start_time": "2022-11-21T14:53:16.453Z"
   },
   {
    "duration": 12,
    "start_time": "2022-11-21T14:53:16.489Z"
   },
   {
    "duration": 12,
    "start_time": "2022-11-21T14:53:16.502Z"
   },
   {
    "duration": 18,
    "start_time": "2022-11-21T14:53:16.517Z"
   },
   {
    "duration": 17,
    "start_time": "2022-11-21T14:53:16.537Z"
   },
   {
    "duration": 21,
    "start_time": "2022-11-21T14:53:16.556Z"
   },
   {
    "duration": 5,
    "start_time": "2022-11-21T14:53:16.578Z"
   },
   {
    "duration": 17,
    "start_time": "2022-11-21T14:53:16.584Z"
   },
   {
    "duration": 15,
    "start_time": "2022-11-21T14:53:16.603Z"
   },
   {
    "duration": 20,
    "start_time": "2022-11-21T14:53:16.620Z"
   },
   {
    "duration": 25,
    "start_time": "2022-11-21T14:53:16.642Z"
   },
   {
    "duration": 33,
    "start_time": "2022-11-21T14:53:16.669Z"
   },
   {
    "duration": 5,
    "start_time": "2022-11-21T14:53:16.704Z"
   },
   {
    "duration": 9,
    "start_time": "2022-11-21T14:53:16.711Z"
   },
   {
    "duration": 8,
    "start_time": "2022-11-21T14:53:16.721Z"
   },
   {
    "duration": 8,
    "start_time": "2022-11-21T14:53:16.730Z"
   },
   {
    "duration": 8,
    "start_time": "2022-11-21T14:53:16.739Z"
   },
   {
    "duration": 37,
    "start_time": "2022-11-21T14:53:16.748Z"
   },
   {
    "duration": 228,
    "start_time": "2022-11-21T14:53:16.787Z"
   },
   {
    "duration": 250,
    "start_time": "2022-11-21T14:53:17.016Z"
   },
   {
    "duration": 15,
    "start_time": "2022-11-21T14:53:17.268Z"
   },
   {
    "duration": 1046,
    "start_time": "2022-11-21T14:53:17.285Z"
   },
   {
    "duration": 6,
    "start_time": "2022-11-21T14:53:18.333Z"
   },
   {
    "duration": 329,
    "start_time": "2022-11-21T14:53:18.341Z"
   },
   {
    "duration": 269,
    "start_time": "2022-11-21T14:53:18.676Z"
   },
   {
    "duration": 31,
    "start_time": "2022-11-21T14:53:18.947Z"
   },
   {
    "duration": 292,
    "start_time": "2022-11-21T14:53:18.980Z"
   },
   {
    "duration": 12,
    "start_time": "2022-11-21T14:53:19.274Z"
   },
   {
    "duration": 114,
    "start_time": "2022-11-21T14:53:19.287Z"
   },
   {
    "duration": 0,
    "start_time": "2022-11-21T14:53:19.404Z"
   },
   {
    "duration": 0,
    "start_time": "2022-11-21T14:53:19.405Z"
   },
   {
    "duration": 0,
    "start_time": "2022-11-21T14:53:19.407Z"
   },
   {
    "duration": 0,
    "start_time": "2022-11-21T14:53:19.408Z"
   },
   {
    "duration": 0,
    "start_time": "2022-11-21T14:53:19.409Z"
   },
   {
    "duration": 0,
    "start_time": "2022-11-21T14:53:19.410Z"
   },
   {
    "duration": 0,
    "start_time": "2022-11-21T14:53:19.411Z"
   },
   {
    "duration": 0,
    "start_time": "2022-11-21T14:53:19.412Z"
   },
   {
    "duration": 0,
    "start_time": "2022-11-21T14:53:19.413Z"
   },
   {
    "duration": 0,
    "start_time": "2022-11-21T14:53:19.414Z"
   },
   {
    "duration": 0,
    "start_time": "2022-11-21T14:53:19.415Z"
   },
   {
    "duration": 0,
    "start_time": "2022-11-21T14:53:19.416Z"
   },
   {
    "duration": 0,
    "start_time": "2022-11-21T14:53:19.417Z"
   },
   {
    "duration": 0,
    "start_time": "2022-11-21T14:53:19.418Z"
   },
   {
    "duration": 0,
    "start_time": "2022-11-21T14:53:19.419Z"
   },
   {
    "duration": 0,
    "start_time": "2022-11-21T14:53:19.420Z"
   },
   {
    "duration": 0,
    "start_time": "2022-11-21T14:53:19.421Z"
   },
   {
    "duration": 0,
    "start_time": "2022-11-21T14:53:19.422Z"
   },
   {
    "duration": 0,
    "start_time": "2022-11-21T14:53:19.424Z"
   },
   {
    "duration": 1182,
    "start_time": "2022-11-21T14:54:04.624Z"
   },
   {
    "duration": 88,
    "start_time": "2022-11-21T14:54:05.808Z"
   },
   {
    "duration": 15,
    "start_time": "2022-11-21T14:54:05.897Z"
   },
   {
    "duration": 24,
    "start_time": "2022-11-21T14:54:05.914Z"
   },
   {
    "duration": 1052,
    "start_time": "2022-11-21T14:54:05.941Z"
   },
   {
    "duration": 82,
    "start_time": "2022-11-21T14:54:06.995Z"
   },
   {
    "duration": 108,
    "start_time": "2022-11-21T14:54:07.079Z"
   },
   {
    "duration": 9,
    "start_time": "2022-11-21T14:54:07.189Z"
   },
   {
    "duration": 14,
    "start_time": "2022-11-21T14:54:07.200Z"
   },
   {
    "duration": 70,
    "start_time": "2022-11-21T14:54:07.216Z"
   },
   {
    "duration": 25,
    "start_time": "2022-11-21T14:54:07.288Z"
   },
   {
    "duration": 63,
    "start_time": "2022-11-21T14:54:07.315Z"
   },
   {
    "duration": 10,
    "start_time": "2022-11-21T14:54:07.380Z"
   },
   {
    "duration": 83,
    "start_time": "2022-11-21T14:54:07.393Z"
   },
   {
    "duration": 14,
    "start_time": "2022-11-21T14:54:07.478Z"
   },
   {
    "duration": 8,
    "start_time": "2022-11-21T14:54:07.493Z"
   },
   {
    "duration": 5,
    "start_time": "2022-11-21T14:54:07.503Z"
   },
   {
    "duration": 12,
    "start_time": "2022-11-21T14:54:07.509Z"
   },
   {
    "duration": 62,
    "start_time": "2022-11-21T14:54:07.523Z"
   },
   {
    "duration": 4,
    "start_time": "2022-11-21T14:54:07.586Z"
   },
   {
    "duration": 8,
    "start_time": "2022-11-21T14:54:07.591Z"
   },
   {
    "duration": 24,
    "start_time": "2022-11-21T14:54:07.601Z"
   },
   {
    "duration": 5,
    "start_time": "2022-11-21T14:54:07.677Z"
   },
   {
    "duration": 26,
    "start_time": "2022-11-21T14:54:07.684Z"
   },
   {
    "duration": 27,
    "start_time": "2022-11-21T14:54:07.711Z"
   },
   {
    "duration": 41,
    "start_time": "2022-11-21T14:54:07.739Z"
   },
   {
    "duration": 8,
    "start_time": "2022-11-21T14:54:07.781Z"
   },
   {
    "duration": 24,
    "start_time": "2022-11-21T14:54:07.790Z"
   },
   {
    "duration": 462,
    "start_time": "2022-11-21T14:54:07.816Z"
   },
   {
    "duration": 317,
    "start_time": "2022-11-21T14:54:08.280Z"
   },
   {
    "duration": 9,
    "start_time": "2022-11-21T14:54:08.599Z"
   },
   {
    "duration": 891,
    "start_time": "2022-11-21T14:54:08.609Z"
   },
   {
    "duration": 5,
    "start_time": "2022-11-21T14:54:09.501Z"
   },
   {
    "duration": 338,
    "start_time": "2022-11-21T14:54:09.508Z"
   },
   {
    "duration": 273,
    "start_time": "2022-11-21T14:54:09.847Z"
   },
   {
    "duration": 247,
    "start_time": "2022-11-21T14:54:10.122Z"
   },
   {
    "duration": 257,
    "start_time": "2022-11-21T14:54:10.370Z"
   },
   {
    "duration": 48,
    "start_time": "2022-11-21T14:54:10.629Z"
   },
   {
    "duration": 167,
    "start_time": "2022-11-21T14:54:10.678Z"
   },
   {
    "duration": 160,
    "start_time": "2022-11-21T14:54:10.847Z"
   },
   {
    "duration": 150,
    "start_time": "2022-11-21T14:54:11.010Z"
   },
   {
    "duration": 244,
    "start_time": "2022-11-21T14:54:11.161Z"
   },
   {
    "duration": 171,
    "start_time": "2022-11-21T14:54:11.406Z"
   },
   {
    "duration": 175,
    "start_time": "2022-11-21T14:54:11.579Z"
   },
   {
    "duration": 37,
    "start_time": "2022-11-21T14:54:11.755Z"
   },
   {
    "duration": 195,
    "start_time": "2022-11-21T14:54:11.793Z"
   },
   {
    "duration": 205,
    "start_time": "2022-11-21T14:54:11.989Z"
   },
   {
    "duration": 184,
    "start_time": "2022-11-21T14:54:12.195Z"
   },
   {
    "duration": 227,
    "start_time": "2022-11-21T14:54:12.381Z"
   },
   {
    "duration": 218,
    "start_time": "2022-11-21T14:54:12.609Z"
   },
   {
    "duration": 229,
    "start_time": "2022-11-21T14:54:12.828Z"
   },
   {
    "duration": 6,
    "start_time": "2022-11-21T14:54:13.059Z"
   },
   {
    "duration": 539,
    "start_time": "2022-11-21T14:54:13.067Z"
   },
   {
    "duration": 10,
    "start_time": "2022-11-21T14:54:13.608Z"
   },
   {
    "duration": 15,
    "start_time": "2022-11-21T14:54:13.620Z"
   },
   {
    "duration": 265,
    "start_time": "2022-11-21T14:54:48.253Z"
   },
   {
    "duration": 26,
    "start_time": "2022-11-21T14:55:58.842Z"
   },
   {
    "duration": 7,
    "start_time": "2022-11-21T14:58:53.325Z"
   },
   {
    "duration": 1118,
    "start_time": "2022-11-21T14:58:59.971Z"
   },
   {
    "duration": 62,
    "start_time": "2022-11-21T14:59:01.090Z"
   },
   {
    "duration": 12,
    "start_time": "2022-11-21T14:59:01.153Z"
   },
   {
    "duration": 39,
    "start_time": "2022-11-21T14:59:01.167Z"
   },
   {
    "duration": 722,
    "start_time": "2022-11-21T14:59:01.208Z"
   },
   {
    "duration": 30,
    "start_time": "2022-11-21T14:59:01.932Z"
   },
   {
    "duration": 56,
    "start_time": "2022-11-21T14:59:01.976Z"
   },
   {
    "duration": 10,
    "start_time": "2022-11-21T14:59:02.033Z"
   },
   {
    "duration": 39,
    "start_time": "2022-11-21T14:59:02.044Z"
   },
   {
    "duration": 14,
    "start_time": "2022-11-21T14:59:02.087Z"
   },
   {
    "duration": 21,
    "start_time": "2022-11-21T14:59:02.102Z"
   },
   {
    "duration": 17,
    "start_time": "2022-11-21T14:59:02.124Z"
   },
   {
    "duration": 16,
    "start_time": "2022-11-21T14:59:02.142Z"
   },
   {
    "duration": 30,
    "start_time": "2022-11-21T14:59:02.159Z"
   },
   {
    "duration": 23,
    "start_time": "2022-11-21T14:59:02.191Z"
   },
   {
    "duration": 12,
    "start_time": "2022-11-21T14:59:02.215Z"
   },
   {
    "duration": 28,
    "start_time": "2022-11-21T14:59:02.229Z"
   },
   {
    "duration": 27,
    "start_time": "2022-11-21T14:59:02.259Z"
   },
   {
    "duration": 33,
    "start_time": "2022-11-21T14:59:02.287Z"
   },
   {
    "duration": 6,
    "start_time": "2022-11-21T14:59:02.322Z"
   },
   {
    "duration": 20,
    "start_time": "2022-11-21T14:59:02.330Z"
   },
   {
    "duration": 27,
    "start_time": "2022-11-21T14:59:02.352Z"
   },
   {
    "duration": 6,
    "start_time": "2022-11-21T14:59:02.388Z"
   },
   {
    "duration": 15,
    "start_time": "2022-11-21T14:59:02.396Z"
   },
   {
    "duration": 13,
    "start_time": "2022-11-21T14:59:02.412Z"
   },
   {
    "duration": 10,
    "start_time": "2022-11-21T14:59:02.427Z"
   },
   {
    "duration": 24,
    "start_time": "2022-11-21T14:59:02.439Z"
   },
   {
    "duration": 42,
    "start_time": "2022-11-21T14:59:02.468Z"
   },
   {
    "duration": 218,
    "start_time": "2022-11-21T14:59:02.511Z"
   },
   {
    "duration": 250,
    "start_time": "2022-11-21T14:59:02.730Z"
   },
   {
    "duration": 13,
    "start_time": "2022-11-21T14:59:02.983Z"
   },
   {
    "duration": 940,
    "start_time": "2022-11-21T14:59:02.998Z"
   },
   {
    "duration": 4,
    "start_time": "2022-11-21T14:59:03.940Z"
   },
   {
    "duration": 316,
    "start_time": "2022-11-21T14:59:03.945Z"
   },
   {
    "duration": 279,
    "start_time": "2022-11-21T14:59:04.262Z"
   },
   {
    "duration": 287,
    "start_time": "2022-11-21T14:59:04.542Z"
   },
   {
    "duration": 62,
    "start_time": "2022-11-21T14:59:04.831Z"
   },
   {
    "duration": 194,
    "start_time": "2022-11-21T14:59:04.896Z"
   },
   {
    "duration": 156,
    "start_time": "2022-11-21T14:59:05.091Z"
   },
   {
    "duration": 178,
    "start_time": "2022-11-21T14:59:05.249Z"
   },
   {
    "duration": 173,
    "start_time": "2022-11-21T14:59:05.429Z"
   },
   {
    "duration": 157,
    "start_time": "2022-11-21T14:59:05.604Z"
   },
   {
    "duration": 247,
    "start_time": "2022-11-21T14:59:05.763Z"
   },
   {
    "duration": 23,
    "start_time": "2022-11-21T14:59:06.011Z"
   },
   {
    "duration": 201,
    "start_time": "2022-11-21T14:59:06.036Z"
   },
   {
    "duration": 201,
    "start_time": "2022-11-21T14:59:06.238Z"
   },
   {
    "duration": 191,
    "start_time": "2022-11-21T14:59:06.440Z"
   },
   {
    "duration": 230,
    "start_time": "2022-11-21T14:59:06.633Z"
   },
   {
    "duration": 196,
    "start_time": "2022-11-21T14:59:06.864Z"
   },
   {
    "duration": 225,
    "start_time": "2022-11-21T14:59:07.062Z"
   },
   {
    "duration": 8,
    "start_time": "2022-11-21T14:59:07.290Z"
   },
   {
    "duration": 422,
    "start_time": "2022-11-21T14:59:07.300Z"
   },
   {
    "duration": 7,
    "start_time": "2022-11-21T14:59:07.724Z"
   },
   {
    "duration": 11,
    "start_time": "2022-11-21T14:59:07.733Z"
   }
  ],
  "kernelspec": {
   "display_name": "Python 3 (ipykernel)",
   "language": "python",
   "name": "python3"
  },
  "language_info": {
   "codemirror_mode": {
    "name": "ipython",
    "version": 3
   },
   "file_extension": ".py",
   "mimetype": "text/x-python",
   "name": "python",
   "nbconvert_exporter": "python",
   "pygments_lexer": "ipython3",
   "version": "3.9.12"
  },
  "toc": {
   "base_numbering": 1,
   "nav_menu": {},
   "number_sections": true,
   "sideBar": true,
   "skip_h1_title": true,
   "title_cell": "Table of Contents",
   "title_sidebar": "Contents",
   "toc_cell": false,
   "toc_position": {
    "height": "calc(100% - 180px)",
    "left": "10px",
    "top": "150px",
    "width": "266.391px"
   },
   "toc_section_display": true,
   "toc_window_display": false
  }
 },
 "nbformat": 4,
 "nbformat_minor": 2
}
